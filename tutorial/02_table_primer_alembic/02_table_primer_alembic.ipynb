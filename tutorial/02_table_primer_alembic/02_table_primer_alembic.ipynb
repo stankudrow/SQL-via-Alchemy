{
 "cells": [
  {
   "cell_type": "markdown",
   "metadata": {},
   "source": [
    "# Alembic Table Primer\n",
    "\n",
    "In this note the `alembic` database migration tool is introduced. Alembic is closely used with SQLAlchemy database toolkit for Python.\n",
    "\n",
    "Goals:\n",
    "\n",
    "- reproduce the previous tutorial in the context of alembic migrations;\n",
    "\n",
    "- moving from in-memory to file-oriented SQLite databases;\n",
    "\n",
    "**Attention**: this notebook uses the Python interpreter from the virtual environment. It is doable via selecting the kernel (programming language specific processes). Read more about kernles at the [Jupyter docs](https://docs.jupyter.org/en/latest/projects/kernels.html)."
   ]
  },
  {
   "cell_type": "markdown",
   "metadata": {},
   "source": [
    "## Table of Contents\n",
    "\n",
    "- [Installing Alembic](#installing-alembic)\n",
    "\n",
    "- [The Migration Environment](#the-migration-environment)\n",
    "\n",
    "- [The First Migration Script](#the-first-migration-script)\n",
    "\n",
    "- [The Second Migration Script](#the-second-migration-script)"
   ]
  },
  {
   "cell_type": "code",
   "execution_count": 1,
   "metadata": {},
   "outputs": [
    {
     "name": "stdout",
     "output_type": "stream",
     "text": [
      "SQLAlchemy version: 2.0.22\n"
     ]
    }
   ],
   "source": [
    "import sqlalchemy as sqla\n",
    "import sqlalchemy.ext.asyncio as asqla\n",
    "\n",
    "\n",
    "print(f\"SQLAlchemy version: {sqla.__version__}\")"
   ]
  },
  {
   "cell_type": "code",
   "execution_count": 2,
   "metadata": {},
   "outputs": [],
   "source": [
    "url = \"sqlite+aiosqlite:///db.sqlite\"\n",
    "\n",
    "async_engine = asqla.create_async_engine(url)"
   ]
  },
  {
   "cell_type": "markdown",
   "metadata": {},
   "source": [
    "### Installing Alembic\n",
    "\n",
    "Alembic installation (read more on [front matter page](https://alembic.sqlalchemy.org/en/latest/front.html)) is as simple as installing practically any Python package - just `pip`ping it down.\n",
    "\n",
    "```shell\n",
    "(sqla) ╭─<...@...> ~/Projects/SQL-via-Alchemy  ‹02_alembic*›\n",
    "╰─➤  pip3 install alembic\n",
    "Collecting alembic\n",
    "  Downloading alembic-1.12.1-py3-none-any.whl.metadata (7.3 kB)\n",
    "Requirement already satisfied: SQLAlchemy>=1.3.0 in ./sqla/lib/python3.10/site-packages (from alembic) (2.0.22)\n",
    "Collecting Mako (from alembic)\n",
    "  Downloading Mako-1.3.0-py3-none-any.whl.metadata (2.9 kB)\n",
    "Requirement already satisfied: typing-extensions>=4 in ./sqla/lib/python3.10/site-packages (from alembic) (4.8.0)\n",
    "Requirement already satisfied: greenlet!=0.4.17 in ./sqla/lib/python3.10/site-packages (from SQLAlchemy>=1.3.0->alembic) (3.0.0)\n",
    "Requirement already satisfied: MarkupSafe>=0.9.2 in ./sqla/lib/python3.10/site-packages (from Mako->alembic) (2.1.3)\n",
    "Downloading alembic-1.12.1-py3-none-any.whl (226 kB)\n",
    "   ━━━━━━━━━━━━━━━━━━━━━━━━━━━━━━━━━━━━━ 226.8/226.8 kB 2.1 MB/s eta 0:00:00\n",
    "Downloading Mako-1.3.0-py3-none-any.whl (78 kB)\n",
    "   ━━━━━━━━━━━━━━━━━━━━━━━━━━━━━━━━━━━━━━━ 78.6/78.6 kB 6.7 MB/s eta 0:00:00\n",
    "Installing collected packages: Mako, alembic\n",
    "Successfully installed Mako-1.3.0 alembic-1.12.1\n",
    "```"
   ]
  },
  {
   "cell_type": "markdown",
   "metadata": {},
   "source": [
    "### The Migration Environment\n",
    "\n",
    "The migration environment is a directory where the database migration scripts are stored. Database migrations, also known as schema migrations, or just migrations are sets of changes to modify the structure of the entities within a relational database (RDB). This means that a migration is a transition of an RDB from one state to another.\n",
    "\n",
    "Why care about migrations here and now? Because we can reproduce the previous note steps:\n",
    "\n",
    "- create a database and even populate it with data, but the latter seems to be discourageable - the first migration;\n",
    "\n",
    "- change the structure of the table created in the first migration and here we need to process saved data and pour them into the new table - the second migration;\n",
    "\n",
    "This is practical and that is the reason to care. This [article](https://www.prisma.io/dataguide/types/relational/what-are-database-migrations) helps in understanding migrations."
   ]
  },
  {
   "cell_type": "markdown",
   "metadata": {},
   "source": [
    "The first step is to initialise the migration environment."
   ]
  },
  {
   "cell_type": "code",
   "execution_count": 3,
   "metadata": {},
   "outputs": [
    {
     "name": "stdout",
     "output_type": "stream",
     "text": [
      "usage: alembic init [-h] [-t TEMPLATE] [--package] directory\n",
      "\n",
      "positional arguments:\n",
      "  directory             location of scripts directory\n",
      "\n",
      "options:\n",
      "  -h, --help            show this help message and exit\n",
      "  -t TEMPLATE, --template TEMPLATE\n",
      "                        Setup template for use with 'init'\n",
      "  --package             Write empty __init__.py files to the environment and\n",
      "                        version locations\n"
     ]
    }
   ],
   "source": [
    "%%bash\n",
    "alembic init --help"
   ]
  },
  {
   "cell_type": "markdown",
   "metadata": {},
   "source": [
    "The major part is choosing a template for the project migration environment structure."
   ]
  },
  {
   "cell_type": "code",
   "execution_count": 4,
   "metadata": {},
   "outputs": [
    {
     "name": "stdout",
     "output_type": "stream",
     "text": [
      "Available templates:\n",
      "\n",
      "generic - Generic single-database configuration.\n",
      "multidb - Rudimentary multi-database configuration.\n",
      "async - Generic single-database configuration with an async dbapi.\n",
      "\n",
      "Templates are used via the 'init' command, e.g.:\n",
      "\n",
      "  alembic init --template generic ./scripts\n"
     ]
    }
   ],
   "source": [
    "%%bash\n",
    "alembic list_templates"
   ]
  },
  {
   "cell_type": "markdown",
   "metadata": {},
   "source": [
    "Nice, and it is so kind to give a useful piece of advice."
   ]
  },
  {
   "cell_type": "code",
   "execution_count": 5,
   "metadata": {},
   "outputs": [
    {
     "name": "stdout",
     "output_type": "stream",
     "text": [
      "env: MIG_DIR=./migenv\n",
      "env: DB_FILE=./db.sqlite\n"
     ]
    }
   ],
   "source": [
    "%env MIG_DIR=./migenv\n",
    "%env DB_FILE=./db.sqlite"
   ]
  },
  {
   "cell_type": "code",
   "execution_count": 6,
   "metadata": {},
   "outputs": [
    {
     "name": "stdout",
     "output_type": "stream",
     "text": [
      "Migration directory:  ./migenv\n",
      "Creating directory '/home/stankudrow/Projects/SQL-via-Alchemy/tutorial/02_table_primer_alembic/migenv' ...  done\n",
      "Creating directory '/home/stankudrow/Projects/SQL-via-Alchemy/tutorial/02_table_primer_alembic/migenv/versions' ...  done\n",
      "File '/home/stankudrow/Projects/SQL-via-Alchemy/tutorial/02_table_primer_alembic/alembic.ini' already exists, skipping\n",
      "Generating /home/stankudrow/Projects/SQL-via-Alchemy/tutorial/02_table_primer_alembic/migenv/script.py.mako ...  done\n",
      "Generating /home/stankudrow/Projects/SQL-via-Alchemy/tutorial/02_table_primer_alembic/migenv/README ...  done\n",
      "Generating /home/stankudrow/Projects/SQL-via-Alchemy/tutorial/02_table_primer_alembic/migenv/env.py ...  done\n",
      "Please edit configuration/connection/logging settings in '/home/stankudrow/Projects/SQL-via-Alchemy/tutorial/02_table_primer_alembic/alembic.ini' before proceeding.\n"
     ]
    }
   ],
   "source": [
    "%%bash\n",
    "echo \"Migration directory: \" ${MIG_DIR}\n",
    "rm -rf ${MIG_DIR}\n",
    "rm -rf ${DB_FILE}\n",
    "\n",
    "alembic init --template async ${MIG_DIR}"
   ]
  },
  {
   "cell_type": "markdown",
   "metadata": {},
   "source": [
    "Listing the contents of this note directory must show the following files (directories are also files, at least in Linux, no idea about Windows):\n",
    "\n",
    "- migration environment configuration file - `alembic.ini`\n",
    "\n",
    "- migration environment directory"
   ]
  },
  {
   "cell_type": "code",
   "execution_count": 7,
   "metadata": {},
   "outputs": [
    {
     "name": "stdout",
     "output_type": "stream",
     "text": [
      "02_table_primer_alembic.ipynb\n",
      "alembic.ini\n",
      "migenv\n"
     ]
    }
   ],
   "source": [
    "%%bash\n",
    "ls"
   ]
  },
  {
   "cell_type": "code",
   "execution_count": 8,
   "metadata": {},
   "outputs": [
    {
     "name": "stdout",
     "output_type": "stream",
     "text": [
      "env.py\n",
      "README\n",
      "script.py.mako\n",
      "versions\n"
     ]
    }
   ],
   "source": [
    "%%bash\n",
    "ls ${MIG_DIR}"
   ]
  },
  {
   "cell_type": "markdown",
   "metadata": {},
   "source": [
    "Extraction from the [alembic tutorial](https://alembic.sqlalchemy.org/en/latest/tutorial.html):\n",
    "\n",
    "- env.py - a Python script that is run whenever the alembic migration tool is invoked.\n",
    "\n",
    "- README - included with the various environment templates, should have something informative.\n",
    "\n",
    "- script.py.mako - a Mako template file which is used to generate new migration scripts. Whatever is here is used to generate new files within versions/ directory.\n",
    "\n",
    "- versions/ - the directory holds the individual version scripts."
   ]
  },
  {
   "cell_type": "markdown",
   "metadata": {},
   "source": [
    "### The First Migration Script\n",
    "\n",
    "Alembic helps to create a migration script template which is called a revision.\n",
    "\n",
    "Let's create a \"Users\" table within the migration script so the table has the following structure:\n",
    "\n",
    "```sql\n",
    "CREATE TABLE users (\n",
    "\t\"id\" INTEGER NOT NULL, \n",
    "\t\"full name\" VARCHAR(100) NOT NULL, \n",
    "\tPRIMARY KEY (\"id\")\n",
    ")\n",
    "```"
   ]
  },
  {
   "cell_type": "code",
   "execution_count": 9,
   "metadata": {},
   "outputs": [
    {
     "name": "stdout",
     "output_type": "stream",
     "text": [
      "Generating /home/stankudrow/Projects/SQL-via-Alchemy/tutorial/02_table_primer_alembic/migenv/versions/27fc5c72440c_create_users_table.py ...  done\n",
      "27fc5c72440c_create_users_table.py\n",
      "__pycache__\n"
     ]
    }
   ],
   "source": [
    "%%bash\n",
    "alembic revision -m \"create users table\"\n",
    "ls ${MIG_DIR}/versions"
   ]
  },
  {
   "cell_type": "markdown",
   "metadata": {},
   "source": [
    "Try to rerun the previous cell code: no error will be emitted, just a new migration script will be created.\n",
    "\n",
    "The `file_template` name is composed according to the following scheme - %%(rev)s_%%(slug)s - where:\n",
    "\n",
    "- %%(rev)s - revision id\n",
    "\n",
    "- %%(slug)s - a truncated string derived from the revision message\n",
    "\n",
    "- other parts, mostly about date-time, feel free to read more in the [documentaion](https://alembic.sqlalchemy.org/en/latest/tutorial.html)."
   ]
  },
  {
   "cell_type": "markdown",
   "metadata": {},
   "source": [
    "The first migration script turn to be as follows:\n",
    "\n",
    "```python\n",
    "\"\"\"create users table\n",
    "\n",
    "Revision ID: alembic-generated-revision-id\n",
    "Revises: \n",
    "Create Date: 2023-11-19 20:13:03.526758\n",
    "\n",
    "\"\"\"\n",
    "from typing import Sequence, Union\n",
    "\n",
    "from alembic import op\n",
    "import sqlalchemy as sa\n",
    "\n",
    "\n",
    "# revision identifiers, used by Alembic.\n",
    "revision: str = 'alembic-generated-revision-id'\n",
    "down_revision: Union[str, None] = None\n",
    "branch_labels: Union[str, Sequence[str], None] = None\n",
    "depends_on: Union[str, Sequence[str], None] = None\n",
    "\n",
    "\n",
    "USERS: str = \"users\"\n",
    "\n",
    "\n",
    "def upgrade() -> None:\n",
    "    op.create_table(\n",
    "        USERS,\n",
    "        sa.Column(\"id\", sa.Integer, primary_key=True),\n",
    "        sa.Column(\"full name\", sa.Unicode(100)),\n",
    "    )\n",
    "\n",
    "\n",
    "def downgrade() -> None:\n",
    "    op.drop_table(\n",
    "        USERS,\n",
    "    )\n",
    "```"
   ]
  },
  {
   "cell_type": "markdown",
   "metadata": {},
   "source": [
    "Time to upgrade the database by running the migration script. But before doing, a slight change in alembic.ini file is vital:\n",
    "\n",
    "```\n",
    "sqlalchemy.url = sqlite+aiosqlite:///db.sqlite\n",
    "```\n",
    "\n",
    "**Note**: if you have rerun this notebook, consider to add `upgrade` and `downgrade` logic in the generated by alembic migration script. And only after the changes you can proceed without heckups. Otherwise you'll have a migration with non-defined upgrade/downgrade logic, so the further steps will be useless."
   ]
  },
  {
   "cell_type": "code",
   "execution_count": 10,
   "metadata": {},
   "outputs": [
    {
     "name": "stderr",
     "output_type": "stream",
     "text": [
      "INFO  [alembic.runtime.migration] Context impl SQLiteImpl.\n",
      "INFO  [alembic.runtime.migration] Will assume non-transactional DDL.\n",
      "INFO  [alembic.runtime.migration] Running upgrade  -> 27fc5c72440c, create users table\n"
     ]
    }
   ],
   "source": [
    "%%bash\n",
    "alembic upgrade head"
   ]
  },
  {
   "cell_type": "markdown",
   "metadata": {},
   "source": [
    "Time to play with the newly migrated database."
   ]
  },
  {
   "cell_type": "code",
   "execution_count": 11,
   "metadata": {},
   "outputs": [
    {
     "name": "stdout",
     "output_type": "stream",
     "text": [
      "Table name -> users\n",
      "Table columns -> [('id', Column('id', INTEGER(), table=<users>, primary_key=True, nullable=False)), ('full name', Column('full name', VARCHAR(length=100), table=<users>))]\n",
      "Selecting data from users table.\n"
     ]
    }
   ],
   "source": [
    "metadata = sqla.MetaData()\n",
    "\n",
    "\n",
    "def reflect_table(conn_, name: str) -> sqla.Table:\n",
    "    \"\"\"Reflects the table `name` from the DB via connection `conn_`.\"\"\"\n",
    "\n",
    "    return sqla.Table(\n",
    "        name,\n",
    "        sqla.MetaData(),\n",
    "        autoload_with=conn_\n",
    "    )\n",
    "\n",
    "\n",
    "async with async_engine.connect() as conn:\n",
    "    users_table: sqla.Table = await conn.run_sync(\n",
    "        reflect_table, \"users\"\n",
    "    )\n",
    "    print(f\"Table name -> {users_table.name}\")\n",
    "    print(f\"Table columns -> {users_table.c.items()}\")\n",
    "    print(f\"Selecting data from {users_table} table.\")"
   ]
  },
  {
   "cell_type": "markdown",
   "metadata": {},
   "source": [
    "Yeah, the \"users\" table has been reflected.\n",
    "\n",
    "Now the plan is as plain as a plane: insert some data."
   ]
  },
  {
   "cell_type": "code",
   "execution_count": 12,
   "metadata": {},
   "outputs": [],
   "source": [
    "async with async_engine.begin() as conn:\n",
    "    result = await conn.execute(\n",
    "        sqla.insert(users_table),\n",
    "        [\n",
    "            {\n",
    "                \"full name\": \"John Doe\"\n",
    "            },\n",
    "            {\n",
    "                \"full name\": \"Jane Doe\"\n",
    "            }\n",
    "        ]\n",
    "    )"
   ]
  },
  {
   "cell_type": "markdown",
   "metadata": {},
   "source": [
    "The previous cell can be rerun: passing only the same \"full name\" attribute values will not cause violations since the primary key attribute gets autoincremented and the rows get unique.\n",
    "\n",
    "Consider executing the previous INSERT cell to get quasi-duplicates in the next SELECT code. That will be give a weak reason for downgrading migration. Certainly, the actual reason for making downgrade is just to illustrate this option, just in case."
   ]
  },
  {
   "cell_type": "code",
   "execution_count": 13,
   "metadata": {},
   "outputs": [
    {
     "name": "stdout",
     "output_type": "stream",
     "text": [
      "Row 1: (1, 'John Doe')\n",
      "Row 2: (2, 'Jane Doe')\n"
     ]
    }
   ],
   "source": [
    "async with async_engine.connect() as conn:\n",
    "    result = await conn.execute(\n",
    "        sqla.select(users_table)\n",
    "    )\n",
    "    for nth, row in enumerate(result, 1):\n",
    "        print(f\"Row {nth}: {row}\")"
   ]
  },
  {
   "cell_type": "markdown",
   "metadata": {},
   "source": [
    "The history of the migrations^ should be from \\<base\\> (meaning \"from scratch\") to the first revision id."
   ]
  },
  {
   "cell_type": "code",
   "execution_count": 14,
   "metadata": {},
   "outputs": [
    {
     "name": "stdout",
     "output_type": "stream",
     "text": [
      "<base> -> 27fc5c72440c (head), create users table\n"
     ]
    }
   ],
   "source": [
    "%%bash\n",
    "alembic history"
   ]
  },
  {
   "cell_type": "markdown",
   "metadata": {},
   "source": [
    "Let's downgrade the migration: for now it means to get back to the clear state since this migration is the first one."
   ]
  },
  {
   "cell_type": "code",
   "execution_count": 15,
   "metadata": {},
   "outputs": [
    {
     "name": "stdout",
     "output_type": "stream",
     "text": [
      "usage: alembic downgrade [-h] [--sql] [--tag TAG] revision\n",
      "\n",
      "positional arguments:\n",
      "  revision    revision identifier\n",
      "\n",
      "options:\n",
      "  -h, --help  show this help message and exit\n",
      "  --sql       Don't emit SQL to database - dump to standard output/file\n",
      "              instead. See docs on offline mode.\n",
      "  --tag TAG   Arbitrary 'tag' name - can be used by custom env.py scripts.\n"
     ]
    }
   ],
   "source": [
    "%%bash\n",
    "alembic downgrade --help"
   ]
  },
  {
   "cell_type": "markdown",
   "metadata": {},
   "source": [
    "But you can just put the revision id of the first migration script - it is already in effect. We need to downgrade to the initial (base) state, but it has down_revision (see the migration script) set to None. The \"Stack Overflow\" comes to rescue with [\"undoing the last alembic migration\"](https://stackoverflow.com/questions/48242324/undo-last-alembic-migration) question, but it is also covered in the [alembic tutorial](https://alembic.sqlalchemy.org/en/latest/tutorial.html)."
   ]
  },
  {
   "cell_type": "code",
   "execution_count": 16,
   "metadata": {},
   "outputs": [
    {
     "name": "stderr",
     "output_type": "stream",
     "text": [
      "INFO  [alembic.runtime.migration] Context impl SQLiteImpl.\n",
      "INFO  [alembic.runtime.migration] Will assume non-transactional DDL.\n",
      "INFO  [alembic.runtime.migration] Running downgrade 27fc5c72440c -> , create users table\n"
     ]
    }
   ],
   "source": [
    "%%bash\n",
    "alembic downgrade base"
   ]
  },
  {
   "cell_type": "code",
   "execution_count": 17,
   "metadata": {},
   "outputs": [
    {
     "ename": "OperationalError",
     "evalue": "(sqlite3.OperationalError) no such table: users\n[SQL: SELECT users.id, users.\"full name\" \nFROM users]\n(Background on this error at: https://sqlalche.me/e/20/e3q8)",
     "output_type": "error",
     "traceback": [
      "\u001b[0;31m---------------------------------------------------------------------------\u001b[0m",
      "\u001b[0;31mOperationalError\u001b[0m                          Traceback (most recent call last)",
      "File \u001b[0;32m~/Projects/SQL-via-Alchemy/sqla/lib/python3.10/site-packages/sqlalchemy/engine/base.py:1969\u001b[0m, in \u001b[0;36mConnection._exec_single_context\u001b[0;34m(self, dialect, context, statement, parameters)\u001b[0m\n\u001b[1;32m   1968\u001b[0m     \u001b[39mif\u001b[39;00m \u001b[39mnot\u001b[39;00m evt_handled:\n\u001b[0;32m-> 1969\u001b[0m         \u001b[39mself\u001b[39;49m\u001b[39m.\u001b[39;49mdialect\u001b[39m.\u001b[39;49mdo_execute(\n\u001b[1;32m   1970\u001b[0m             cursor, str_statement, effective_parameters, context\n\u001b[1;32m   1971\u001b[0m         )\n\u001b[1;32m   1973\u001b[0m \u001b[39mif\u001b[39;00m \u001b[39mself\u001b[39m\u001b[39m.\u001b[39m_has_events \u001b[39mor\u001b[39;00m \u001b[39mself\u001b[39m\u001b[39m.\u001b[39mengine\u001b[39m.\u001b[39m_has_events:\n",
      "File \u001b[0;32m~/Projects/SQL-via-Alchemy/sqla/lib/python3.10/site-packages/sqlalchemy/engine/default.py:922\u001b[0m, in \u001b[0;36mDefaultDialect.do_execute\u001b[0;34m(self, cursor, statement, parameters, context)\u001b[0m\n\u001b[1;32m    921\u001b[0m \u001b[39mdef\u001b[39;00m \u001b[39mdo_execute\u001b[39m(\u001b[39mself\u001b[39m, cursor, statement, parameters, context\u001b[39m=\u001b[39m\u001b[39mNone\u001b[39;00m):\n\u001b[0;32m--> 922\u001b[0m     cursor\u001b[39m.\u001b[39;49mexecute(statement, parameters)\n",
      "File \u001b[0;32m~/Projects/SQL-via-Alchemy/sqla/lib/python3.10/site-packages/sqlalchemy/dialects/sqlite/aiosqlite.py:113\u001b[0m, in \u001b[0;36mAsyncAdapt_aiosqlite_cursor.execute\u001b[0;34m(self, operation, parameters)\u001b[0m\n\u001b[1;32m    112\u001b[0m \u001b[39mexcept\u001b[39;00m \u001b[39mException\u001b[39;00m \u001b[39mas\u001b[39;00m error:\n\u001b[0;32m--> 113\u001b[0m     \u001b[39mself\u001b[39;49m\u001b[39m.\u001b[39;49m_adapt_connection\u001b[39m.\u001b[39;49m_handle_exception(error)\n",
      "File \u001b[0;32m~/Projects/SQL-via-Alchemy/sqla/lib/python3.10/site-packages/sqlalchemy/dialects/sqlite/aiosqlite.py:263\u001b[0m, in \u001b[0;36mAsyncAdapt_aiosqlite_connection._handle_exception\u001b[0;34m(self, error)\u001b[0m\n\u001b[1;32m    262\u001b[0m \u001b[39melse\u001b[39;00m:\n\u001b[0;32m--> 263\u001b[0m     \u001b[39mraise\u001b[39;00m error\n",
      "File \u001b[0;32m~/Projects/SQL-via-Alchemy/sqla/lib/python3.10/site-packages/sqlalchemy/dialects/sqlite/aiosqlite.py:95\u001b[0m, in \u001b[0;36mAsyncAdapt_aiosqlite_cursor.execute\u001b[0;34m(self, operation, parameters)\u001b[0m\n\u001b[1;32m     94\u001b[0m \u001b[39melse\u001b[39;00m:\n\u001b[0;32m---> 95\u001b[0m     \u001b[39mself\u001b[39;49m\u001b[39m.\u001b[39;49mawait_(_cursor\u001b[39m.\u001b[39;49mexecute(operation, parameters))\n\u001b[1;32m     97\u001b[0m \u001b[39mif\u001b[39;00m _cursor\u001b[39m.\u001b[39mdescription:\n",
      "File \u001b[0;32m~/Projects/SQL-via-Alchemy/sqla/lib/python3.10/site-packages/sqlalchemy/util/_concurrency_py3k.py:125\u001b[0m, in \u001b[0;36mawait_only\u001b[0;34m(awaitable)\u001b[0m\n\u001b[1;32m    121\u001b[0m \u001b[39m# returns the control to the driver greenlet passing it\u001b[39;00m\n\u001b[1;32m    122\u001b[0m \u001b[39m# a coroutine to run. Once the awaitable is done, the driver greenlet\u001b[39;00m\n\u001b[1;32m    123\u001b[0m \u001b[39m# switches back to this greenlet with the result of awaitable that is\u001b[39;00m\n\u001b[1;32m    124\u001b[0m \u001b[39m# then returned to the caller (or raised as error)\u001b[39;00m\n\u001b[0;32m--> 125\u001b[0m \u001b[39mreturn\u001b[39;00m current\u001b[39m.\u001b[39;49mdriver\u001b[39m.\u001b[39;49mswitch(awaitable)\n",
      "File \u001b[0;32m~/Projects/SQL-via-Alchemy/sqla/lib/python3.10/site-packages/sqlalchemy/util/_concurrency_py3k.py:185\u001b[0m, in \u001b[0;36mgreenlet_spawn\u001b[0;34m(fn, _require_await, *args, **kwargs)\u001b[0m\n\u001b[1;32m    182\u001b[0m \u001b[39mtry\u001b[39;00m:\n\u001b[1;32m    183\u001b[0m     \u001b[39m# wait for a coroutine from await_only and then return its\u001b[39;00m\n\u001b[1;32m    184\u001b[0m     \u001b[39m# result back to it.\u001b[39;00m\n\u001b[0;32m--> 185\u001b[0m     value \u001b[39m=\u001b[39m \u001b[39mawait\u001b[39;00m result\n\u001b[1;32m    186\u001b[0m \u001b[39mexcept\u001b[39;00m \u001b[39mBaseException\u001b[39;00m:\n\u001b[1;32m    187\u001b[0m     \u001b[39m# this allows an exception to be raised within\u001b[39;00m\n\u001b[1;32m    188\u001b[0m     \u001b[39m# the moderated greenlet so that it can continue\u001b[39;00m\n\u001b[1;32m    189\u001b[0m     \u001b[39m# its expected flow.\u001b[39;00m\n",
      "File \u001b[0;32m~/Projects/SQL-via-Alchemy/sqla/lib/python3.10/site-packages/aiosqlite/cursor.py:48\u001b[0m, in \u001b[0;36mCursor.execute\u001b[0;34m(self, sql, parameters)\u001b[0m\n\u001b[1;32m     47\u001b[0m     parameters \u001b[39m=\u001b[39m []\n\u001b[0;32m---> 48\u001b[0m \u001b[39mawait\u001b[39;00m \u001b[39mself\u001b[39m\u001b[39m.\u001b[39m_execute(\u001b[39mself\u001b[39m\u001b[39m.\u001b[39m_cursor\u001b[39m.\u001b[39mexecute, sql, parameters)\n\u001b[1;32m     49\u001b[0m \u001b[39mreturn\u001b[39;00m \u001b[39mself\u001b[39m\n",
      "File \u001b[0;32m~/Projects/SQL-via-Alchemy/sqla/lib/python3.10/site-packages/aiosqlite/cursor.py:40\u001b[0m, in \u001b[0;36mCursor._execute\u001b[0;34m(self, fn, *args, **kwargs)\u001b[0m\n\u001b[1;32m     39\u001b[0m \u001b[39m\u001b[39m\u001b[39m\"\"\"Execute the given function on the shared connection's thread.\"\"\"\u001b[39;00m\n\u001b[0;32m---> 40\u001b[0m \u001b[39mreturn\u001b[39;00m \u001b[39mawait\u001b[39;00m \u001b[39mself\u001b[39m\u001b[39m.\u001b[39m_conn\u001b[39m.\u001b[39m_execute(fn, \u001b[39m*\u001b[39margs, \u001b[39m*\u001b[39m\u001b[39m*\u001b[39mkwargs)\n",
      "File \u001b[0;32m~/Projects/SQL-via-Alchemy/sqla/lib/python3.10/site-packages/aiosqlite/core.py:133\u001b[0m, in \u001b[0;36mConnection._execute\u001b[0;34m(self, fn, *args, **kwargs)\u001b[0m\n\u001b[1;32m    131\u001b[0m \u001b[39mself\u001b[39m\u001b[39m.\u001b[39m_tx\u001b[39m.\u001b[39mput_nowait((future, function))\n\u001b[0;32m--> 133\u001b[0m \u001b[39mreturn\u001b[39;00m \u001b[39mawait\u001b[39;00m future\n",
      "File \u001b[0;32m~/Projects/SQL-via-Alchemy/sqla/lib/python3.10/site-packages/aiosqlite/core.py:106\u001b[0m, in \u001b[0;36mConnection.run\u001b[0;34m(self)\u001b[0m\n\u001b[1;32m    105\u001b[0m LOG\u001b[39m.\u001b[39mdebug(\u001b[39m\"\u001b[39m\u001b[39mexecuting \u001b[39m\u001b[39m%s\u001b[39;00m\u001b[39m\"\u001b[39m, function)\n\u001b[0;32m--> 106\u001b[0m result \u001b[39m=\u001b[39m function()\n\u001b[1;32m    107\u001b[0m LOG\u001b[39m.\u001b[39mdebug(\u001b[39m\"\u001b[39m\u001b[39moperation \u001b[39m\u001b[39m%s\u001b[39;00m\u001b[39m completed\u001b[39m\u001b[39m\"\u001b[39m, function)\n",
      "\u001b[0;31mOperationalError\u001b[0m: no such table: users",
      "\nThe above exception was the direct cause of the following exception:\n",
      "\u001b[0;31mOperationalError\u001b[0m                          Traceback (most recent call last)",
      "\u001b[1;32m/home/stankudrow/Projects/SQL-via-Alchemy/tutorial/02_table_primer_alembic/02_table_primer_alembic.ipynb Cell 36\u001b[0m line \u001b[0;36m2\n\u001b[1;32m      <a href='vscode-notebook-cell:/home/stankudrow/Projects/SQL-via-Alchemy/tutorial/02_table_primer_alembic/02_table_primer_alembic.ipynb#X53sZmlsZQ%3D%3D?line=0'>1</a>\u001b[0m \u001b[39masync\u001b[39;00m \u001b[39mwith\u001b[39;00m async_engine\u001b[39m.\u001b[39mconnect() \u001b[39mas\u001b[39;00m conn:\n\u001b[0;32m----> <a href='vscode-notebook-cell:/home/stankudrow/Projects/SQL-via-Alchemy/tutorial/02_table_primer_alembic/02_table_primer_alembic.ipynb#X53sZmlsZQ%3D%3D?line=1'>2</a>\u001b[0m     result \u001b[39m=\u001b[39m \u001b[39mawait\u001b[39;00m conn\u001b[39m.\u001b[39mexecute(\n\u001b[1;32m      <a href='vscode-notebook-cell:/home/stankudrow/Projects/SQL-via-Alchemy/tutorial/02_table_primer_alembic/02_table_primer_alembic.ipynb#X53sZmlsZQ%3D%3D?line=2'>3</a>\u001b[0m         sqla\u001b[39m.\u001b[39mselect(users_table)\n\u001b[1;32m      <a href='vscode-notebook-cell:/home/stankudrow/Projects/SQL-via-Alchemy/tutorial/02_table_primer_alembic/02_table_primer_alembic.ipynb#X53sZmlsZQ%3D%3D?line=3'>4</a>\u001b[0m     )\n\u001b[1;32m      <a href='vscode-notebook-cell:/home/stankudrow/Projects/SQL-via-Alchemy/tutorial/02_table_primer_alembic/02_table_primer_alembic.ipynb#X53sZmlsZQ%3D%3D?line=4'>5</a>\u001b[0m     \u001b[39mfor\u001b[39;00m nth, row \u001b[39min\u001b[39;00m \u001b[39menumerate\u001b[39m(result, \u001b[39m1\u001b[39m):\n\u001b[1;32m      <a href='vscode-notebook-cell:/home/stankudrow/Projects/SQL-via-Alchemy/tutorial/02_table_primer_alembic/02_table_primer_alembic.ipynb#X53sZmlsZQ%3D%3D?line=5'>6</a>\u001b[0m         \u001b[39mprint\u001b[39m(\u001b[39mf\u001b[39m\u001b[39m\"\u001b[39m\u001b[39mRow \u001b[39m\u001b[39m{\u001b[39;00mnth\u001b[39m}\u001b[39;00m\u001b[39m: \u001b[39m\u001b[39m{\u001b[39;00mrow\u001b[39m}\u001b[39;00m\u001b[39m\"\u001b[39m)\n",
      "File \u001b[0;32m~/Projects/SQL-via-Alchemy/sqla/lib/python3.10/site-packages/sqlalchemy/ext/asyncio/engine.py:654\u001b[0m, in \u001b[0;36mAsyncConnection.execute\u001b[0;34m(self, statement, parameters, execution_options)\u001b[0m\n\u001b[1;32m    616\u001b[0m \u001b[39masync\u001b[39;00m \u001b[39mdef\u001b[39;00m \u001b[39mexecute\u001b[39m(\n\u001b[1;32m    617\u001b[0m     \u001b[39mself\u001b[39m,\n\u001b[1;32m    618\u001b[0m     statement: Executable,\n\u001b[0;32m   (...)\u001b[0m\n\u001b[1;32m    621\u001b[0m     execution_options: Optional[CoreExecuteOptionsParameter] \u001b[39m=\u001b[39m \u001b[39mNone\u001b[39;00m,\n\u001b[1;32m    622\u001b[0m ) \u001b[39m-\u001b[39m\u001b[39m>\u001b[39m CursorResult[Any]:\n\u001b[1;32m    623\u001b[0m \u001b[39m    \u001b[39m\u001b[39mr\u001b[39m\u001b[39m\"\"\"Executes a SQL statement construct and return a buffered\u001b[39;00m\n\u001b[1;32m    624\u001b[0m \u001b[39m    :class:`_engine.Result`.\u001b[39;00m\n\u001b[1;32m    625\u001b[0m \n\u001b[0;32m   (...)\u001b[0m\n\u001b[1;32m    652\u001b[0m \n\u001b[1;32m    653\u001b[0m \u001b[39m    \"\"\"\u001b[39;00m\n\u001b[0;32m--> 654\u001b[0m     result \u001b[39m=\u001b[39m \u001b[39mawait\u001b[39;00m greenlet_spawn(\n\u001b[1;32m    655\u001b[0m         \u001b[39mself\u001b[39m\u001b[39m.\u001b[39m_proxied\u001b[39m.\u001b[39mexecute,\n\u001b[1;32m    656\u001b[0m         statement,\n\u001b[1;32m    657\u001b[0m         parameters,\n\u001b[1;32m    658\u001b[0m         execution_options\u001b[39m=\u001b[39mexecution_options,\n\u001b[1;32m    659\u001b[0m         _require_await\u001b[39m=\u001b[39m\u001b[39mTrue\u001b[39;00m,\n\u001b[1;32m    660\u001b[0m     )\n\u001b[1;32m    661\u001b[0m     \u001b[39mreturn\u001b[39;00m \u001b[39mawait\u001b[39;00m _ensure_sync_result(result, \u001b[39mself\u001b[39m\u001b[39m.\u001b[39mexecute)\n",
      "File \u001b[0;32m~/Projects/SQL-via-Alchemy/sqla/lib/python3.10/site-packages/sqlalchemy/util/_concurrency_py3k.py:190\u001b[0m, in \u001b[0;36mgreenlet_spawn\u001b[0;34m(fn, _require_await, *args, **kwargs)\u001b[0m\n\u001b[1;32m    185\u001b[0m     value \u001b[39m=\u001b[39m \u001b[39mawait\u001b[39;00m result\n\u001b[1;32m    186\u001b[0m \u001b[39mexcept\u001b[39;00m \u001b[39mBaseException\u001b[39;00m:\n\u001b[1;32m    187\u001b[0m     \u001b[39m# this allows an exception to be raised within\u001b[39;00m\n\u001b[1;32m    188\u001b[0m     \u001b[39m# the moderated greenlet so that it can continue\u001b[39;00m\n\u001b[1;32m    189\u001b[0m     \u001b[39m# its expected flow.\u001b[39;00m\n\u001b[0;32m--> 190\u001b[0m     result \u001b[39m=\u001b[39m context\u001b[39m.\u001b[39;49mthrow(\u001b[39m*\u001b[39;49msys\u001b[39m.\u001b[39;49mexc_info())\n\u001b[1;32m    191\u001b[0m \u001b[39melse\u001b[39;00m:\n\u001b[1;32m    192\u001b[0m     result \u001b[39m=\u001b[39m context\u001b[39m.\u001b[39mswitch(value)\n",
      "File \u001b[0;32m~/Projects/SQL-via-Alchemy/sqla/lib/python3.10/site-packages/sqlalchemy/engine/base.py:1416\u001b[0m, in \u001b[0;36mConnection.execute\u001b[0;34m(self, statement, parameters, execution_options)\u001b[0m\n\u001b[1;32m   1414\u001b[0m     \u001b[39mraise\u001b[39;00m exc\u001b[39m.\u001b[39mObjectNotExecutableError(statement) \u001b[39mfrom\u001b[39;00m \u001b[39merr\u001b[39;00m\n\u001b[1;32m   1415\u001b[0m \u001b[39melse\u001b[39;00m:\n\u001b[0;32m-> 1416\u001b[0m     \u001b[39mreturn\u001b[39;00m meth(\n\u001b[1;32m   1417\u001b[0m         \u001b[39mself\u001b[39;49m,\n\u001b[1;32m   1418\u001b[0m         distilled_parameters,\n\u001b[1;32m   1419\u001b[0m         execution_options \u001b[39mor\u001b[39;49;00m NO_OPTIONS,\n\u001b[1;32m   1420\u001b[0m     )\n",
      "File \u001b[0;32m~/Projects/SQL-via-Alchemy/sqla/lib/python3.10/site-packages/sqlalchemy/sql/elements.py:516\u001b[0m, in \u001b[0;36mClauseElement._execute_on_connection\u001b[0;34m(self, connection, distilled_params, execution_options)\u001b[0m\n\u001b[1;32m    514\u001b[0m     \u001b[39mif\u001b[39;00m TYPE_CHECKING:\n\u001b[1;32m    515\u001b[0m         \u001b[39massert\u001b[39;00m \u001b[39misinstance\u001b[39m(\u001b[39mself\u001b[39m, Executable)\n\u001b[0;32m--> 516\u001b[0m     \u001b[39mreturn\u001b[39;00m connection\u001b[39m.\u001b[39;49m_execute_clauseelement(\n\u001b[1;32m    517\u001b[0m         \u001b[39mself\u001b[39;49m, distilled_params, execution_options\n\u001b[1;32m    518\u001b[0m     )\n\u001b[1;32m    519\u001b[0m \u001b[39melse\u001b[39;00m:\n\u001b[1;32m    520\u001b[0m     \u001b[39mraise\u001b[39;00m exc\u001b[39m.\u001b[39mObjectNotExecutableError(\u001b[39mself\u001b[39m)\n",
      "File \u001b[0;32m~/Projects/SQL-via-Alchemy/sqla/lib/python3.10/site-packages/sqlalchemy/engine/base.py:1639\u001b[0m, in \u001b[0;36mConnection._execute_clauseelement\u001b[0;34m(self, elem, distilled_parameters, execution_options)\u001b[0m\n\u001b[1;32m   1627\u001b[0m compiled_cache: Optional[CompiledCacheType] \u001b[39m=\u001b[39m execution_options\u001b[39m.\u001b[39mget(\n\u001b[1;32m   1628\u001b[0m     \u001b[39m\"\u001b[39m\u001b[39mcompiled_cache\u001b[39m\u001b[39m\"\u001b[39m, \u001b[39mself\u001b[39m\u001b[39m.\u001b[39mengine\u001b[39m.\u001b[39m_compiled_cache\n\u001b[1;32m   1629\u001b[0m )\n\u001b[1;32m   1631\u001b[0m compiled_sql, extracted_params, cache_hit \u001b[39m=\u001b[39m elem\u001b[39m.\u001b[39m_compile_w_cache(\n\u001b[1;32m   1632\u001b[0m     dialect\u001b[39m=\u001b[39mdialect,\n\u001b[1;32m   1633\u001b[0m     compiled_cache\u001b[39m=\u001b[39mcompiled_cache,\n\u001b[0;32m   (...)\u001b[0m\n\u001b[1;32m   1637\u001b[0m     linting\u001b[39m=\u001b[39m\u001b[39mself\u001b[39m\u001b[39m.\u001b[39mdialect\u001b[39m.\u001b[39mcompiler_linting \u001b[39m|\u001b[39m compiler\u001b[39m.\u001b[39mWARN_LINTING,\n\u001b[1;32m   1638\u001b[0m )\n\u001b[0;32m-> 1639\u001b[0m ret \u001b[39m=\u001b[39m \u001b[39mself\u001b[39;49m\u001b[39m.\u001b[39;49m_execute_context(\n\u001b[1;32m   1640\u001b[0m     dialect,\n\u001b[1;32m   1641\u001b[0m     dialect\u001b[39m.\u001b[39;49mexecution_ctx_cls\u001b[39m.\u001b[39;49m_init_compiled,\n\u001b[1;32m   1642\u001b[0m     compiled_sql,\n\u001b[1;32m   1643\u001b[0m     distilled_parameters,\n\u001b[1;32m   1644\u001b[0m     execution_options,\n\u001b[1;32m   1645\u001b[0m     compiled_sql,\n\u001b[1;32m   1646\u001b[0m     distilled_parameters,\n\u001b[1;32m   1647\u001b[0m     elem,\n\u001b[1;32m   1648\u001b[0m     extracted_params,\n\u001b[1;32m   1649\u001b[0m     cache_hit\u001b[39m=\u001b[39;49mcache_hit,\n\u001b[1;32m   1650\u001b[0m )\n\u001b[1;32m   1651\u001b[0m \u001b[39mif\u001b[39;00m has_events:\n\u001b[1;32m   1652\u001b[0m     \u001b[39mself\u001b[39m\u001b[39m.\u001b[39mdispatch\u001b[39m.\u001b[39mafter_execute(\n\u001b[1;32m   1653\u001b[0m         \u001b[39mself\u001b[39m,\n\u001b[1;32m   1654\u001b[0m         elem,\n\u001b[0;32m   (...)\u001b[0m\n\u001b[1;32m   1658\u001b[0m         ret,\n\u001b[1;32m   1659\u001b[0m     )\n",
      "File \u001b[0;32m~/Projects/SQL-via-Alchemy/sqla/lib/python3.10/site-packages/sqlalchemy/engine/base.py:1848\u001b[0m, in \u001b[0;36mConnection._execute_context\u001b[0;34m(self, dialect, constructor, statement, parameters, execution_options, *args, **kw)\u001b[0m\n\u001b[1;32m   1843\u001b[0m     \u001b[39mreturn\u001b[39;00m \u001b[39mself\u001b[39m\u001b[39m.\u001b[39m_exec_insertmany_context(\n\u001b[1;32m   1844\u001b[0m         dialect,\n\u001b[1;32m   1845\u001b[0m         context,\n\u001b[1;32m   1846\u001b[0m     )\n\u001b[1;32m   1847\u001b[0m \u001b[39melse\u001b[39;00m:\n\u001b[0;32m-> 1848\u001b[0m     \u001b[39mreturn\u001b[39;00m \u001b[39mself\u001b[39;49m\u001b[39m.\u001b[39;49m_exec_single_context(\n\u001b[1;32m   1849\u001b[0m         dialect, context, statement, parameters\n\u001b[1;32m   1850\u001b[0m     )\n",
      "File \u001b[0;32m~/Projects/SQL-via-Alchemy/sqla/lib/python3.10/site-packages/sqlalchemy/engine/base.py:1988\u001b[0m, in \u001b[0;36mConnection._exec_single_context\u001b[0;34m(self, dialect, context, statement, parameters)\u001b[0m\n\u001b[1;32m   1985\u001b[0m     result \u001b[39m=\u001b[39m context\u001b[39m.\u001b[39m_setup_result_proxy()\n\u001b[1;32m   1987\u001b[0m \u001b[39mexcept\u001b[39;00m \u001b[39mBaseException\u001b[39;00m \u001b[39mas\u001b[39;00m e:\n\u001b[0;32m-> 1988\u001b[0m     \u001b[39mself\u001b[39;49m\u001b[39m.\u001b[39;49m_handle_dbapi_exception(\n\u001b[1;32m   1989\u001b[0m         e, str_statement, effective_parameters, cursor, context\n\u001b[1;32m   1990\u001b[0m     )\n\u001b[1;32m   1992\u001b[0m \u001b[39mreturn\u001b[39;00m result\n",
      "File \u001b[0;32m~/Projects/SQL-via-Alchemy/sqla/lib/python3.10/site-packages/sqlalchemy/engine/base.py:2343\u001b[0m, in \u001b[0;36mConnection._handle_dbapi_exception\u001b[0;34m(self, e, statement, parameters, cursor, context, is_sub_exec)\u001b[0m\n\u001b[1;32m   2341\u001b[0m \u001b[39melif\u001b[39;00m should_wrap:\n\u001b[1;32m   2342\u001b[0m     \u001b[39massert\u001b[39;00m sqlalchemy_exception \u001b[39mis\u001b[39;00m \u001b[39mnot\u001b[39;00m \u001b[39mNone\u001b[39;00m\n\u001b[0;32m-> 2343\u001b[0m     \u001b[39mraise\u001b[39;00m sqlalchemy_exception\u001b[39m.\u001b[39mwith_traceback(exc_info[\u001b[39m2\u001b[39m]) \u001b[39mfrom\u001b[39;00m \u001b[39me\u001b[39;00m\n\u001b[1;32m   2344\u001b[0m \u001b[39melse\u001b[39;00m:\n\u001b[1;32m   2345\u001b[0m     \u001b[39massert\u001b[39;00m exc_info[\u001b[39m1\u001b[39m] \u001b[39mis\u001b[39;00m \u001b[39mnot\u001b[39;00m \u001b[39mNone\u001b[39;00m\n",
      "File \u001b[0;32m~/Projects/SQL-via-Alchemy/sqla/lib/python3.10/site-packages/sqlalchemy/engine/base.py:1969\u001b[0m, in \u001b[0;36mConnection._exec_single_context\u001b[0;34m(self, dialect, context, statement, parameters)\u001b[0m\n\u001b[1;32m   1967\u001b[0m                 \u001b[39mbreak\u001b[39;00m\n\u001b[1;32m   1968\u001b[0m     \u001b[39mif\u001b[39;00m \u001b[39mnot\u001b[39;00m evt_handled:\n\u001b[0;32m-> 1969\u001b[0m         \u001b[39mself\u001b[39;49m\u001b[39m.\u001b[39;49mdialect\u001b[39m.\u001b[39;49mdo_execute(\n\u001b[1;32m   1970\u001b[0m             cursor, str_statement, effective_parameters, context\n\u001b[1;32m   1971\u001b[0m         )\n\u001b[1;32m   1973\u001b[0m \u001b[39mif\u001b[39;00m \u001b[39mself\u001b[39m\u001b[39m.\u001b[39m_has_events \u001b[39mor\u001b[39;00m \u001b[39mself\u001b[39m\u001b[39m.\u001b[39mengine\u001b[39m.\u001b[39m_has_events:\n\u001b[1;32m   1974\u001b[0m     \u001b[39mself\u001b[39m\u001b[39m.\u001b[39mdispatch\u001b[39m.\u001b[39mafter_cursor_execute(\n\u001b[1;32m   1975\u001b[0m         \u001b[39mself\u001b[39m,\n\u001b[1;32m   1976\u001b[0m         cursor,\n\u001b[0;32m   (...)\u001b[0m\n\u001b[1;32m   1980\u001b[0m         context\u001b[39m.\u001b[39mexecutemany,\n\u001b[1;32m   1981\u001b[0m     )\n",
      "File \u001b[0;32m~/Projects/SQL-via-Alchemy/sqla/lib/python3.10/site-packages/sqlalchemy/engine/default.py:922\u001b[0m, in \u001b[0;36mDefaultDialect.do_execute\u001b[0;34m(self, cursor, statement, parameters, context)\u001b[0m\n\u001b[1;32m    921\u001b[0m \u001b[39mdef\u001b[39;00m \u001b[39mdo_execute\u001b[39m(\u001b[39mself\u001b[39m, cursor, statement, parameters, context\u001b[39m=\u001b[39m\u001b[39mNone\u001b[39;00m):\n\u001b[0;32m--> 922\u001b[0m     cursor\u001b[39m.\u001b[39;49mexecute(statement, parameters)\n",
      "File \u001b[0;32m~/Projects/SQL-via-Alchemy/sqla/lib/python3.10/site-packages/sqlalchemy/dialects/sqlite/aiosqlite.py:113\u001b[0m, in \u001b[0;36mAsyncAdapt_aiosqlite_cursor.execute\u001b[0;34m(self, operation, parameters)\u001b[0m\n\u001b[1;32m    111\u001b[0m         \u001b[39mself\u001b[39m\u001b[39m.\u001b[39m_cursor \u001b[39m=\u001b[39m _cursor\n\u001b[1;32m    112\u001b[0m \u001b[39mexcept\u001b[39;00m \u001b[39mException\u001b[39;00m \u001b[39mas\u001b[39;00m error:\n\u001b[0;32m--> 113\u001b[0m     \u001b[39mself\u001b[39;49m\u001b[39m.\u001b[39;49m_adapt_connection\u001b[39m.\u001b[39;49m_handle_exception(error)\n",
      "File \u001b[0;32m~/Projects/SQL-via-Alchemy/sqla/lib/python3.10/site-packages/sqlalchemy/dialects/sqlite/aiosqlite.py:263\u001b[0m, in \u001b[0;36mAsyncAdapt_aiosqlite_connection._handle_exception\u001b[0;34m(self, error)\u001b[0m\n\u001b[1;32m    259\u001b[0m     \u001b[39mraise\u001b[39;00m \u001b[39mself\u001b[39m\u001b[39m.\u001b[39mdbapi\u001b[39m.\u001b[39msqlite\u001b[39m.\u001b[39mOperationalError(\n\u001b[1;32m    260\u001b[0m         \u001b[39m\"\u001b[39m\u001b[39mno active connection\u001b[39m\u001b[39m\"\u001b[39m\n\u001b[1;32m    261\u001b[0m     ) \u001b[39mfrom\u001b[39;00m \u001b[39merror\u001b[39;00m\n\u001b[1;32m    262\u001b[0m \u001b[39melse\u001b[39;00m:\n\u001b[0;32m--> 263\u001b[0m     \u001b[39mraise\u001b[39;00m error\n",
      "File \u001b[0;32m~/Projects/SQL-via-Alchemy/sqla/lib/python3.10/site-packages/sqlalchemy/dialects/sqlite/aiosqlite.py:95\u001b[0m, in \u001b[0;36mAsyncAdapt_aiosqlite_cursor.execute\u001b[0;34m(self, operation, parameters)\u001b[0m\n\u001b[1;32m     93\u001b[0m     \u001b[39mself\u001b[39m\u001b[39m.\u001b[39mawait_(_cursor\u001b[39m.\u001b[39mexecute(operation))\n\u001b[1;32m     94\u001b[0m \u001b[39melse\u001b[39;00m:\n\u001b[0;32m---> 95\u001b[0m     \u001b[39mself\u001b[39;49m\u001b[39m.\u001b[39;49mawait_(_cursor\u001b[39m.\u001b[39;49mexecute(operation, parameters))\n\u001b[1;32m     97\u001b[0m \u001b[39mif\u001b[39;00m _cursor\u001b[39m.\u001b[39mdescription:\n\u001b[1;32m     98\u001b[0m     \u001b[39mself\u001b[39m\u001b[39m.\u001b[39mdescription \u001b[39m=\u001b[39m _cursor\u001b[39m.\u001b[39mdescription\n",
      "File \u001b[0;32m~/Projects/SQL-via-Alchemy/sqla/lib/python3.10/site-packages/sqlalchemy/util/_concurrency_py3k.py:125\u001b[0m, in \u001b[0;36mawait_only\u001b[0;34m(awaitable)\u001b[0m\n\u001b[1;32m    116\u001b[0m     \u001b[39mraise\u001b[39;00m exc\u001b[39m.\u001b[39mMissingGreenlet(\n\u001b[1;32m    117\u001b[0m         \u001b[39m\"\u001b[39m\u001b[39mgreenlet_spawn has not been called; can\u001b[39m\u001b[39m'\u001b[39m\u001b[39mt call await_only() \u001b[39m\u001b[39m\"\u001b[39m\n\u001b[1;32m    118\u001b[0m         \u001b[39m\"\u001b[39m\u001b[39mhere. Was IO attempted in an unexpected place?\u001b[39m\u001b[39m\"\u001b[39m\n\u001b[1;32m    119\u001b[0m     )\n\u001b[1;32m    121\u001b[0m \u001b[39m# returns the control to the driver greenlet passing it\u001b[39;00m\n\u001b[1;32m    122\u001b[0m \u001b[39m# a coroutine to run. Once the awaitable is done, the driver greenlet\u001b[39;00m\n\u001b[1;32m    123\u001b[0m \u001b[39m# switches back to this greenlet with the result of awaitable that is\u001b[39;00m\n\u001b[1;32m    124\u001b[0m \u001b[39m# then returned to the caller (or raised as error)\u001b[39;00m\n\u001b[0;32m--> 125\u001b[0m \u001b[39mreturn\u001b[39;00m current\u001b[39m.\u001b[39;49mdriver\u001b[39m.\u001b[39;49mswitch(awaitable)\n",
      "File \u001b[0;32m~/Projects/SQL-via-Alchemy/sqla/lib/python3.10/site-packages/sqlalchemy/util/_concurrency_py3k.py:185\u001b[0m, in \u001b[0;36mgreenlet_spawn\u001b[0;34m(fn, _require_await, *args, **kwargs)\u001b[0m\n\u001b[1;32m    181\u001b[0m switch_occurred \u001b[39m=\u001b[39m \u001b[39mTrue\u001b[39;00m\n\u001b[1;32m    182\u001b[0m \u001b[39mtry\u001b[39;00m:\n\u001b[1;32m    183\u001b[0m     \u001b[39m# wait for a coroutine from await_only and then return its\u001b[39;00m\n\u001b[1;32m    184\u001b[0m     \u001b[39m# result back to it.\u001b[39;00m\n\u001b[0;32m--> 185\u001b[0m     value \u001b[39m=\u001b[39m \u001b[39mawait\u001b[39;00m result\n\u001b[1;32m    186\u001b[0m \u001b[39mexcept\u001b[39;00m \u001b[39mBaseException\u001b[39;00m:\n\u001b[1;32m    187\u001b[0m     \u001b[39m# this allows an exception to be raised within\u001b[39;00m\n\u001b[1;32m    188\u001b[0m     \u001b[39m# the moderated greenlet so that it can continue\u001b[39;00m\n\u001b[1;32m    189\u001b[0m     \u001b[39m# its expected flow.\u001b[39;00m\n\u001b[1;32m    190\u001b[0m     result \u001b[39m=\u001b[39m context\u001b[39m.\u001b[39mthrow(\u001b[39m*\u001b[39msys\u001b[39m.\u001b[39mexc_info())\n",
      "File \u001b[0;32m~/Projects/SQL-via-Alchemy/sqla/lib/python3.10/site-packages/aiosqlite/cursor.py:48\u001b[0m, in \u001b[0;36mCursor.execute\u001b[0;34m(self, sql, parameters)\u001b[0m\n\u001b[1;32m     46\u001b[0m \u001b[39mif\u001b[39;00m parameters \u001b[39mis\u001b[39;00m \u001b[39mNone\u001b[39;00m:\n\u001b[1;32m     47\u001b[0m     parameters \u001b[39m=\u001b[39m []\n\u001b[0;32m---> 48\u001b[0m \u001b[39mawait\u001b[39;00m \u001b[39mself\u001b[39m\u001b[39m.\u001b[39m_execute(\u001b[39mself\u001b[39m\u001b[39m.\u001b[39m_cursor\u001b[39m.\u001b[39mexecute, sql, parameters)\n\u001b[1;32m     49\u001b[0m \u001b[39mreturn\u001b[39;00m \u001b[39mself\u001b[39m\n",
      "File \u001b[0;32m~/Projects/SQL-via-Alchemy/sqla/lib/python3.10/site-packages/aiosqlite/cursor.py:40\u001b[0m, in \u001b[0;36mCursor._execute\u001b[0;34m(self, fn, *args, **kwargs)\u001b[0m\n\u001b[1;32m     38\u001b[0m \u001b[39masync\u001b[39;00m \u001b[39mdef\u001b[39;00m \u001b[39m_execute\u001b[39m(\u001b[39mself\u001b[39m, fn, \u001b[39m*\u001b[39margs, \u001b[39m*\u001b[39m\u001b[39m*\u001b[39mkwargs):\n\u001b[1;32m     39\u001b[0m \u001b[39m    \u001b[39m\u001b[39m\"\"\"Execute the given function on the shared connection's thread.\"\"\"\u001b[39;00m\n\u001b[0;32m---> 40\u001b[0m     \u001b[39mreturn\u001b[39;00m \u001b[39mawait\u001b[39;00m \u001b[39mself\u001b[39m\u001b[39m.\u001b[39m_conn\u001b[39m.\u001b[39m_execute(fn, \u001b[39m*\u001b[39margs, \u001b[39m*\u001b[39m\u001b[39m*\u001b[39mkwargs)\n",
      "File \u001b[0;32m~/Projects/SQL-via-Alchemy/sqla/lib/python3.10/site-packages/aiosqlite/core.py:133\u001b[0m, in \u001b[0;36mConnection._execute\u001b[0;34m(self, fn, *args, **kwargs)\u001b[0m\n\u001b[1;32m    129\u001b[0m future \u001b[39m=\u001b[39m asyncio\u001b[39m.\u001b[39mget_event_loop()\u001b[39m.\u001b[39mcreate_future()\n\u001b[1;32m    131\u001b[0m \u001b[39mself\u001b[39m\u001b[39m.\u001b[39m_tx\u001b[39m.\u001b[39mput_nowait((future, function))\n\u001b[0;32m--> 133\u001b[0m \u001b[39mreturn\u001b[39;00m \u001b[39mawait\u001b[39;00m future\n",
      "File \u001b[0;32m~/Projects/SQL-via-Alchemy/sqla/lib/python3.10/site-packages/aiosqlite/core.py:106\u001b[0m, in \u001b[0;36mConnection.run\u001b[0;34m(self)\u001b[0m\n\u001b[1;32m    104\u001b[0m \u001b[39mtry\u001b[39;00m:\n\u001b[1;32m    105\u001b[0m     LOG\u001b[39m.\u001b[39mdebug(\u001b[39m\"\u001b[39m\u001b[39mexecuting \u001b[39m\u001b[39m%s\u001b[39;00m\u001b[39m\"\u001b[39m, function)\n\u001b[0;32m--> 106\u001b[0m     result \u001b[39m=\u001b[39m function()\n\u001b[1;32m    107\u001b[0m     LOG\u001b[39m.\u001b[39mdebug(\u001b[39m\"\u001b[39m\u001b[39moperation \u001b[39m\u001b[39m%s\u001b[39;00m\u001b[39m completed\u001b[39m\u001b[39m\"\u001b[39m, function)\n\u001b[1;32m    109\u001b[0m     \u001b[39mdef\u001b[39;00m \u001b[39mset_result\u001b[39m(fut, result):\n",
      "\u001b[0;31mOperationalError\u001b[0m: (sqlite3.OperationalError) no such table: users\n[SQL: SELECT users.id, users.\"full name\" \nFROM users]\n(Background on this error at: https://sqlalche.me/e/20/e3q8)"
     ]
    }
   ],
   "source": [
    "async with async_engine.connect() as conn:\n",
    "    result = await conn.execute(\n",
    "        sqla.select(users_table)\n",
    "    )\n",
    "    for nth, row in enumerate(result, 1):\n",
    "        print(f\"Row {nth}: {row}\")"
   ]
  },
  {
   "cell_type": "markdown",
   "metadata": {},
   "source": [
    "Yeah, that worked, finally."
   ]
  },
  {
   "cell_type": "markdown",
   "metadata": {},
   "source": [
    "### The Second Migration Script\n",
    "\n",
    "The second migration is meant to change the first migration changes. Since the previous chapter ends with a complete downgrade to the nothing state, we need to restore the first migration, populate the table with the data and then get the hands dirty - there will be enough work to do."
   ]
  },
  {
   "cell_type": "code",
   "execution_count": 18,
   "metadata": {},
   "outputs": [
    {
     "name": "stdout",
     "output_type": "stream",
     "text": [
      "<base> -> 27fc5c72440c (head), create users table\n"
     ]
    }
   ],
   "source": [
    "%%bash\n",
    "alembic history"
   ]
  },
  {
   "cell_type": "code",
   "execution_count": 19,
   "metadata": {},
   "outputs": [
    {
     "name": "stderr",
     "output_type": "stream",
     "text": [
      "INFO  [alembic.runtime.migration] Context impl SQLiteImpl.\n",
      "INFO  [alembic.runtime.migration] Will assume non-transactional DDL.\n",
      "INFO  [alembic.runtime.migration] Running upgrade  -> 27fc5c72440c, create users table\n"
     ]
    }
   ],
   "source": [
    "%%bash\n",
    "alembic upgrade head"
   ]
  },
  {
   "cell_type": "code",
   "execution_count": 20,
   "metadata": {},
   "outputs": [
    {
     "name": "stdout",
     "output_type": "stream",
     "text": [
      "SELECT\n",
      "Row 1: (1, 'John Doe')\n",
      "Row 2: (2, 'Jane Doe')\n"
     ]
    }
   ],
   "source": [
    "async with async_engine.begin() as conn:\n",
    "    result = await conn.execute(\n",
    "        sqla.insert(users_table),\n",
    "        [\n",
    "            {\n",
    "                \"full name\": \"John Doe\"\n",
    "            },\n",
    "            {\n",
    "                \"full name\": \"Jane Doe\"\n",
    "            }\n",
    "        ]\n",
    "    )\n",
    "    print(f\"SELECT\")\n",
    "    result = await conn.execute(\n",
    "        sqla.select(users_table)\n",
    "    )\n",
    "    for nth, row in enumerate(result, 1):\n",
    "        print(f\"Row {nth}: {row}\")"
   ]
  },
  {
   "cell_type": "markdown",
   "metadata": {},
   "source": [
    "The good thing is that we can address user_table: so many changes made, but the mapping has not been corrupted (yet).\n",
    "\n",
    "Now we coming to the interesting part, let's have a quick memo:\n",
    "\n",
    "- the second migration should split the \"full name\" column into two attributes: \"fname\" (first name) and \"lname\" (last name) respectively;\n",
    "\n",
    "- no data must be lost, we should think about them as data in the production environment\n",
    "\n",
    "The [Alembic Cookbook](https://alembic.sqlalchemy.org/en/latest/cookbook.html) has a good example, but here we shall achieve the desired result manually."
   ]
  },
  {
   "cell_type": "code",
   "execution_count": 21,
   "metadata": {},
   "outputs": [
    {
     "name": "stderr",
     "output_type": "stream",
     "text": [
      "INFO  [alembic.runtime.migration] Context impl SQLiteImpl.\n",
      "INFO  [alembic.runtime.migration] Will assume non-transactional DDL.\n"
     ]
    },
    {
     "name": "stdout",
     "output_type": "stream",
     "text": [
      "27fc5c72440c (head)\n"
     ]
    }
   ],
   "source": [
    "%%bash\n",
    "alembic current"
   ]
  },
  {
   "cell_type": "code",
   "execution_count": 22,
   "metadata": {},
   "outputs": [],
   "source": [
    "await async_engine.dispose()"
   ]
  },
  {
   "cell_type": "markdown",
   "metadata": {},
   "source": [
    "### References\n",
    "\n",
    "- [Alembic documentation: main page](https://alembic.sqlalchemy.org/en/latest/index.html)\n",
    "\n",
    "- [Alembic: front matter = quickstart](https://alembic.sqlalchemy.org/en/latest/front.html)\n",
    "\n",
    "- [Alembic: tutorial](https://alembic.sqlalchemy.org/en/latest/tutorial.html)\n",
    "\n",
    "- [The insert() SQL Expression Construct](https://docs.sqlalchemy.org/en/20/tutorial/data_insert.html)\n"
   ]
  }
 ],
 "metadata": {
  "kernelspec": {
   "display_name": "sqla",
   "language": "python",
   "name": "python3"
  },
  "language_info": {
   "codemirror_mode": {
    "name": "ipython",
    "version": 3
   },
   "file_extension": ".py",
   "mimetype": "text/x-python",
   "name": "python",
   "nbconvert_exporter": "python",
   "pygments_lexer": "ipython3",
   "version": "3.10.12"
  }
 },
 "nbformat": 4,
 "nbformat_minor": 2
}
