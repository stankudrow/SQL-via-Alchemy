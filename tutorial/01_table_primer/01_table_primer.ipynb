{
 "cells": [
  {
   "cell_type": "markdown",
   "metadata": {},
   "source": [
    "# SQLAlchemy Table Primer\n",
    "\n",
    "Goals:\n",
    "\n",
    "- creating SQL tables;\n",
    "\n",
    "- populating tables with data;\n",
    "\n",
    "- simple select data queries;\n",
    "\n",
    "- updating data and even tables;\n",
    "\n",
    "- doing all the above in OOP style - moving away from \"SQL texts\""
   ]
  },
  {
   "cell_type": "markdown",
   "metadata": {},
   "source": [
    "## Table of Contents\n",
    "\n",
    "- [So be a table](#so-be-a-table)\n",
    "\n",
    "- [Table normalisation](#table-normalisation)\n",
    "\n",
    "- [References](#references)"
   ]
  },
  {
   "cell_type": "code",
   "execution_count": 1,
   "metadata": {},
   "outputs": [
    {
     "name": "stdout",
     "output_type": "stream",
     "text": [
      "SQLAlchemy version: 2.0.22\n"
     ]
    }
   ],
   "source": [
    "import sqlalchemy as sqla\n",
    "from sqlalchemy.orm import DeclarativeBase\n",
    "import sqlalchemy.ext.asyncio as async_sqla\n",
    "\n",
    "\n",
    "print(f\"SQLAlchemy version: {sqla.__version__}\")"
   ]
  },
  {
   "cell_type": "markdown",
   "metadata": {},
   "source": [
    "Previously touched:\n",
    "\n",
    "- asyncio code takes precedence throughout the tutorial;\n",
    "\n",
    "- SQLAlchemy >= 2;\n",
    "\n",
    "- asynchronous DB API's: [aiosqlite](https://aiosqlite.omnilib.dev/en/stable/) for now, but other connectors, like [asyncpg](https://magicstack.github.io/asyncpg/current/), will be covered later in advanced topics."
   ]
  },
  {
   "cell_type": "code",
   "execution_count": 2,
   "metadata": {},
   "outputs": [
    {
     "name": "stdout",
     "output_type": "stream",
     "text": [
      "Engine: <sqlalchemy.ext.asyncio.engine.AsyncEngine object at 0x7fe7c371e740>\n",
      "MetaData: MetaData()\n"
     ]
    }
   ],
   "source": [
    "url: str = \"sqlite+aiosqlite:///:memory:\"\n",
    "async_engine = async_sqla.create_async_engine(url=url, echo=True)\n",
    "\n",
    "metadata = sqla.MetaData()  # will be explained later\n",
    "\n",
    "print(f\"Engine: {async_engine}\")\n",
    "print(f\"MetaData: {metadata}\")"
   ]
  },
  {
   "cell_type": "markdown",
   "metadata": {},
   "source": [
    "### So be a table\n",
    "\n",
    "**Here and below** mostly everything will be put simply, please do not forget about this disclaimer and don't hesitate to do your own researches.\n",
    "\n",
    "SQL is about relational theory in practice. A relation is mapped to a table in the SQL world (but some authors say these entities are not the same). You may read more about [\"The SQL Standard – ISO/IEC 9075:2023 (ANSI X3.135)\"](https://blog.ansi.org/sql-standard-iso-iec-9075-2023-ansi-x3-135/).\n",
    "\n",
    "So, in SQLAlchemy there is a `class sqlalchemy.schema.Table` for mapping an object/instance of this class to a table in a relational database management system (RDBMS). It needs a table name and metadata. Generally, metadata are data that describe data like the format, structure and so on. In SQLAlchemy, the term “metadata” typically refers to the [MetaData](https://docs.sqlalchemy.org/en/20/core/metadata.html#sqlalchemy.schema.MetaData) construct, which is a collection of information about the tables, columns, constraints, and other [DDL](https://docs.sqlalchemy.org/en/20/glossary.html#term-DDL) (Data Definition Language) objects that may exist in a particular database ([link](https://docs.sqlalchemy.org/en/20/glossary.html#term-database-metadata)).\n",
    "\n",
    "Time for the action - following the SQLAlchemy [tutorial page](https://docs.sqlalchemy.org/en/20/tutorial/metadata.html) with tables and metadata. First, direct table instance construction -> creating a Table instance != creating the corresponding SQL table!"
   ]
  },
  {
   "cell_type": "code",
   "execution_count": 3,
   "metadata": {},
   "outputs": [
    {
     "data": {
      "text/plain": [
       "Table('users', MetaData(), Column('ID', Integer(), table=<users>, primary_key=True, nullable=False), Column('full name', String(length=100), table=<users>, nullable=False), schema=None)"
      ]
     },
     "execution_count": 3,
     "metadata": {},
     "output_type": "execute_result"
    }
   ],
   "source": [
    "# Attention! The cell is meant to be run once\n",
    "\n",
    "# table direct construction\n",
    "users_table = sqla.Table(\n",
    "    \"users\",\n",
    "    metadata,\n",
    "    sqla.Column(\"ID\", sqla.Integer, primary_key=True, autoincrement=True),\n",
    "    sqla.Column(\"full name\", sqla.String(length=100), nullable=False),\n",
    ")\n",
    "users_table"
   ]
  },
  {
   "cell_type": "code",
   "execution_count": 4,
   "metadata": {},
   "outputs": [
    {
     "name": "stdout",
     "output_type": "stream",
     "text": [
      "Users table: users\n",
      "Users keys: ['ID', 'full name']\n",
      "Users primary key: PrimaryKeyConstraint(Column('ID', Integer(), table=<users>, primary_key=True, nullable=False))\n",
      "\n",
      "MetaData.tables: FacadeDict({'users': Table('users', MetaData(), Column('ID', Integer(), table=<users>, primary_key=True, nullable=False), Column('full name', String(length=100), table=<users>, nullable=False), schema=None)})\n"
     ]
    }
   ],
   "source": [
    "# However, in case you need to rerun the previous cell,\n",
    "# you can uncomment the following line:\n",
    "# metadata.remove(users_table)\n",
    "\n",
    "print(f\"Users table: {users_table}\")\n",
    "print(f\"Users keys: {users_table.c.keys()}\")\n",
    "print(f\"Users primary key: {users_table.primary_key}\")\n",
    "\n",
    "print(f\"\\nMetaData.tables: {metadata.tables}\")"
   ]
  },
  {
   "cell_type": "markdown",
   "metadata": {},
   "source": [
    "Let's insert some data to the \"Users\" table, but before the leap, a simple `SELECT * FROM Users` statement as a [smoke test](https://en.wikipedia.org/wiki/Smoke_testing_(software))."
   ]
  },
  {
   "cell_type": "code",
   "execution_count": 5,
   "metadata": {},
   "outputs": [
    {
     "name": "stdout",
     "output_type": "stream",
     "text": [
      "2023-11-19 22:07:31,980 INFO sqlalchemy.engine.Engine BEGIN (implicit)\n",
      "2023-11-19 22:07:31,981 INFO sqlalchemy.engine.Engine SELECT users.\"ID\", users.\"full name\" \n",
      "FROM users\n",
      "2023-11-19 22:07:31,981 INFO sqlalchemy.engine.Engine [generated in 0.00133s] ()\n",
      "2023-11-19 22:07:31,983 INFO sqlalchemy.engine.Engine ROLLBACK\n"
     ]
    },
    {
     "ename": "OperationalError",
     "evalue": "(sqlite3.OperationalError) no such table: users\n[SQL: SELECT users.\"ID\", users.\"full name\" \nFROM users]\n(Background on this error at: https://sqlalche.me/e/20/e3q8)",
     "output_type": "error",
     "traceback": [
      "\u001b[0;31m---------------------------------------------------------------------------\u001b[0m",
      "\u001b[0;31mOperationalError\u001b[0m                          Traceback (most recent call last)",
      "File \u001b[0;32m~/Projects/SQL-via-Alchemy/sqla/lib/python3.10/site-packages/sqlalchemy/engine/base.py:1969\u001b[0m, in \u001b[0;36mConnection._exec_single_context\u001b[0;34m(self, dialect, context, statement, parameters)\u001b[0m\n\u001b[1;32m   1968\u001b[0m     \u001b[39mif\u001b[39;00m \u001b[39mnot\u001b[39;00m evt_handled:\n\u001b[0;32m-> 1969\u001b[0m         \u001b[39mself\u001b[39;49m\u001b[39m.\u001b[39;49mdialect\u001b[39m.\u001b[39;49mdo_execute(\n\u001b[1;32m   1970\u001b[0m             cursor, str_statement, effective_parameters, context\n\u001b[1;32m   1971\u001b[0m         )\n\u001b[1;32m   1973\u001b[0m \u001b[39mif\u001b[39;00m \u001b[39mself\u001b[39m\u001b[39m.\u001b[39m_has_events \u001b[39mor\u001b[39;00m \u001b[39mself\u001b[39m\u001b[39m.\u001b[39mengine\u001b[39m.\u001b[39m_has_events:\n",
      "File \u001b[0;32m~/Projects/SQL-via-Alchemy/sqla/lib/python3.10/site-packages/sqlalchemy/engine/default.py:922\u001b[0m, in \u001b[0;36mDefaultDialect.do_execute\u001b[0;34m(self, cursor, statement, parameters, context)\u001b[0m\n\u001b[1;32m    921\u001b[0m \u001b[39mdef\u001b[39;00m \u001b[39mdo_execute\u001b[39m(\u001b[39mself\u001b[39m, cursor, statement, parameters, context\u001b[39m=\u001b[39m\u001b[39mNone\u001b[39;00m):\n\u001b[0;32m--> 922\u001b[0m     cursor\u001b[39m.\u001b[39;49mexecute(statement, parameters)\n",
      "File \u001b[0;32m~/Projects/SQL-via-Alchemy/sqla/lib/python3.10/site-packages/sqlalchemy/dialects/sqlite/aiosqlite.py:113\u001b[0m, in \u001b[0;36mAsyncAdapt_aiosqlite_cursor.execute\u001b[0;34m(self, operation, parameters)\u001b[0m\n\u001b[1;32m    112\u001b[0m \u001b[39mexcept\u001b[39;00m \u001b[39mException\u001b[39;00m \u001b[39mas\u001b[39;00m error:\n\u001b[0;32m--> 113\u001b[0m     \u001b[39mself\u001b[39;49m\u001b[39m.\u001b[39;49m_adapt_connection\u001b[39m.\u001b[39;49m_handle_exception(error)\n",
      "File \u001b[0;32m~/Projects/SQL-via-Alchemy/sqla/lib/python3.10/site-packages/sqlalchemy/dialects/sqlite/aiosqlite.py:263\u001b[0m, in \u001b[0;36mAsyncAdapt_aiosqlite_connection._handle_exception\u001b[0;34m(self, error)\u001b[0m\n\u001b[1;32m    262\u001b[0m \u001b[39melse\u001b[39;00m:\n\u001b[0;32m--> 263\u001b[0m     \u001b[39mraise\u001b[39;00m error\n",
      "File \u001b[0;32m~/Projects/SQL-via-Alchemy/sqla/lib/python3.10/site-packages/sqlalchemy/dialects/sqlite/aiosqlite.py:95\u001b[0m, in \u001b[0;36mAsyncAdapt_aiosqlite_cursor.execute\u001b[0;34m(self, operation, parameters)\u001b[0m\n\u001b[1;32m     94\u001b[0m \u001b[39melse\u001b[39;00m:\n\u001b[0;32m---> 95\u001b[0m     \u001b[39mself\u001b[39;49m\u001b[39m.\u001b[39;49mawait_(_cursor\u001b[39m.\u001b[39;49mexecute(operation, parameters))\n\u001b[1;32m     97\u001b[0m \u001b[39mif\u001b[39;00m _cursor\u001b[39m.\u001b[39mdescription:\n",
      "File \u001b[0;32m~/Projects/SQL-via-Alchemy/sqla/lib/python3.10/site-packages/sqlalchemy/util/_concurrency_py3k.py:125\u001b[0m, in \u001b[0;36mawait_only\u001b[0;34m(awaitable)\u001b[0m\n\u001b[1;32m    121\u001b[0m \u001b[39m# returns the control to the driver greenlet passing it\u001b[39;00m\n\u001b[1;32m    122\u001b[0m \u001b[39m# a coroutine to run. Once the awaitable is done, the driver greenlet\u001b[39;00m\n\u001b[1;32m    123\u001b[0m \u001b[39m# switches back to this greenlet with the result of awaitable that is\u001b[39;00m\n\u001b[1;32m    124\u001b[0m \u001b[39m# then returned to the caller (or raised as error)\u001b[39;00m\n\u001b[0;32m--> 125\u001b[0m \u001b[39mreturn\u001b[39;00m current\u001b[39m.\u001b[39;49mdriver\u001b[39m.\u001b[39;49mswitch(awaitable)\n",
      "File \u001b[0;32m~/Projects/SQL-via-Alchemy/sqla/lib/python3.10/site-packages/sqlalchemy/util/_concurrency_py3k.py:185\u001b[0m, in \u001b[0;36mgreenlet_spawn\u001b[0;34m(fn, _require_await, *args, **kwargs)\u001b[0m\n\u001b[1;32m    182\u001b[0m \u001b[39mtry\u001b[39;00m:\n\u001b[1;32m    183\u001b[0m     \u001b[39m# wait for a coroutine from await_only and then return its\u001b[39;00m\n\u001b[1;32m    184\u001b[0m     \u001b[39m# result back to it.\u001b[39;00m\n\u001b[0;32m--> 185\u001b[0m     value \u001b[39m=\u001b[39m \u001b[39mawait\u001b[39;00m result\n\u001b[1;32m    186\u001b[0m \u001b[39mexcept\u001b[39;00m \u001b[39mBaseException\u001b[39;00m:\n\u001b[1;32m    187\u001b[0m     \u001b[39m# this allows an exception to be raised within\u001b[39;00m\n\u001b[1;32m    188\u001b[0m     \u001b[39m# the moderated greenlet so that it can continue\u001b[39;00m\n\u001b[1;32m    189\u001b[0m     \u001b[39m# its expected flow.\u001b[39;00m\n",
      "File \u001b[0;32m~/Projects/SQL-via-Alchemy/sqla/lib/python3.10/site-packages/aiosqlite/cursor.py:48\u001b[0m, in \u001b[0;36mCursor.execute\u001b[0;34m(self, sql, parameters)\u001b[0m\n\u001b[1;32m     47\u001b[0m     parameters \u001b[39m=\u001b[39m []\n\u001b[0;32m---> 48\u001b[0m \u001b[39mawait\u001b[39;00m \u001b[39mself\u001b[39m\u001b[39m.\u001b[39m_execute(\u001b[39mself\u001b[39m\u001b[39m.\u001b[39m_cursor\u001b[39m.\u001b[39mexecute, sql, parameters)\n\u001b[1;32m     49\u001b[0m \u001b[39mreturn\u001b[39;00m \u001b[39mself\u001b[39m\n",
      "File \u001b[0;32m~/Projects/SQL-via-Alchemy/sqla/lib/python3.10/site-packages/aiosqlite/cursor.py:40\u001b[0m, in \u001b[0;36mCursor._execute\u001b[0;34m(self, fn, *args, **kwargs)\u001b[0m\n\u001b[1;32m     39\u001b[0m \u001b[39m\u001b[39m\u001b[39m\"\"\"Execute the given function on the shared connection's thread.\"\"\"\u001b[39;00m\n\u001b[0;32m---> 40\u001b[0m \u001b[39mreturn\u001b[39;00m \u001b[39mawait\u001b[39;00m \u001b[39mself\u001b[39m\u001b[39m.\u001b[39m_conn\u001b[39m.\u001b[39m_execute(fn, \u001b[39m*\u001b[39margs, \u001b[39m*\u001b[39m\u001b[39m*\u001b[39mkwargs)\n",
      "File \u001b[0;32m~/Projects/SQL-via-Alchemy/sqla/lib/python3.10/site-packages/aiosqlite/core.py:133\u001b[0m, in \u001b[0;36mConnection._execute\u001b[0;34m(self, fn, *args, **kwargs)\u001b[0m\n\u001b[1;32m    131\u001b[0m \u001b[39mself\u001b[39m\u001b[39m.\u001b[39m_tx\u001b[39m.\u001b[39mput_nowait((future, function))\n\u001b[0;32m--> 133\u001b[0m \u001b[39mreturn\u001b[39;00m \u001b[39mawait\u001b[39;00m future\n",
      "File \u001b[0;32m~/Projects/SQL-via-Alchemy/sqla/lib/python3.10/site-packages/aiosqlite/core.py:106\u001b[0m, in \u001b[0;36mConnection.run\u001b[0;34m(self)\u001b[0m\n\u001b[1;32m    105\u001b[0m LOG\u001b[39m.\u001b[39mdebug(\u001b[39m\"\u001b[39m\u001b[39mexecuting \u001b[39m\u001b[39m%s\u001b[39;00m\u001b[39m\"\u001b[39m, function)\n\u001b[0;32m--> 106\u001b[0m result \u001b[39m=\u001b[39m function()\n\u001b[1;32m    107\u001b[0m LOG\u001b[39m.\u001b[39mdebug(\u001b[39m\"\u001b[39m\u001b[39moperation \u001b[39m\u001b[39m%s\u001b[39;00m\u001b[39m completed\u001b[39m\u001b[39m\"\u001b[39m, function)\n",
      "\u001b[0;31mOperationalError\u001b[0m: no such table: users",
      "\nThe above exception was the direct cause of the following exception:\n",
      "\u001b[0;31mOperationalError\u001b[0m                          Traceback (most recent call last)",
      "\u001b[1;32m/home/stankudrow/Projects/SQL-via-Alchemy/tutorial/01_table_primer/01_table_primer.ipynb Cell 10\u001b[0m line \u001b[0;36m2\n\u001b[1;32m      <a href='vscode-notebook-cell:/home/stankudrow/Projects/SQL-via-Alchemy/tutorial/01_table_primer/01_table_primer.ipynb#X12sZmlsZQ%3D%3D?line=0'>1</a>\u001b[0m \u001b[39masync\u001b[39;00m \u001b[39mwith\u001b[39;00m async_engine\u001b[39m.\u001b[39mconnect() \u001b[39mas\u001b[39;00m async_conn:\n\u001b[0;32m----> <a href='vscode-notebook-cell:/home/stankudrow/Projects/SQL-via-Alchemy/tutorial/01_table_primer/01_table_primer.ipynb#X12sZmlsZQ%3D%3D?line=1'>2</a>\u001b[0m     \u001b[39mawait\u001b[39;00m async_conn\u001b[39m.\u001b[39mexecute(users_table\u001b[39m.\u001b[39mselect())\n",
      "File \u001b[0;32m~/Projects/SQL-via-Alchemy/sqla/lib/python3.10/site-packages/sqlalchemy/ext/asyncio/engine.py:654\u001b[0m, in \u001b[0;36mAsyncConnection.execute\u001b[0;34m(self, statement, parameters, execution_options)\u001b[0m\n\u001b[1;32m    616\u001b[0m \u001b[39masync\u001b[39;00m \u001b[39mdef\u001b[39;00m \u001b[39mexecute\u001b[39m(\n\u001b[1;32m    617\u001b[0m     \u001b[39mself\u001b[39m,\n\u001b[1;32m    618\u001b[0m     statement: Executable,\n\u001b[0;32m   (...)\u001b[0m\n\u001b[1;32m    621\u001b[0m     execution_options: Optional[CoreExecuteOptionsParameter] \u001b[39m=\u001b[39m \u001b[39mNone\u001b[39;00m,\n\u001b[1;32m    622\u001b[0m ) \u001b[39m-\u001b[39m\u001b[39m>\u001b[39m CursorResult[Any]:\n\u001b[1;32m    623\u001b[0m \u001b[39m    \u001b[39m\u001b[39mr\u001b[39m\u001b[39m\"\"\"Executes a SQL statement construct and return a buffered\u001b[39;00m\n\u001b[1;32m    624\u001b[0m \u001b[39m    :class:`_engine.Result`.\u001b[39;00m\n\u001b[1;32m    625\u001b[0m \n\u001b[0;32m   (...)\u001b[0m\n\u001b[1;32m    652\u001b[0m \n\u001b[1;32m    653\u001b[0m \u001b[39m    \"\"\"\u001b[39;00m\n\u001b[0;32m--> 654\u001b[0m     result \u001b[39m=\u001b[39m \u001b[39mawait\u001b[39;00m greenlet_spawn(\n\u001b[1;32m    655\u001b[0m         \u001b[39mself\u001b[39m\u001b[39m.\u001b[39m_proxied\u001b[39m.\u001b[39mexecute,\n\u001b[1;32m    656\u001b[0m         statement,\n\u001b[1;32m    657\u001b[0m         parameters,\n\u001b[1;32m    658\u001b[0m         execution_options\u001b[39m=\u001b[39mexecution_options,\n\u001b[1;32m    659\u001b[0m         _require_await\u001b[39m=\u001b[39m\u001b[39mTrue\u001b[39;00m,\n\u001b[1;32m    660\u001b[0m     )\n\u001b[1;32m    661\u001b[0m     \u001b[39mreturn\u001b[39;00m \u001b[39mawait\u001b[39;00m _ensure_sync_result(result, \u001b[39mself\u001b[39m\u001b[39m.\u001b[39mexecute)\n",
      "File \u001b[0;32m~/Projects/SQL-via-Alchemy/sqla/lib/python3.10/site-packages/sqlalchemy/util/_concurrency_py3k.py:190\u001b[0m, in \u001b[0;36mgreenlet_spawn\u001b[0;34m(fn, _require_await, *args, **kwargs)\u001b[0m\n\u001b[1;32m    185\u001b[0m     value \u001b[39m=\u001b[39m \u001b[39mawait\u001b[39;00m result\n\u001b[1;32m    186\u001b[0m \u001b[39mexcept\u001b[39;00m \u001b[39mBaseException\u001b[39;00m:\n\u001b[1;32m    187\u001b[0m     \u001b[39m# this allows an exception to be raised within\u001b[39;00m\n\u001b[1;32m    188\u001b[0m     \u001b[39m# the moderated greenlet so that it can continue\u001b[39;00m\n\u001b[1;32m    189\u001b[0m     \u001b[39m# its expected flow.\u001b[39;00m\n\u001b[0;32m--> 190\u001b[0m     result \u001b[39m=\u001b[39m context\u001b[39m.\u001b[39;49mthrow(\u001b[39m*\u001b[39;49msys\u001b[39m.\u001b[39;49mexc_info())\n\u001b[1;32m    191\u001b[0m \u001b[39melse\u001b[39;00m:\n\u001b[1;32m    192\u001b[0m     result \u001b[39m=\u001b[39m context\u001b[39m.\u001b[39mswitch(value)\n",
      "File \u001b[0;32m~/Projects/SQL-via-Alchemy/sqla/lib/python3.10/site-packages/sqlalchemy/engine/base.py:1416\u001b[0m, in \u001b[0;36mConnection.execute\u001b[0;34m(self, statement, parameters, execution_options)\u001b[0m\n\u001b[1;32m   1414\u001b[0m     \u001b[39mraise\u001b[39;00m exc\u001b[39m.\u001b[39mObjectNotExecutableError(statement) \u001b[39mfrom\u001b[39;00m \u001b[39merr\u001b[39;00m\n\u001b[1;32m   1415\u001b[0m \u001b[39melse\u001b[39;00m:\n\u001b[0;32m-> 1416\u001b[0m     \u001b[39mreturn\u001b[39;00m meth(\n\u001b[1;32m   1417\u001b[0m         \u001b[39mself\u001b[39;49m,\n\u001b[1;32m   1418\u001b[0m         distilled_parameters,\n\u001b[1;32m   1419\u001b[0m         execution_options \u001b[39mor\u001b[39;49;00m NO_OPTIONS,\n\u001b[1;32m   1420\u001b[0m     )\n",
      "File \u001b[0;32m~/Projects/SQL-via-Alchemy/sqla/lib/python3.10/site-packages/sqlalchemy/sql/elements.py:516\u001b[0m, in \u001b[0;36mClauseElement._execute_on_connection\u001b[0;34m(self, connection, distilled_params, execution_options)\u001b[0m\n\u001b[1;32m    514\u001b[0m     \u001b[39mif\u001b[39;00m TYPE_CHECKING:\n\u001b[1;32m    515\u001b[0m         \u001b[39massert\u001b[39;00m \u001b[39misinstance\u001b[39m(\u001b[39mself\u001b[39m, Executable)\n\u001b[0;32m--> 516\u001b[0m     \u001b[39mreturn\u001b[39;00m connection\u001b[39m.\u001b[39;49m_execute_clauseelement(\n\u001b[1;32m    517\u001b[0m         \u001b[39mself\u001b[39;49m, distilled_params, execution_options\n\u001b[1;32m    518\u001b[0m     )\n\u001b[1;32m    519\u001b[0m \u001b[39melse\u001b[39;00m:\n\u001b[1;32m    520\u001b[0m     \u001b[39mraise\u001b[39;00m exc\u001b[39m.\u001b[39mObjectNotExecutableError(\u001b[39mself\u001b[39m)\n",
      "File \u001b[0;32m~/Projects/SQL-via-Alchemy/sqla/lib/python3.10/site-packages/sqlalchemy/engine/base.py:1639\u001b[0m, in \u001b[0;36mConnection._execute_clauseelement\u001b[0;34m(self, elem, distilled_parameters, execution_options)\u001b[0m\n\u001b[1;32m   1627\u001b[0m compiled_cache: Optional[CompiledCacheType] \u001b[39m=\u001b[39m execution_options\u001b[39m.\u001b[39mget(\n\u001b[1;32m   1628\u001b[0m     \u001b[39m\"\u001b[39m\u001b[39mcompiled_cache\u001b[39m\u001b[39m\"\u001b[39m, \u001b[39mself\u001b[39m\u001b[39m.\u001b[39mengine\u001b[39m.\u001b[39m_compiled_cache\n\u001b[1;32m   1629\u001b[0m )\n\u001b[1;32m   1631\u001b[0m compiled_sql, extracted_params, cache_hit \u001b[39m=\u001b[39m elem\u001b[39m.\u001b[39m_compile_w_cache(\n\u001b[1;32m   1632\u001b[0m     dialect\u001b[39m=\u001b[39mdialect,\n\u001b[1;32m   1633\u001b[0m     compiled_cache\u001b[39m=\u001b[39mcompiled_cache,\n\u001b[0;32m   (...)\u001b[0m\n\u001b[1;32m   1637\u001b[0m     linting\u001b[39m=\u001b[39m\u001b[39mself\u001b[39m\u001b[39m.\u001b[39mdialect\u001b[39m.\u001b[39mcompiler_linting \u001b[39m|\u001b[39m compiler\u001b[39m.\u001b[39mWARN_LINTING,\n\u001b[1;32m   1638\u001b[0m )\n\u001b[0;32m-> 1639\u001b[0m ret \u001b[39m=\u001b[39m \u001b[39mself\u001b[39;49m\u001b[39m.\u001b[39;49m_execute_context(\n\u001b[1;32m   1640\u001b[0m     dialect,\n\u001b[1;32m   1641\u001b[0m     dialect\u001b[39m.\u001b[39;49mexecution_ctx_cls\u001b[39m.\u001b[39;49m_init_compiled,\n\u001b[1;32m   1642\u001b[0m     compiled_sql,\n\u001b[1;32m   1643\u001b[0m     distilled_parameters,\n\u001b[1;32m   1644\u001b[0m     execution_options,\n\u001b[1;32m   1645\u001b[0m     compiled_sql,\n\u001b[1;32m   1646\u001b[0m     distilled_parameters,\n\u001b[1;32m   1647\u001b[0m     elem,\n\u001b[1;32m   1648\u001b[0m     extracted_params,\n\u001b[1;32m   1649\u001b[0m     cache_hit\u001b[39m=\u001b[39;49mcache_hit,\n\u001b[1;32m   1650\u001b[0m )\n\u001b[1;32m   1651\u001b[0m \u001b[39mif\u001b[39;00m has_events:\n\u001b[1;32m   1652\u001b[0m     \u001b[39mself\u001b[39m\u001b[39m.\u001b[39mdispatch\u001b[39m.\u001b[39mafter_execute(\n\u001b[1;32m   1653\u001b[0m         \u001b[39mself\u001b[39m,\n\u001b[1;32m   1654\u001b[0m         elem,\n\u001b[0;32m   (...)\u001b[0m\n\u001b[1;32m   1658\u001b[0m         ret,\n\u001b[1;32m   1659\u001b[0m     )\n",
      "File \u001b[0;32m~/Projects/SQL-via-Alchemy/sqla/lib/python3.10/site-packages/sqlalchemy/engine/base.py:1848\u001b[0m, in \u001b[0;36mConnection._execute_context\u001b[0;34m(self, dialect, constructor, statement, parameters, execution_options, *args, **kw)\u001b[0m\n\u001b[1;32m   1843\u001b[0m     \u001b[39mreturn\u001b[39;00m \u001b[39mself\u001b[39m\u001b[39m.\u001b[39m_exec_insertmany_context(\n\u001b[1;32m   1844\u001b[0m         dialect,\n\u001b[1;32m   1845\u001b[0m         context,\n\u001b[1;32m   1846\u001b[0m     )\n\u001b[1;32m   1847\u001b[0m \u001b[39melse\u001b[39;00m:\n\u001b[0;32m-> 1848\u001b[0m     \u001b[39mreturn\u001b[39;00m \u001b[39mself\u001b[39;49m\u001b[39m.\u001b[39;49m_exec_single_context(\n\u001b[1;32m   1849\u001b[0m         dialect, context, statement, parameters\n\u001b[1;32m   1850\u001b[0m     )\n",
      "File \u001b[0;32m~/Projects/SQL-via-Alchemy/sqla/lib/python3.10/site-packages/sqlalchemy/engine/base.py:1988\u001b[0m, in \u001b[0;36mConnection._exec_single_context\u001b[0;34m(self, dialect, context, statement, parameters)\u001b[0m\n\u001b[1;32m   1985\u001b[0m     result \u001b[39m=\u001b[39m context\u001b[39m.\u001b[39m_setup_result_proxy()\n\u001b[1;32m   1987\u001b[0m \u001b[39mexcept\u001b[39;00m \u001b[39mBaseException\u001b[39;00m \u001b[39mas\u001b[39;00m e:\n\u001b[0;32m-> 1988\u001b[0m     \u001b[39mself\u001b[39;49m\u001b[39m.\u001b[39;49m_handle_dbapi_exception(\n\u001b[1;32m   1989\u001b[0m         e, str_statement, effective_parameters, cursor, context\n\u001b[1;32m   1990\u001b[0m     )\n\u001b[1;32m   1992\u001b[0m \u001b[39mreturn\u001b[39;00m result\n",
      "File \u001b[0;32m~/Projects/SQL-via-Alchemy/sqla/lib/python3.10/site-packages/sqlalchemy/engine/base.py:2343\u001b[0m, in \u001b[0;36mConnection._handle_dbapi_exception\u001b[0;34m(self, e, statement, parameters, cursor, context, is_sub_exec)\u001b[0m\n\u001b[1;32m   2341\u001b[0m \u001b[39melif\u001b[39;00m should_wrap:\n\u001b[1;32m   2342\u001b[0m     \u001b[39massert\u001b[39;00m sqlalchemy_exception \u001b[39mis\u001b[39;00m \u001b[39mnot\u001b[39;00m \u001b[39mNone\u001b[39;00m\n\u001b[0;32m-> 2343\u001b[0m     \u001b[39mraise\u001b[39;00m sqlalchemy_exception\u001b[39m.\u001b[39mwith_traceback(exc_info[\u001b[39m2\u001b[39m]) \u001b[39mfrom\u001b[39;00m \u001b[39me\u001b[39;00m\n\u001b[1;32m   2344\u001b[0m \u001b[39melse\u001b[39;00m:\n\u001b[1;32m   2345\u001b[0m     \u001b[39massert\u001b[39;00m exc_info[\u001b[39m1\u001b[39m] \u001b[39mis\u001b[39;00m \u001b[39mnot\u001b[39;00m \u001b[39mNone\u001b[39;00m\n",
      "File \u001b[0;32m~/Projects/SQL-via-Alchemy/sqla/lib/python3.10/site-packages/sqlalchemy/engine/base.py:1969\u001b[0m, in \u001b[0;36mConnection._exec_single_context\u001b[0;34m(self, dialect, context, statement, parameters)\u001b[0m\n\u001b[1;32m   1967\u001b[0m                 \u001b[39mbreak\u001b[39;00m\n\u001b[1;32m   1968\u001b[0m     \u001b[39mif\u001b[39;00m \u001b[39mnot\u001b[39;00m evt_handled:\n\u001b[0;32m-> 1969\u001b[0m         \u001b[39mself\u001b[39;49m\u001b[39m.\u001b[39;49mdialect\u001b[39m.\u001b[39;49mdo_execute(\n\u001b[1;32m   1970\u001b[0m             cursor, str_statement, effective_parameters, context\n\u001b[1;32m   1971\u001b[0m         )\n\u001b[1;32m   1973\u001b[0m \u001b[39mif\u001b[39;00m \u001b[39mself\u001b[39m\u001b[39m.\u001b[39m_has_events \u001b[39mor\u001b[39;00m \u001b[39mself\u001b[39m\u001b[39m.\u001b[39mengine\u001b[39m.\u001b[39m_has_events:\n\u001b[1;32m   1974\u001b[0m     \u001b[39mself\u001b[39m\u001b[39m.\u001b[39mdispatch\u001b[39m.\u001b[39mafter_cursor_execute(\n\u001b[1;32m   1975\u001b[0m         \u001b[39mself\u001b[39m,\n\u001b[1;32m   1976\u001b[0m         cursor,\n\u001b[0;32m   (...)\u001b[0m\n\u001b[1;32m   1980\u001b[0m         context\u001b[39m.\u001b[39mexecutemany,\n\u001b[1;32m   1981\u001b[0m     )\n",
      "File \u001b[0;32m~/Projects/SQL-via-Alchemy/sqla/lib/python3.10/site-packages/sqlalchemy/engine/default.py:922\u001b[0m, in \u001b[0;36mDefaultDialect.do_execute\u001b[0;34m(self, cursor, statement, parameters, context)\u001b[0m\n\u001b[1;32m    921\u001b[0m \u001b[39mdef\u001b[39;00m \u001b[39mdo_execute\u001b[39m(\u001b[39mself\u001b[39m, cursor, statement, parameters, context\u001b[39m=\u001b[39m\u001b[39mNone\u001b[39;00m):\n\u001b[0;32m--> 922\u001b[0m     cursor\u001b[39m.\u001b[39;49mexecute(statement, parameters)\n",
      "File \u001b[0;32m~/Projects/SQL-via-Alchemy/sqla/lib/python3.10/site-packages/sqlalchemy/dialects/sqlite/aiosqlite.py:113\u001b[0m, in \u001b[0;36mAsyncAdapt_aiosqlite_cursor.execute\u001b[0;34m(self, operation, parameters)\u001b[0m\n\u001b[1;32m    111\u001b[0m         \u001b[39mself\u001b[39m\u001b[39m.\u001b[39m_cursor \u001b[39m=\u001b[39m _cursor\n\u001b[1;32m    112\u001b[0m \u001b[39mexcept\u001b[39;00m \u001b[39mException\u001b[39;00m \u001b[39mas\u001b[39;00m error:\n\u001b[0;32m--> 113\u001b[0m     \u001b[39mself\u001b[39;49m\u001b[39m.\u001b[39;49m_adapt_connection\u001b[39m.\u001b[39;49m_handle_exception(error)\n",
      "File \u001b[0;32m~/Projects/SQL-via-Alchemy/sqla/lib/python3.10/site-packages/sqlalchemy/dialects/sqlite/aiosqlite.py:263\u001b[0m, in \u001b[0;36mAsyncAdapt_aiosqlite_connection._handle_exception\u001b[0;34m(self, error)\u001b[0m\n\u001b[1;32m    259\u001b[0m     \u001b[39mraise\u001b[39;00m \u001b[39mself\u001b[39m\u001b[39m.\u001b[39mdbapi\u001b[39m.\u001b[39msqlite\u001b[39m.\u001b[39mOperationalError(\n\u001b[1;32m    260\u001b[0m         \u001b[39m\"\u001b[39m\u001b[39mno active connection\u001b[39m\u001b[39m\"\u001b[39m\n\u001b[1;32m    261\u001b[0m     ) \u001b[39mfrom\u001b[39;00m \u001b[39merror\u001b[39;00m\n\u001b[1;32m    262\u001b[0m \u001b[39melse\u001b[39;00m:\n\u001b[0;32m--> 263\u001b[0m     \u001b[39mraise\u001b[39;00m error\n",
      "File \u001b[0;32m~/Projects/SQL-via-Alchemy/sqla/lib/python3.10/site-packages/sqlalchemy/dialects/sqlite/aiosqlite.py:95\u001b[0m, in \u001b[0;36mAsyncAdapt_aiosqlite_cursor.execute\u001b[0;34m(self, operation, parameters)\u001b[0m\n\u001b[1;32m     93\u001b[0m     \u001b[39mself\u001b[39m\u001b[39m.\u001b[39mawait_(_cursor\u001b[39m.\u001b[39mexecute(operation))\n\u001b[1;32m     94\u001b[0m \u001b[39melse\u001b[39;00m:\n\u001b[0;32m---> 95\u001b[0m     \u001b[39mself\u001b[39;49m\u001b[39m.\u001b[39;49mawait_(_cursor\u001b[39m.\u001b[39;49mexecute(operation, parameters))\n\u001b[1;32m     97\u001b[0m \u001b[39mif\u001b[39;00m _cursor\u001b[39m.\u001b[39mdescription:\n\u001b[1;32m     98\u001b[0m     \u001b[39mself\u001b[39m\u001b[39m.\u001b[39mdescription \u001b[39m=\u001b[39m _cursor\u001b[39m.\u001b[39mdescription\n",
      "File \u001b[0;32m~/Projects/SQL-via-Alchemy/sqla/lib/python3.10/site-packages/sqlalchemy/util/_concurrency_py3k.py:125\u001b[0m, in \u001b[0;36mawait_only\u001b[0;34m(awaitable)\u001b[0m\n\u001b[1;32m    116\u001b[0m     \u001b[39mraise\u001b[39;00m exc\u001b[39m.\u001b[39mMissingGreenlet(\n\u001b[1;32m    117\u001b[0m         \u001b[39m\"\u001b[39m\u001b[39mgreenlet_spawn has not been called; can\u001b[39m\u001b[39m'\u001b[39m\u001b[39mt call await_only() \u001b[39m\u001b[39m\"\u001b[39m\n\u001b[1;32m    118\u001b[0m         \u001b[39m\"\u001b[39m\u001b[39mhere. Was IO attempted in an unexpected place?\u001b[39m\u001b[39m\"\u001b[39m\n\u001b[1;32m    119\u001b[0m     )\n\u001b[1;32m    121\u001b[0m \u001b[39m# returns the control to the driver greenlet passing it\u001b[39;00m\n\u001b[1;32m    122\u001b[0m \u001b[39m# a coroutine to run. Once the awaitable is done, the driver greenlet\u001b[39;00m\n\u001b[1;32m    123\u001b[0m \u001b[39m# switches back to this greenlet with the result of awaitable that is\u001b[39;00m\n\u001b[1;32m    124\u001b[0m \u001b[39m# then returned to the caller (or raised as error)\u001b[39;00m\n\u001b[0;32m--> 125\u001b[0m \u001b[39mreturn\u001b[39;00m current\u001b[39m.\u001b[39;49mdriver\u001b[39m.\u001b[39;49mswitch(awaitable)\n",
      "File \u001b[0;32m~/Projects/SQL-via-Alchemy/sqla/lib/python3.10/site-packages/sqlalchemy/util/_concurrency_py3k.py:185\u001b[0m, in \u001b[0;36mgreenlet_spawn\u001b[0;34m(fn, _require_await, *args, **kwargs)\u001b[0m\n\u001b[1;32m    181\u001b[0m switch_occurred \u001b[39m=\u001b[39m \u001b[39mTrue\u001b[39;00m\n\u001b[1;32m    182\u001b[0m \u001b[39mtry\u001b[39;00m:\n\u001b[1;32m    183\u001b[0m     \u001b[39m# wait for a coroutine from await_only and then return its\u001b[39;00m\n\u001b[1;32m    184\u001b[0m     \u001b[39m# result back to it.\u001b[39;00m\n\u001b[0;32m--> 185\u001b[0m     value \u001b[39m=\u001b[39m \u001b[39mawait\u001b[39;00m result\n\u001b[1;32m    186\u001b[0m \u001b[39mexcept\u001b[39;00m \u001b[39mBaseException\u001b[39;00m:\n\u001b[1;32m    187\u001b[0m     \u001b[39m# this allows an exception to be raised within\u001b[39;00m\n\u001b[1;32m    188\u001b[0m     \u001b[39m# the moderated greenlet so that it can continue\u001b[39;00m\n\u001b[1;32m    189\u001b[0m     \u001b[39m# its expected flow.\u001b[39;00m\n\u001b[1;32m    190\u001b[0m     result \u001b[39m=\u001b[39m context\u001b[39m.\u001b[39mthrow(\u001b[39m*\u001b[39msys\u001b[39m.\u001b[39mexc_info())\n",
      "File \u001b[0;32m~/Projects/SQL-via-Alchemy/sqla/lib/python3.10/site-packages/aiosqlite/cursor.py:48\u001b[0m, in \u001b[0;36mCursor.execute\u001b[0;34m(self, sql, parameters)\u001b[0m\n\u001b[1;32m     46\u001b[0m \u001b[39mif\u001b[39;00m parameters \u001b[39mis\u001b[39;00m \u001b[39mNone\u001b[39;00m:\n\u001b[1;32m     47\u001b[0m     parameters \u001b[39m=\u001b[39m []\n\u001b[0;32m---> 48\u001b[0m \u001b[39mawait\u001b[39;00m \u001b[39mself\u001b[39m\u001b[39m.\u001b[39m_execute(\u001b[39mself\u001b[39m\u001b[39m.\u001b[39m_cursor\u001b[39m.\u001b[39mexecute, sql, parameters)\n\u001b[1;32m     49\u001b[0m \u001b[39mreturn\u001b[39;00m \u001b[39mself\u001b[39m\n",
      "File \u001b[0;32m~/Projects/SQL-via-Alchemy/sqla/lib/python3.10/site-packages/aiosqlite/cursor.py:40\u001b[0m, in \u001b[0;36mCursor._execute\u001b[0;34m(self, fn, *args, **kwargs)\u001b[0m\n\u001b[1;32m     38\u001b[0m \u001b[39masync\u001b[39;00m \u001b[39mdef\u001b[39;00m \u001b[39m_execute\u001b[39m(\u001b[39mself\u001b[39m, fn, \u001b[39m*\u001b[39margs, \u001b[39m*\u001b[39m\u001b[39m*\u001b[39mkwargs):\n\u001b[1;32m     39\u001b[0m \u001b[39m    \u001b[39m\u001b[39m\"\"\"Execute the given function on the shared connection's thread.\"\"\"\u001b[39;00m\n\u001b[0;32m---> 40\u001b[0m     \u001b[39mreturn\u001b[39;00m \u001b[39mawait\u001b[39;00m \u001b[39mself\u001b[39m\u001b[39m.\u001b[39m_conn\u001b[39m.\u001b[39m_execute(fn, \u001b[39m*\u001b[39margs, \u001b[39m*\u001b[39m\u001b[39m*\u001b[39mkwargs)\n",
      "File \u001b[0;32m~/Projects/SQL-via-Alchemy/sqla/lib/python3.10/site-packages/aiosqlite/core.py:133\u001b[0m, in \u001b[0;36mConnection._execute\u001b[0;34m(self, fn, *args, **kwargs)\u001b[0m\n\u001b[1;32m    129\u001b[0m future \u001b[39m=\u001b[39m asyncio\u001b[39m.\u001b[39mget_event_loop()\u001b[39m.\u001b[39mcreate_future()\n\u001b[1;32m    131\u001b[0m \u001b[39mself\u001b[39m\u001b[39m.\u001b[39m_tx\u001b[39m.\u001b[39mput_nowait((future, function))\n\u001b[0;32m--> 133\u001b[0m \u001b[39mreturn\u001b[39;00m \u001b[39mawait\u001b[39;00m future\n",
      "File \u001b[0;32m~/Projects/SQL-via-Alchemy/sqla/lib/python3.10/site-packages/aiosqlite/core.py:106\u001b[0m, in \u001b[0;36mConnection.run\u001b[0;34m(self)\u001b[0m\n\u001b[1;32m    104\u001b[0m \u001b[39mtry\u001b[39;00m:\n\u001b[1;32m    105\u001b[0m     LOG\u001b[39m.\u001b[39mdebug(\u001b[39m\"\u001b[39m\u001b[39mexecuting \u001b[39m\u001b[39m%s\u001b[39;00m\u001b[39m\"\u001b[39m, function)\n\u001b[0;32m--> 106\u001b[0m     result \u001b[39m=\u001b[39m function()\n\u001b[1;32m    107\u001b[0m     LOG\u001b[39m.\u001b[39mdebug(\u001b[39m\"\u001b[39m\u001b[39moperation \u001b[39m\u001b[39m%s\u001b[39;00m\u001b[39m completed\u001b[39m\u001b[39m\"\u001b[39m, function)\n\u001b[1;32m    109\u001b[0m     \u001b[39mdef\u001b[39;00m \u001b[39mset_result\u001b[39m(fut, result):\n",
      "\u001b[0;31mOperationalError\u001b[0m: (sqlite3.OperationalError) no such table: users\n[SQL: SELECT users.\"ID\", users.\"full name\" \nFROM users]\n(Background on this error at: https://sqlalche.me/e/20/e3q8)"
     ]
    }
   ],
   "source": [
    "async with async_engine.connect() as async_conn:\n",
    "    await async_conn.execute(users_table.select())"
   ]
  },
  {
   "cell_type": "markdown",
   "metadata": {},
   "source": [
    "Whoa, the table \"Users\" does not exist, how so if we can deal with users_table object? The explanation is simple: `users_table` object has no the corresponding relation in the database (supposing in-memory [tabula rasa](https://en.wikipedia.org/wiki/Tabula_rasa) mode).\n",
    "\n",
    "An important step - to establish the mapping and synchronise relations with objects and metadata will help us out. Trying again:"
   ]
  },
  {
   "cell_type": "code",
   "execution_count": 6,
   "metadata": {},
   "outputs": [
    {
     "name": "stdout",
     "output_type": "stream",
     "text": [
      "2023-11-19 22:07:47,100 INFO sqlalchemy.engine.Engine BEGIN (implicit)\n",
      "2023-11-19 22:07:47,103 INFO sqlalchemy.engine.Engine PRAGMA main.table_info(\"users\")\n",
      "2023-11-19 22:07:47,104 INFO sqlalchemy.engine.Engine [raw sql] ()\n",
      "2023-11-19 22:07:47,106 INFO sqlalchemy.engine.Engine PRAGMA temp.table_info(\"users\")\n",
      "2023-11-19 22:07:47,108 INFO sqlalchemy.engine.Engine [raw sql] ()\n",
      "2023-11-19 22:07:47,111 INFO sqlalchemy.engine.Engine \n",
      "CREATE TABLE users (\n",
      "\t\"ID\" INTEGER NOT NULL, \n",
      "\t\"full name\" VARCHAR(100) NOT NULL, \n",
      "\tPRIMARY KEY (\"ID\")\n",
      ")\n",
      "\n",
      "\n",
      "2023-11-19 22:07:47,112 INFO sqlalchemy.engine.Engine [no key 0.00092s] ()\n",
      "2023-11-19 22:07:47,115 INFO sqlalchemy.engine.Engine COMMIT\n"
     ]
    }
   ],
   "source": [
    "async with async_engine.begin() as transaction:\n",
    "    await transaction.run_sync(metadata.create_all)"
   ]
  },
  {
   "cell_type": "markdown",
   "metadata": {},
   "source": [
    "Notes on the above code:\n",
    "\n",
    "- The `metadata.create_all(engine)` execution is for a synchronous code. Within an asynchronous code we need to call `create_all` within the `run_sync` method which allows running synchronous callables.\n",
    "\n",
    "- the `begin()` method starts a transaction which is a unit of work performed on a database. If a transaction fails, all work is rolled back to the initial state. Feel free to read more about [SQL transactions](https://www.tutorialspoint.com/sql/sql-transactions.htm).\n",
    "\n",
    "The SQL expression of interest:\n",
    "\n",
    "```sql\n",
    "CREATE TABLE users (\n",
    "\t\"ID\" INTEGER NOT NULL, \n",
    "\t\"full name\" VARCHAR(100) NOT NULL, \n",
    "\tPRIMARY KEY (\"ID\")\n",
    ")\n",
    "```\n",
    "\n",
    "The previous statement can be rewritten into something like that (but it is SQLite syntax, meaning the less general solution):\n",
    "\n",
    "```sql\n",
    "CREATE TABLE Users (\n",
    "\t\"ID\" INTEGER PRIMARY KEY,\n",
    "\t\"full name\" VARCHAR(100) NOT NULL\n",
    ");\n",
    "```\n",
    "\n",
    "Memos:\n",
    "\n",
    "- **SQL is case-insensitive**;\n",
    "\n",
    "- AUTOINCREMENT is not needed in SQLite ([proof](https://www.sqlite.org/autoinc.html))\n",
    "\n",
    "Seems promisible, but looking does not mean being, only a retest will reveal the truth."
   ]
  },
  {
   "cell_type": "code",
   "execution_count": 7,
   "metadata": {},
   "outputs": [
    {
     "name": "stdout",
     "output_type": "stream",
     "text": [
      "2023-11-19 22:07:53,759 INFO sqlalchemy.engine.Engine BEGIN (implicit)\n",
      "2023-11-19 22:07:53,761 INFO sqlalchemy.engine.Engine SELECT users.\"ID\", users.\"full name\" \n",
      "FROM users\n",
      "2023-11-19 22:07:53,764 INFO sqlalchemy.engine.Engine [cached since 21.78s ago] ()\n",
      "SELECT ALL FROM Users; -> []\n",
      "2023-11-19 22:07:53,767 INFO sqlalchemy.engine.Engine ROLLBACK\n"
     ]
    }
   ],
   "source": [
    "async with async_engine.connect() as conn:\n",
    "    stmt = users_table.select()\n",
    "    result = await conn.execute(stmt)\n",
    "    print(f\"SELECT ALL FROM Users; -> {result.fetchall()}\")"
   ]
  },
  {
   "cell_type": "markdown",
   "metadata": {},
   "source": [
    "Worked like a charm.\n",
    "\n",
    "Note that SQLAlchemy composed the expression to select all attributes/columns from \"Users\" table in this explicit way:\n",
    "\n",
    "```sql\n",
    "SELECT users.\"ID\", users.\"full name\"\n",
    "FROM users\n",
    "```\n",
    "\n",
    "Very soon enough other SQL expressions to reach the same goal will be demonstrated in the code.\n",
    "\n",
    "Now we are able to insert data."
   ]
  },
  {
   "cell_type": "code",
   "execution_count": 8,
   "metadata": {},
   "outputs": [
    {
     "name": "stdout",
     "output_type": "stream",
     "text": [
      "2023-11-19 22:07:56,265 INFO sqlalchemy.engine.Engine BEGIN (implicit)\n",
      "2023-11-19 22:07:56,269 INFO sqlalchemy.engine.Engine INSERT INTO users (\"full name\") VALUES (?), (?)\n",
      "2023-11-19 22:07:56,271 INFO sqlalchemy.engine.Engine [no key 0.00183s] ('John Doe', 'Jane Lane')\n",
      "2023-11-19 22:07:56,273 INFO sqlalchemy.engine.Engine COMMIT\n"
     ]
    }
   ],
   "source": [
    "async with async_engine.begin() as ta:\n",
    "    stmt = users_table.insert()\n",
    "    # can you guess why passing a dictionary (args), not kwargs?\n",
    "    await ta.execute(\n",
    "        stmt.values(\n",
    "            [\n",
    "                {\"full name\": \"John Doe\"},\n",
    "                {\"full name\": \"Jane Lane\"}\n",
    "            ]\n",
    "        )\n",
    "    )\n",
    "    # rememeber that id attribute gets autoincrement'ed"
   ]
  },
  {
   "cell_type": "markdown",
   "metadata": {},
   "source": [
    "The previous statement can be written (again, SQLite syntax) as:\n",
    "\n",
    "```sql\n",
    "INSERT INTO Users ('full name') VALUES ('John Doe'), ('Jane Lane');\n",
    "```\n",
    "\n",
    "More about \"SQL\\[Lite\\] INSERT\" statement can be found [here](https://www.sqlitetutorial.net/sqlite-insert/). Since SQLite v3.7.11 bulk inserts (multiple values within a single \"INSERT\" statement) are doable.\n",
    "\n",
    "![SQLite3 Bulk Insert](./sqlite3_bulk_insert.png \"SQLite3 Bulk Insert picture\")\n",
    "\n",
    "Again, SQL is case-insensitive. Capitalising SQL keywords is a convention to make them stand out. If you don't like pressing \"Shift\" button, consider using the \"Capslock\"."
   ]
  },
  {
   "cell_type": "code",
   "execution_count": 9,
   "metadata": {},
   "outputs": [
    {
     "name": "stdout",
     "output_type": "stream",
     "text": [
      "2023-11-19 22:07:58,225 INFO sqlalchemy.engine.Engine BEGIN (implicit)\n",
      "2023-11-19 22:07:58,227 INFO sqlalchemy.engine.Engine SELECT users.\"ID\", users.\"full name\" \n",
      "FROM users\n",
      "2023-11-19 22:07:58,229 INFO sqlalchemy.engine.Engine [cached since 26.25s ago] ()\n",
      "SELECT * FROM Users; -> [(1, 'John Doe'), (2, 'Jane Lane')]\n",
      "2023-11-19 22:07:58,232 INFO sqlalchemy.engine.Engine ROLLBACK\n"
     ]
    }
   ],
   "source": [
    "async with async_engine.connect() as async_conn:\n",
    "    result = await async_conn.execute(users_table.select())\n",
    "    print(f\"SELECT * FROM Users; -> {result.fetchall()}\")"
   ]
  },
  {
   "cell_type": "markdown",
   "metadata": {},
   "source": [
    "Another form of selecting all the attributes/columns from a table (here \"Users\") is `SELECT * FROM Users;` statement."
   ]
  },
  {
   "cell_type": "code",
   "execution_count": 10,
   "metadata": {},
   "outputs": [
    {
     "name": "stdout",
     "output_type": "stream",
     "text": [
      "2023-11-19 22:08:01,387 INFO sqlalchemy.engine.Engine BEGIN (implicit)\n",
      "2023-11-19 22:08:01,389 INFO sqlalchemy.engine.Engine SELECT * FROM Users;\n",
      "2023-11-19 22:08:01,391 INFO sqlalchemy.engine.Engine [generated in 0.00432s] ()\n",
      "`SELECT * FROM Users;` -> [(1, 'John Doe'), (2, 'Jane Lane')]\n",
      "2023-11-19 22:08:01,394 INFO sqlalchemy.engine.Engine ROLLBACK\n"
     ]
    }
   ],
   "source": [
    "async with async_engine.connect() as async_conn:\n",
    "    stmt: str = \"SELECT * FROM Users;\"\n",
    "    result = await async_conn.execute(sqla.text(stmt))\n",
    "    print(f\"`{stmt}` -> {result.fetchall()}\")"
   ]
  },
  {
   "cell_type": "markdown",
   "metadata": {},
   "source": [
    "Thanks to the [SQLAlchemy asyncio docs](https://docs.sqlalchemy.org/en/20/orm/extensions/asyncio.html) for being rich enough especially with examples.\n",
    "\n",
    "So, basic operations are left behind, but there are some imperfections:\n",
    "\n",
    "- the \"ID\" attribute is in upper case, how about having all names in lower case;\n",
    "\n",
    "- \"full name\" attribute is a composite one and in database design atomic (indivisible) attributes are preferable, so this field is to be split into two columns like \"first_name\" and \"last_name\";\n",
    "\n",
    "- certainly data must not be lost and the migration should be done gracefully."
   ]
  },
  {
   "cell_type": "markdown",
   "metadata": {},
   "source": [
    "### Table normalisation\n",
    "\n",
    "So, we have three issues to wipe out. To introduce a declarative form of defining table MetaData, we shall to:\n",
    "\n",
    "1. declare another class with an appropriate structure;\n",
    "\n",
    "2. create a temporary database with the same structure, but another name like \"tmp\" or something;\n",
    "\n",
    "3. move data from the already populated \"Users\" table into the \"tmp\" one and then from the temporary database\n",
    "\n",
    "It is much likely a costly and silly solution to be avoided, but it is still practice. If there is a solution and there are no better options, use what you have unless you find a better solution."
   ]
  },
  {
   "cell_type": "code",
   "execution_count": 11,
   "metadata": {},
   "outputs": [],
   "source": [
    "from sqlalchemy.orm import (\n",
    "    Mapped,\n",
    "    mapped_column,\n",
    ")"
   ]
  },
  {
   "cell_type": "markdown",
   "metadata": {},
   "source": [
    "Now, the tricky part is that \"Users\" table already exists in the database.\n",
    "That is why the table will initially have \"tmp\" name."
   ]
  },
  {
   "cell_type": "code",
   "execution_count": 12,
   "metadata": {},
   "outputs": [
    {
     "data": {
      "text/plain": [
       "<__main__.Tmp at 0x7fe7c1b67af0>"
      ]
     },
     "execution_count": 12,
     "metadata": {},
     "output_type": "execute_result"
    }
   ],
   "source": [
    "new_metadata = sqla.MetaData()\n",
    "\n",
    "# InvalidRequestError:\n",
    "# Cannot use 'DeclarativeBase' directly as a declarative base class.\n",
    "# Create a Base by creating a subclass of it.\n",
    "class Base(DeclarativeBase):\n",
    "    \"\"\"SQLAlchemy Declarative Base class.\"\"\"\n",
    "\n",
    "\n",
    "class Tmp(Base):\n",
    "    __tablename__ = \"tmp\"\n",
    "    metadata = new_metadata  # usually SQLAlchemy assigns it for you\n",
    "\n",
    "    id: Mapped[int] = mapped_column(primary_key=True, autoincrement=True)\n",
    "    first_name: Mapped[str] = mapped_column(sqla.String(30), nullable=False)\n",
    "    last_name: Mapped[str] = mapped_column(sqla.String(30), nullable=False)\n",
    "\n",
    "\n",
    "tmp_table = Tmp()\n",
    "tmp_table  # ceci n'est pas une table"
   ]
  },
  {
   "cell_type": "markdown",
   "metadata": {},
   "source": [
    "Extraction from [SQLAlchemy docs: declarative tables](https://docs.sqlalchemy.org/en/20/orm/declarative_tables.html)\n",
    "\n",
    "> Above, when Declarative processes each class attribute, each [mapped_column()](https://docs.sqlalchemy.org/en/20/orm/mapping_api.html#sqlalchemy.orm.mapped_column) will derive additional arguments from the corresponding [Mapped](https://docs.sqlalchemy.org/en/20/orm/internals.html#sqlalchemy.orm.Mapped) type annotation on the left side, if present. Additionally, Declarative will generate an empty mapped_column() directive implicitly, whenever a Mapped type annotation is encountered that does not have a value assigned to the attribute (this form is inspired by the similar style used in Python dataclasses); this mapped_column() construct proceeds to derive its configuration from the Mapped annotation present."
   ]
  },
  {
   "cell_type": "code",
   "execution_count": 13,
   "metadata": {},
   "outputs": [
    {
     "name": "stdout",
     "output_type": "stream",
     "text": [
      "2023-11-19 22:08:11,297 INFO sqlalchemy.engine.Engine BEGIN (implicit)\n",
      "2023-11-19 22:08:11,300 INFO sqlalchemy.engine.Engine PRAGMA main.table_info(\"tmp\")\n",
      "2023-11-19 22:08:11,301 INFO sqlalchemy.engine.Engine [raw sql] ()\n",
      "2023-11-19 22:08:11,304 INFO sqlalchemy.engine.Engine PRAGMA temp.table_info(\"tmp\")\n",
      "2023-11-19 22:08:11,305 INFO sqlalchemy.engine.Engine [raw sql] ()\n",
      "2023-11-19 22:08:11,309 INFO sqlalchemy.engine.Engine \n",
      "CREATE TABLE tmp (\n",
      "\tid INTEGER NOT NULL, \n",
      "\tfirst_name VARCHAR(30) NOT NULL, \n",
      "\tlast_name VARCHAR(30) NOT NULL, \n",
      "\tPRIMARY KEY (id)\n",
      ")\n",
      "\n",
      "\n",
      "2023-11-19 22:08:11,310 INFO sqlalchemy.engine.Engine [no key 0.00126s] ()\n",
      "2023-11-19 22:08:11,313 INFO sqlalchemy.engine.Engine COMMIT\n"
     ]
    }
   ],
   "source": [
    "async with async_engine.begin() as ta:\n",
    "    await ta.run_sync(new_metadata.create_all)"
   ]
  },
  {
   "cell_type": "markdown",
   "metadata": {},
   "source": [
    "Cool, it worked, now the action can be done in one loop over two tables:\n",
    "\n",
    "1. select all data from the old table;\n",
    "2. row processing\n",
    "3. insert the processed data into the new table\n",
    "\n",
    "Then the old table can be easilly dropped away, and the new one is renamed into \"Users\"."
   ]
  },
  {
   "cell_type": "code",
   "execution_count": 14,
   "metadata": {},
   "outputs": [
    {
     "name": "stdout",
     "output_type": "stream",
     "text": [
      "2023-11-19 22:08:13,318 INFO sqlalchemy.engine.Engine BEGIN (implicit)\n",
      "2023-11-19 22:08:13,320 INFO sqlalchemy.engine.Engine SELECT users.\"ID\", users.\"full name\" \n",
      "FROM users\n",
      "2023-11-19 22:08:13,322 INFO sqlalchemy.engine.Engine [cached since 41.34s ago] ()\n",
      "Row_1: id=1 -> full_name=John Doe\n",
      "NewRow_1: (1, ['John', 'Doe'])\n",
      "Row_2: id=2 -> full_name=Jane Lane\n",
      "NewRow_2: (2, ['Jane', 'Lane'])\n",
      "2023-11-19 22:08:13,326 INFO sqlalchemy.engine.Engine BEGIN (implicit)\n",
      "2023-11-19 22:08:13,328 INFO sqlalchemy.engine.Engine INSERT INTO tmp (id, first_name, last_name) VALUES (?, ?, ?)\n",
      "2023-11-19 22:08:13,330 INFO sqlalchemy.engine.Engine [generated in 0.00204s] [(1, 'John', 'Doe'), (2, 'Jane', 'Lane')]\n",
      "2023-11-19 22:08:13,334 INFO sqlalchemy.engine.Engine COMMIT\n",
      "2023-11-19 22:08:13,336 INFO sqlalchemy.engine.Engine ROLLBACK\n"
     ]
    }
   ],
   "source": [
    "# README ATTENTIVELY\n",
    "\n",
    "async with async_engine.connect() as async_conn:\n",
    "    rows = await async_conn.execute(users_table.select())\n",
    "    new_rows: list[tuple[int, str]] = []\n",
    "    for index, (id_, full_name) in enumerate(rows, 1):  # id is reserved in Python\n",
    "        print(f\"Row_{index}: id={id_} -> full_name={full_name}\")\n",
    "        new_row: tuple[int, str] = (id_, full_name.strip().split(' '))\n",
    "        print(f\"NewRow_{index}: {new_row}\")\n",
    "        new_rows.append(new_row)\n",
    "    # maybe there is a better way\n",
    "    session = async_sqla.async_sessionmaker(async_engine, expire_on_commit=True)\n",
    "    async with session() as async_session:\n",
    "        async_session.add_all(\n",
    "            [\n",
    "                Tmp(\n",
    "                    id=id_,\n",
    "                    first_name=fname,\n",
    "                    last_name=lname,\n",
    "                )\n",
    "                for id_, (fname, lname) in new_rows\n",
    "            ]\n",
    "        )\n",
    "        await async_session.commit()"
   ]
  },
  {
   "cell_type": "markdown",
   "metadata": {},
   "source": [
    "The \"tmp\" table has been populated with processed data from the \"users\" table.\n",
    "\n",
    "The Red Letter moment..."
   ]
  },
  {
   "cell_type": "code",
   "execution_count": 15,
   "metadata": {},
   "outputs": [
    {
     "name": "stdout",
     "output_type": "stream",
     "text": [
      "2023-11-19 22:08:15,363 INFO sqlalchemy.engine.Engine BEGIN (implicit)\n",
      "2023-11-19 22:08:15,366 INFO sqlalchemy.engine.Engine SELECT tmp.id, tmp.first_name, tmp.last_name \n",
      "FROM tmp\n",
      "2023-11-19 22:08:15,368 INFO sqlalchemy.engine.Engine [generated in 0.00261s] ()\n",
      "'tmp' table scalars: <sqlalchemy.engine.result.ScalarResult object at 0x7fe7e169c360>\n",
      "tmp row: (1, 'John', 'Doe')\n",
      "tmp row: (2, 'Jane', 'Lane')\n",
      "2023-11-19 22:08:15,371 INFO sqlalchemy.engine.Engine ROLLBACK\n"
     ]
    }
   ],
   "source": [
    "async_session = async_sqla.async_sessionmaker(async_engine)\n",
    "async with async_session() as session:\n",
    "    result = await session.execute(sqla.select(Tmp))\n",
    "    scalars = result.scalars()\n",
    "    print(f\"'tmp' table scalars: {scalars}\")\n",
    "    for row in scalars:\n",
    "        entry = (row.id, row.first_name, row.last_name)\n",
    "        print(f\"tmp row: {entry}\")"
   ]
  },
  {
   "cell_type": "markdown",
   "metadata": {},
   "source": [
    "Yes, eventually, it was tiresome and finally over...ah, renaming the \"tmp\" table, yep, holding the horses.\n",
    "\n",
    "First, removing the \"Users\" table only."
   ]
  },
  {
   "cell_type": "code",
   "execution_count": 16,
   "metadata": {},
   "outputs": [
    {
     "name": "stdout",
     "output_type": "stream",
     "text": [
      "2023-11-19 22:08:16,973 INFO sqlalchemy.engine.Engine BEGIN (implicit)\n",
      "2023-11-19 22:08:16,976 INFO sqlalchemy.engine.Engine PRAGMA main.table_info(\"users\")\n",
      "2023-11-19 22:08:16,978 INFO sqlalchemy.engine.Engine [raw sql] ()\n",
      "2023-11-19 22:08:16,981 INFO sqlalchemy.engine.Engine \n",
      "DROP TABLE users\n",
      "2023-11-19 22:08:16,982 INFO sqlalchemy.engine.Engine [no key 0.00109s] ()\n",
      "2023-11-19 22:08:16,985 INFO sqlalchemy.engine.Engine COMMIT\n"
     ]
    }
   ],
   "source": [
    "async with async_engine.begin() as ta:\n",
    "    await ta.run_sync(\n",
    "        users_table.drop,\n",
    "        checkfirst=True\n",
    "    )"
   ]
  },
  {
   "cell_type": "markdown",
   "metadata": {},
   "source": [
    "Second, checking that the table \"Users\" is dropped (the error is coming)."
   ]
  },
  {
   "cell_type": "code",
   "execution_count": 17,
   "metadata": {},
   "outputs": [
    {
     "name": "stdout",
     "output_type": "stream",
     "text": [
      "2023-11-19 22:08:18,439 INFO sqlalchemy.engine.Engine BEGIN (implicit)\n",
      "2023-11-19 22:08:18,441 INFO sqlalchemy.engine.Engine SELECT * FROM Users;\n",
      "2023-11-19 22:08:18,442 INFO sqlalchemy.engine.Engine [cached since 17.06s ago] ()\n",
      "2023-11-19 22:08:18,445 INFO sqlalchemy.engine.Engine ROLLBACK\n"
     ]
    },
    {
     "ename": "OperationalError",
     "evalue": "(sqlite3.OperationalError) no such table: Users\n[SQL: SELECT * FROM Users;]\n(Background on this error at: https://sqlalche.me/e/20/e3q8)",
     "output_type": "error",
     "traceback": [
      "\u001b[0;31m---------------------------------------------------------------------------\u001b[0m",
      "\u001b[0;31mOperationalError\u001b[0m                          Traceback (most recent call last)",
      "File \u001b[0;32m~/Projects/SQL-via-Alchemy/sqla/lib/python3.10/site-packages/sqlalchemy/engine/base.py:1969\u001b[0m, in \u001b[0;36mConnection._exec_single_context\u001b[0;34m(self, dialect, context, statement, parameters)\u001b[0m\n\u001b[1;32m   1968\u001b[0m     \u001b[39mif\u001b[39;00m \u001b[39mnot\u001b[39;00m evt_handled:\n\u001b[0;32m-> 1969\u001b[0m         \u001b[39mself\u001b[39;49m\u001b[39m.\u001b[39;49mdialect\u001b[39m.\u001b[39;49mdo_execute(\n\u001b[1;32m   1970\u001b[0m             cursor, str_statement, effective_parameters, context\n\u001b[1;32m   1971\u001b[0m         )\n\u001b[1;32m   1973\u001b[0m \u001b[39mif\u001b[39;00m \u001b[39mself\u001b[39m\u001b[39m.\u001b[39m_has_events \u001b[39mor\u001b[39;00m \u001b[39mself\u001b[39m\u001b[39m.\u001b[39mengine\u001b[39m.\u001b[39m_has_events:\n",
      "File \u001b[0;32m~/Projects/SQL-via-Alchemy/sqla/lib/python3.10/site-packages/sqlalchemy/engine/default.py:922\u001b[0m, in \u001b[0;36mDefaultDialect.do_execute\u001b[0;34m(self, cursor, statement, parameters, context)\u001b[0m\n\u001b[1;32m    921\u001b[0m \u001b[39mdef\u001b[39;00m \u001b[39mdo_execute\u001b[39m(\u001b[39mself\u001b[39m, cursor, statement, parameters, context\u001b[39m=\u001b[39m\u001b[39mNone\u001b[39;00m):\n\u001b[0;32m--> 922\u001b[0m     cursor\u001b[39m.\u001b[39;49mexecute(statement, parameters)\n",
      "File \u001b[0;32m~/Projects/SQL-via-Alchemy/sqla/lib/python3.10/site-packages/sqlalchemy/dialects/sqlite/aiosqlite.py:113\u001b[0m, in \u001b[0;36mAsyncAdapt_aiosqlite_cursor.execute\u001b[0;34m(self, operation, parameters)\u001b[0m\n\u001b[1;32m    112\u001b[0m \u001b[39mexcept\u001b[39;00m \u001b[39mException\u001b[39;00m \u001b[39mas\u001b[39;00m error:\n\u001b[0;32m--> 113\u001b[0m     \u001b[39mself\u001b[39;49m\u001b[39m.\u001b[39;49m_adapt_connection\u001b[39m.\u001b[39;49m_handle_exception(error)\n",
      "File \u001b[0;32m~/Projects/SQL-via-Alchemy/sqla/lib/python3.10/site-packages/sqlalchemy/dialects/sqlite/aiosqlite.py:263\u001b[0m, in \u001b[0;36mAsyncAdapt_aiosqlite_connection._handle_exception\u001b[0;34m(self, error)\u001b[0m\n\u001b[1;32m    262\u001b[0m \u001b[39melse\u001b[39;00m:\n\u001b[0;32m--> 263\u001b[0m     \u001b[39mraise\u001b[39;00m error\n",
      "File \u001b[0;32m~/Projects/SQL-via-Alchemy/sqla/lib/python3.10/site-packages/sqlalchemy/dialects/sqlite/aiosqlite.py:95\u001b[0m, in \u001b[0;36mAsyncAdapt_aiosqlite_cursor.execute\u001b[0;34m(self, operation, parameters)\u001b[0m\n\u001b[1;32m     94\u001b[0m \u001b[39melse\u001b[39;00m:\n\u001b[0;32m---> 95\u001b[0m     \u001b[39mself\u001b[39;49m\u001b[39m.\u001b[39;49mawait_(_cursor\u001b[39m.\u001b[39;49mexecute(operation, parameters))\n\u001b[1;32m     97\u001b[0m \u001b[39mif\u001b[39;00m _cursor\u001b[39m.\u001b[39mdescription:\n",
      "File \u001b[0;32m~/Projects/SQL-via-Alchemy/sqla/lib/python3.10/site-packages/sqlalchemy/util/_concurrency_py3k.py:125\u001b[0m, in \u001b[0;36mawait_only\u001b[0;34m(awaitable)\u001b[0m\n\u001b[1;32m    121\u001b[0m \u001b[39m# returns the control to the driver greenlet passing it\u001b[39;00m\n\u001b[1;32m    122\u001b[0m \u001b[39m# a coroutine to run. Once the awaitable is done, the driver greenlet\u001b[39;00m\n\u001b[1;32m    123\u001b[0m \u001b[39m# switches back to this greenlet with the result of awaitable that is\u001b[39;00m\n\u001b[1;32m    124\u001b[0m \u001b[39m# then returned to the caller (or raised as error)\u001b[39;00m\n\u001b[0;32m--> 125\u001b[0m \u001b[39mreturn\u001b[39;00m current\u001b[39m.\u001b[39;49mdriver\u001b[39m.\u001b[39;49mswitch(awaitable)\n",
      "File \u001b[0;32m~/Projects/SQL-via-Alchemy/sqla/lib/python3.10/site-packages/sqlalchemy/util/_concurrency_py3k.py:185\u001b[0m, in \u001b[0;36mgreenlet_spawn\u001b[0;34m(fn, _require_await, *args, **kwargs)\u001b[0m\n\u001b[1;32m    182\u001b[0m \u001b[39mtry\u001b[39;00m:\n\u001b[1;32m    183\u001b[0m     \u001b[39m# wait for a coroutine from await_only and then return its\u001b[39;00m\n\u001b[1;32m    184\u001b[0m     \u001b[39m# result back to it.\u001b[39;00m\n\u001b[0;32m--> 185\u001b[0m     value \u001b[39m=\u001b[39m \u001b[39mawait\u001b[39;00m result\n\u001b[1;32m    186\u001b[0m \u001b[39mexcept\u001b[39;00m \u001b[39mBaseException\u001b[39;00m:\n\u001b[1;32m    187\u001b[0m     \u001b[39m# this allows an exception to be raised within\u001b[39;00m\n\u001b[1;32m    188\u001b[0m     \u001b[39m# the moderated greenlet so that it can continue\u001b[39;00m\n\u001b[1;32m    189\u001b[0m     \u001b[39m# its expected flow.\u001b[39;00m\n",
      "File \u001b[0;32m~/Projects/SQL-via-Alchemy/sqla/lib/python3.10/site-packages/aiosqlite/cursor.py:48\u001b[0m, in \u001b[0;36mCursor.execute\u001b[0;34m(self, sql, parameters)\u001b[0m\n\u001b[1;32m     47\u001b[0m     parameters \u001b[39m=\u001b[39m []\n\u001b[0;32m---> 48\u001b[0m \u001b[39mawait\u001b[39;00m \u001b[39mself\u001b[39m\u001b[39m.\u001b[39m_execute(\u001b[39mself\u001b[39m\u001b[39m.\u001b[39m_cursor\u001b[39m.\u001b[39mexecute, sql, parameters)\n\u001b[1;32m     49\u001b[0m \u001b[39mreturn\u001b[39;00m \u001b[39mself\u001b[39m\n",
      "File \u001b[0;32m~/Projects/SQL-via-Alchemy/sqla/lib/python3.10/site-packages/aiosqlite/cursor.py:40\u001b[0m, in \u001b[0;36mCursor._execute\u001b[0;34m(self, fn, *args, **kwargs)\u001b[0m\n\u001b[1;32m     39\u001b[0m \u001b[39m\u001b[39m\u001b[39m\"\"\"Execute the given function on the shared connection's thread.\"\"\"\u001b[39;00m\n\u001b[0;32m---> 40\u001b[0m \u001b[39mreturn\u001b[39;00m \u001b[39mawait\u001b[39;00m \u001b[39mself\u001b[39m\u001b[39m.\u001b[39m_conn\u001b[39m.\u001b[39m_execute(fn, \u001b[39m*\u001b[39margs, \u001b[39m*\u001b[39m\u001b[39m*\u001b[39mkwargs)\n",
      "File \u001b[0;32m~/Projects/SQL-via-Alchemy/sqla/lib/python3.10/site-packages/aiosqlite/core.py:133\u001b[0m, in \u001b[0;36mConnection._execute\u001b[0;34m(self, fn, *args, **kwargs)\u001b[0m\n\u001b[1;32m    131\u001b[0m \u001b[39mself\u001b[39m\u001b[39m.\u001b[39m_tx\u001b[39m.\u001b[39mput_nowait((future, function))\n\u001b[0;32m--> 133\u001b[0m \u001b[39mreturn\u001b[39;00m \u001b[39mawait\u001b[39;00m future\n",
      "File \u001b[0;32m~/Projects/SQL-via-Alchemy/sqla/lib/python3.10/site-packages/aiosqlite/core.py:106\u001b[0m, in \u001b[0;36mConnection.run\u001b[0;34m(self)\u001b[0m\n\u001b[1;32m    105\u001b[0m LOG\u001b[39m.\u001b[39mdebug(\u001b[39m\"\u001b[39m\u001b[39mexecuting \u001b[39m\u001b[39m%s\u001b[39;00m\u001b[39m\"\u001b[39m, function)\n\u001b[0;32m--> 106\u001b[0m result \u001b[39m=\u001b[39m function()\n\u001b[1;32m    107\u001b[0m LOG\u001b[39m.\u001b[39mdebug(\u001b[39m\"\u001b[39m\u001b[39moperation \u001b[39m\u001b[39m%s\u001b[39;00m\u001b[39m completed\u001b[39m\u001b[39m\"\u001b[39m, function)\n",
      "\u001b[0;31mOperationalError\u001b[0m: no such table: Users",
      "\nThe above exception was the direct cause of the following exception:\n",
      "\u001b[0;31mOperationalError\u001b[0m                          Traceback (most recent call last)",
      "\u001b[1;32m/home/stankudrow/Projects/SQL-via-Alchemy/tutorial/01_table_primer/01_table_primer.ipynb Cell 35\u001b[0m line \u001b[0;36m3\n\u001b[1;32m      <a href='vscode-notebook-cell:/home/stankudrow/Projects/SQL-via-Alchemy/tutorial/01_table_primer/01_table_primer.ipynb#X46sZmlsZQ%3D%3D?line=0'>1</a>\u001b[0m \u001b[39masync\u001b[39;00m \u001b[39mwith\u001b[39;00m async_engine\u001b[39m.\u001b[39mconnect() \u001b[39mas\u001b[39;00m conn:\n\u001b[1;32m      <a href='vscode-notebook-cell:/home/stankudrow/Projects/SQL-via-Alchemy/tutorial/01_table_primer/01_table_primer.ipynb#X46sZmlsZQ%3D%3D?line=1'>2</a>\u001b[0m     stmt \u001b[39m=\u001b[39m \u001b[39m\"\u001b[39m\u001b[39mSELECT * FROM Users;\u001b[39m\u001b[39m\"\u001b[39m\n\u001b[0;32m----> <a href='vscode-notebook-cell:/home/stankudrow/Projects/SQL-via-Alchemy/tutorial/01_table_primer/01_table_primer.ipynb#X46sZmlsZQ%3D%3D?line=2'>3</a>\u001b[0m     \u001b[39mawait\u001b[39;00m conn\u001b[39m.\u001b[39mexecute(sqla\u001b[39m.\u001b[39mtext(stmt))\n",
      "File \u001b[0;32m~/Projects/SQL-via-Alchemy/sqla/lib/python3.10/site-packages/sqlalchemy/ext/asyncio/engine.py:654\u001b[0m, in \u001b[0;36mAsyncConnection.execute\u001b[0;34m(self, statement, parameters, execution_options)\u001b[0m\n\u001b[1;32m    616\u001b[0m \u001b[39masync\u001b[39;00m \u001b[39mdef\u001b[39;00m \u001b[39mexecute\u001b[39m(\n\u001b[1;32m    617\u001b[0m     \u001b[39mself\u001b[39m,\n\u001b[1;32m    618\u001b[0m     statement: Executable,\n\u001b[0;32m   (...)\u001b[0m\n\u001b[1;32m    621\u001b[0m     execution_options: Optional[CoreExecuteOptionsParameter] \u001b[39m=\u001b[39m \u001b[39mNone\u001b[39;00m,\n\u001b[1;32m    622\u001b[0m ) \u001b[39m-\u001b[39m\u001b[39m>\u001b[39m CursorResult[Any]:\n\u001b[1;32m    623\u001b[0m \u001b[39m    \u001b[39m\u001b[39mr\u001b[39m\u001b[39m\"\"\"Executes a SQL statement construct and return a buffered\u001b[39;00m\n\u001b[1;32m    624\u001b[0m \u001b[39m    :class:`_engine.Result`.\u001b[39;00m\n\u001b[1;32m    625\u001b[0m \n\u001b[0;32m   (...)\u001b[0m\n\u001b[1;32m    652\u001b[0m \n\u001b[1;32m    653\u001b[0m \u001b[39m    \"\"\"\u001b[39;00m\n\u001b[0;32m--> 654\u001b[0m     result \u001b[39m=\u001b[39m \u001b[39mawait\u001b[39;00m greenlet_spawn(\n\u001b[1;32m    655\u001b[0m         \u001b[39mself\u001b[39m\u001b[39m.\u001b[39m_proxied\u001b[39m.\u001b[39mexecute,\n\u001b[1;32m    656\u001b[0m         statement,\n\u001b[1;32m    657\u001b[0m         parameters,\n\u001b[1;32m    658\u001b[0m         execution_options\u001b[39m=\u001b[39mexecution_options,\n\u001b[1;32m    659\u001b[0m         _require_await\u001b[39m=\u001b[39m\u001b[39mTrue\u001b[39;00m,\n\u001b[1;32m    660\u001b[0m     )\n\u001b[1;32m    661\u001b[0m     \u001b[39mreturn\u001b[39;00m \u001b[39mawait\u001b[39;00m _ensure_sync_result(result, \u001b[39mself\u001b[39m\u001b[39m.\u001b[39mexecute)\n",
      "File \u001b[0;32m~/Projects/SQL-via-Alchemy/sqla/lib/python3.10/site-packages/sqlalchemy/util/_concurrency_py3k.py:190\u001b[0m, in \u001b[0;36mgreenlet_spawn\u001b[0;34m(fn, _require_await, *args, **kwargs)\u001b[0m\n\u001b[1;32m    185\u001b[0m     value \u001b[39m=\u001b[39m \u001b[39mawait\u001b[39;00m result\n\u001b[1;32m    186\u001b[0m \u001b[39mexcept\u001b[39;00m \u001b[39mBaseException\u001b[39;00m:\n\u001b[1;32m    187\u001b[0m     \u001b[39m# this allows an exception to be raised within\u001b[39;00m\n\u001b[1;32m    188\u001b[0m     \u001b[39m# the moderated greenlet so that it can continue\u001b[39;00m\n\u001b[1;32m    189\u001b[0m     \u001b[39m# its expected flow.\u001b[39;00m\n\u001b[0;32m--> 190\u001b[0m     result \u001b[39m=\u001b[39m context\u001b[39m.\u001b[39;49mthrow(\u001b[39m*\u001b[39;49msys\u001b[39m.\u001b[39;49mexc_info())\n\u001b[1;32m    191\u001b[0m \u001b[39melse\u001b[39;00m:\n\u001b[1;32m    192\u001b[0m     result \u001b[39m=\u001b[39m context\u001b[39m.\u001b[39mswitch(value)\n",
      "File \u001b[0;32m~/Projects/SQL-via-Alchemy/sqla/lib/python3.10/site-packages/sqlalchemy/engine/base.py:1416\u001b[0m, in \u001b[0;36mConnection.execute\u001b[0;34m(self, statement, parameters, execution_options)\u001b[0m\n\u001b[1;32m   1414\u001b[0m     \u001b[39mraise\u001b[39;00m exc\u001b[39m.\u001b[39mObjectNotExecutableError(statement) \u001b[39mfrom\u001b[39;00m \u001b[39merr\u001b[39;00m\n\u001b[1;32m   1415\u001b[0m \u001b[39melse\u001b[39;00m:\n\u001b[0;32m-> 1416\u001b[0m     \u001b[39mreturn\u001b[39;00m meth(\n\u001b[1;32m   1417\u001b[0m         \u001b[39mself\u001b[39;49m,\n\u001b[1;32m   1418\u001b[0m         distilled_parameters,\n\u001b[1;32m   1419\u001b[0m         execution_options \u001b[39mor\u001b[39;49;00m NO_OPTIONS,\n\u001b[1;32m   1420\u001b[0m     )\n",
      "File \u001b[0;32m~/Projects/SQL-via-Alchemy/sqla/lib/python3.10/site-packages/sqlalchemy/sql/elements.py:516\u001b[0m, in \u001b[0;36mClauseElement._execute_on_connection\u001b[0;34m(self, connection, distilled_params, execution_options)\u001b[0m\n\u001b[1;32m    514\u001b[0m     \u001b[39mif\u001b[39;00m TYPE_CHECKING:\n\u001b[1;32m    515\u001b[0m         \u001b[39massert\u001b[39;00m \u001b[39misinstance\u001b[39m(\u001b[39mself\u001b[39m, Executable)\n\u001b[0;32m--> 516\u001b[0m     \u001b[39mreturn\u001b[39;00m connection\u001b[39m.\u001b[39;49m_execute_clauseelement(\n\u001b[1;32m    517\u001b[0m         \u001b[39mself\u001b[39;49m, distilled_params, execution_options\n\u001b[1;32m    518\u001b[0m     )\n\u001b[1;32m    519\u001b[0m \u001b[39melse\u001b[39;00m:\n\u001b[1;32m    520\u001b[0m     \u001b[39mraise\u001b[39;00m exc\u001b[39m.\u001b[39mObjectNotExecutableError(\u001b[39mself\u001b[39m)\n",
      "File \u001b[0;32m~/Projects/SQL-via-Alchemy/sqla/lib/python3.10/site-packages/sqlalchemy/engine/base.py:1639\u001b[0m, in \u001b[0;36mConnection._execute_clauseelement\u001b[0;34m(self, elem, distilled_parameters, execution_options)\u001b[0m\n\u001b[1;32m   1627\u001b[0m compiled_cache: Optional[CompiledCacheType] \u001b[39m=\u001b[39m execution_options\u001b[39m.\u001b[39mget(\n\u001b[1;32m   1628\u001b[0m     \u001b[39m\"\u001b[39m\u001b[39mcompiled_cache\u001b[39m\u001b[39m\"\u001b[39m, \u001b[39mself\u001b[39m\u001b[39m.\u001b[39mengine\u001b[39m.\u001b[39m_compiled_cache\n\u001b[1;32m   1629\u001b[0m )\n\u001b[1;32m   1631\u001b[0m compiled_sql, extracted_params, cache_hit \u001b[39m=\u001b[39m elem\u001b[39m.\u001b[39m_compile_w_cache(\n\u001b[1;32m   1632\u001b[0m     dialect\u001b[39m=\u001b[39mdialect,\n\u001b[1;32m   1633\u001b[0m     compiled_cache\u001b[39m=\u001b[39mcompiled_cache,\n\u001b[0;32m   (...)\u001b[0m\n\u001b[1;32m   1637\u001b[0m     linting\u001b[39m=\u001b[39m\u001b[39mself\u001b[39m\u001b[39m.\u001b[39mdialect\u001b[39m.\u001b[39mcompiler_linting \u001b[39m|\u001b[39m compiler\u001b[39m.\u001b[39mWARN_LINTING,\n\u001b[1;32m   1638\u001b[0m )\n\u001b[0;32m-> 1639\u001b[0m ret \u001b[39m=\u001b[39m \u001b[39mself\u001b[39;49m\u001b[39m.\u001b[39;49m_execute_context(\n\u001b[1;32m   1640\u001b[0m     dialect,\n\u001b[1;32m   1641\u001b[0m     dialect\u001b[39m.\u001b[39;49mexecution_ctx_cls\u001b[39m.\u001b[39;49m_init_compiled,\n\u001b[1;32m   1642\u001b[0m     compiled_sql,\n\u001b[1;32m   1643\u001b[0m     distilled_parameters,\n\u001b[1;32m   1644\u001b[0m     execution_options,\n\u001b[1;32m   1645\u001b[0m     compiled_sql,\n\u001b[1;32m   1646\u001b[0m     distilled_parameters,\n\u001b[1;32m   1647\u001b[0m     elem,\n\u001b[1;32m   1648\u001b[0m     extracted_params,\n\u001b[1;32m   1649\u001b[0m     cache_hit\u001b[39m=\u001b[39;49mcache_hit,\n\u001b[1;32m   1650\u001b[0m )\n\u001b[1;32m   1651\u001b[0m \u001b[39mif\u001b[39;00m has_events:\n\u001b[1;32m   1652\u001b[0m     \u001b[39mself\u001b[39m\u001b[39m.\u001b[39mdispatch\u001b[39m.\u001b[39mafter_execute(\n\u001b[1;32m   1653\u001b[0m         \u001b[39mself\u001b[39m,\n\u001b[1;32m   1654\u001b[0m         elem,\n\u001b[0;32m   (...)\u001b[0m\n\u001b[1;32m   1658\u001b[0m         ret,\n\u001b[1;32m   1659\u001b[0m     )\n",
      "File \u001b[0;32m~/Projects/SQL-via-Alchemy/sqla/lib/python3.10/site-packages/sqlalchemy/engine/base.py:1848\u001b[0m, in \u001b[0;36mConnection._execute_context\u001b[0;34m(self, dialect, constructor, statement, parameters, execution_options, *args, **kw)\u001b[0m\n\u001b[1;32m   1843\u001b[0m     \u001b[39mreturn\u001b[39;00m \u001b[39mself\u001b[39m\u001b[39m.\u001b[39m_exec_insertmany_context(\n\u001b[1;32m   1844\u001b[0m         dialect,\n\u001b[1;32m   1845\u001b[0m         context,\n\u001b[1;32m   1846\u001b[0m     )\n\u001b[1;32m   1847\u001b[0m \u001b[39melse\u001b[39;00m:\n\u001b[0;32m-> 1848\u001b[0m     \u001b[39mreturn\u001b[39;00m \u001b[39mself\u001b[39;49m\u001b[39m.\u001b[39;49m_exec_single_context(\n\u001b[1;32m   1849\u001b[0m         dialect, context, statement, parameters\n\u001b[1;32m   1850\u001b[0m     )\n",
      "File \u001b[0;32m~/Projects/SQL-via-Alchemy/sqla/lib/python3.10/site-packages/sqlalchemy/engine/base.py:1988\u001b[0m, in \u001b[0;36mConnection._exec_single_context\u001b[0;34m(self, dialect, context, statement, parameters)\u001b[0m\n\u001b[1;32m   1985\u001b[0m     result \u001b[39m=\u001b[39m context\u001b[39m.\u001b[39m_setup_result_proxy()\n\u001b[1;32m   1987\u001b[0m \u001b[39mexcept\u001b[39;00m \u001b[39mBaseException\u001b[39;00m \u001b[39mas\u001b[39;00m e:\n\u001b[0;32m-> 1988\u001b[0m     \u001b[39mself\u001b[39;49m\u001b[39m.\u001b[39;49m_handle_dbapi_exception(\n\u001b[1;32m   1989\u001b[0m         e, str_statement, effective_parameters, cursor, context\n\u001b[1;32m   1990\u001b[0m     )\n\u001b[1;32m   1992\u001b[0m \u001b[39mreturn\u001b[39;00m result\n",
      "File \u001b[0;32m~/Projects/SQL-via-Alchemy/sqla/lib/python3.10/site-packages/sqlalchemy/engine/base.py:2343\u001b[0m, in \u001b[0;36mConnection._handle_dbapi_exception\u001b[0;34m(self, e, statement, parameters, cursor, context, is_sub_exec)\u001b[0m\n\u001b[1;32m   2341\u001b[0m \u001b[39melif\u001b[39;00m should_wrap:\n\u001b[1;32m   2342\u001b[0m     \u001b[39massert\u001b[39;00m sqlalchemy_exception \u001b[39mis\u001b[39;00m \u001b[39mnot\u001b[39;00m \u001b[39mNone\u001b[39;00m\n\u001b[0;32m-> 2343\u001b[0m     \u001b[39mraise\u001b[39;00m sqlalchemy_exception\u001b[39m.\u001b[39mwith_traceback(exc_info[\u001b[39m2\u001b[39m]) \u001b[39mfrom\u001b[39;00m \u001b[39me\u001b[39;00m\n\u001b[1;32m   2344\u001b[0m \u001b[39melse\u001b[39;00m:\n\u001b[1;32m   2345\u001b[0m     \u001b[39massert\u001b[39;00m exc_info[\u001b[39m1\u001b[39m] \u001b[39mis\u001b[39;00m \u001b[39mnot\u001b[39;00m \u001b[39mNone\u001b[39;00m\n",
      "File \u001b[0;32m~/Projects/SQL-via-Alchemy/sqla/lib/python3.10/site-packages/sqlalchemy/engine/base.py:1969\u001b[0m, in \u001b[0;36mConnection._exec_single_context\u001b[0;34m(self, dialect, context, statement, parameters)\u001b[0m\n\u001b[1;32m   1967\u001b[0m                 \u001b[39mbreak\u001b[39;00m\n\u001b[1;32m   1968\u001b[0m     \u001b[39mif\u001b[39;00m \u001b[39mnot\u001b[39;00m evt_handled:\n\u001b[0;32m-> 1969\u001b[0m         \u001b[39mself\u001b[39;49m\u001b[39m.\u001b[39;49mdialect\u001b[39m.\u001b[39;49mdo_execute(\n\u001b[1;32m   1970\u001b[0m             cursor, str_statement, effective_parameters, context\n\u001b[1;32m   1971\u001b[0m         )\n\u001b[1;32m   1973\u001b[0m \u001b[39mif\u001b[39;00m \u001b[39mself\u001b[39m\u001b[39m.\u001b[39m_has_events \u001b[39mor\u001b[39;00m \u001b[39mself\u001b[39m\u001b[39m.\u001b[39mengine\u001b[39m.\u001b[39m_has_events:\n\u001b[1;32m   1974\u001b[0m     \u001b[39mself\u001b[39m\u001b[39m.\u001b[39mdispatch\u001b[39m.\u001b[39mafter_cursor_execute(\n\u001b[1;32m   1975\u001b[0m         \u001b[39mself\u001b[39m,\n\u001b[1;32m   1976\u001b[0m         cursor,\n\u001b[0;32m   (...)\u001b[0m\n\u001b[1;32m   1980\u001b[0m         context\u001b[39m.\u001b[39mexecutemany,\n\u001b[1;32m   1981\u001b[0m     )\n",
      "File \u001b[0;32m~/Projects/SQL-via-Alchemy/sqla/lib/python3.10/site-packages/sqlalchemy/engine/default.py:922\u001b[0m, in \u001b[0;36mDefaultDialect.do_execute\u001b[0;34m(self, cursor, statement, parameters, context)\u001b[0m\n\u001b[1;32m    921\u001b[0m \u001b[39mdef\u001b[39;00m \u001b[39mdo_execute\u001b[39m(\u001b[39mself\u001b[39m, cursor, statement, parameters, context\u001b[39m=\u001b[39m\u001b[39mNone\u001b[39;00m):\n\u001b[0;32m--> 922\u001b[0m     cursor\u001b[39m.\u001b[39;49mexecute(statement, parameters)\n",
      "File \u001b[0;32m~/Projects/SQL-via-Alchemy/sqla/lib/python3.10/site-packages/sqlalchemy/dialects/sqlite/aiosqlite.py:113\u001b[0m, in \u001b[0;36mAsyncAdapt_aiosqlite_cursor.execute\u001b[0;34m(self, operation, parameters)\u001b[0m\n\u001b[1;32m    111\u001b[0m         \u001b[39mself\u001b[39m\u001b[39m.\u001b[39m_cursor \u001b[39m=\u001b[39m _cursor\n\u001b[1;32m    112\u001b[0m \u001b[39mexcept\u001b[39;00m \u001b[39mException\u001b[39;00m \u001b[39mas\u001b[39;00m error:\n\u001b[0;32m--> 113\u001b[0m     \u001b[39mself\u001b[39;49m\u001b[39m.\u001b[39;49m_adapt_connection\u001b[39m.\u001b[39;49m_handle_exception(error)\n",
      "File \u001b[0;32m~/Projects/SQL-via-Alchemy/sqla/lib/python3.10/site-packages/sqlalchemy/dialects/sqlite/aiosqlite.py:263\u001b[0m, in \u001b[0;36mAsyncAdapt_aiosqlite_connection._handle_exception\u001b[0;34m(self, error)\u001b[0m\n\u001b[1;32m    259\u001b[0m     \u001b[39mraise\u001b[39;00m \u001b[39mself\u001b[39m\u001b[39m.\u001b[39mdbapi\u001b[39m.\u001b[39msqlite\u001b[39m.\u001b[39mOperationalError(\n\u001b[1;32m    260\u001b[0m         \u001b[39m\"\u001b[39m\u001b[39mno active connection\u001b[39m\u001b[39m\"\u001b[39m\n\u001b[1;32m    261\u001b[0m     ) \u001b[39mfrom\u001b[39;00m \u001b[39merror\u001b[39;00m\n\u001b[1;32m    262\u001b[0m \u001b[39melse\u001b[39;00m:\n\u001b[0;32m--> 263\u001b[0m     \u001b[39mraise\u001b[39;00m error\n",
      "File \u001b[0;32m~/Projects/SQL-via-Alchemy/sqla/lib/python3.10/site-packages/sqlalchemy/dialects/sqlite/aiosqlite.py:95\u001b[0m, in \u001b[0;36mAsyncAdapt_aiosqlite_cursor.execute\u001b[0;34m(self, operation, parameters)\u001b[0m\n\u001b[1;32m     93\u001b[0m     \u001b[39mself\u001b[39m\u001b[39m.\u001b[39mawait_(_cursor\u001b[39m.\u001b[39mexecute(operation))\n\u001b[1;32m     94\u001b[0m \u001b[39melse\u001b[39;00m:\n\u001b[0;32m---> 95\u001b[0m     \u001b[39mself\u001b[39;49m\u001b[39m.\u001b[39;49mawait_(_cursor\u001b[39m.\u001b[39;49mexecute(operation, parameters))\n\u001b[1;32m     97\u001b[0m \u001b[39mif\u001b[39;00m _cursor\u001b[39m.\u001b[39mdescription:\n\u001b[1;32m     98\u001b[0m     \u001b[39mself\u001b[39m\u001b[39m.\u001b[39mdescription \u001b[39m=\u001b[39m _cursor\u001b[39m.\u001b[39mdescription\n",
      "File \u001b[0;32m~/Projects/SQL-via-Alchemy/sqla/lib/python3.10/site-packages/sqlalchemy/util/_concurrency_py3k.py:125\u001b[0m, in \u001b[0;36mawait_only\u001b[0;34m(awaitable)\u001b[0m\n\u001b[1;32m    116\u001b[0m     \u001b[39mraise\u001b[39;00m exc\u001b[39m.\u001b[39mMissingGreenlet(\n\u001b[1;32m    117\u001b[0m         \u001b[39m\"\u001b[39m\u001b[39mgreenlet_spawn has not been called; can\u001b[39m\u001b[39m'\u001b[39m\u001b[39mt call await_only() \u001b[39m\u001b[39m\"\u001b[39m\n\u001b[1;32m    118\u001b[0m         \u001b[39m\"\u001b[39m\u001b[39mhere. Was IO attempted in an unexpected place?\u001b[39m\u001b[39m\"\u001b[39m\n\u001b[1;32m    119\u001b[0m     )\n\u001b[1;32m    121\u001b[0m \u001b[39m# returns the control to the driver greenlet passing it\u001b[39;00m\n\u001b[1;32m    122\u001b[0m \u001b[39m# a coroutine to run. Once the awaitable is done, the driver greenlet\u001b[39;00m\n\u001b[1;32m    123\u001b[0m \u001b[39m# switches back to this greenlet with the result of awaitable that is\u001b[39;00m\n\u001b[1;32m    124\u001b[0m \u001b[39m# then returned to the caller (or raised as error)\u001b[39;00m\n\u001b[0;32m--> 125\u001b[0m \u001b[39mreturn\u001b[39;00m current\u001b[39m.\u001b[39;49mdriver\u001b[39m.\u001b[39;49mswitch(awaitable)\n",
      "File \u001b[0;32m~/Projects/SQL-via-Alchemy/sqla/lib/python3.10/site-packages/sqlalchemy/util/_concurrency_py3k.py:185\u001b[0m, in \u001b[0;36mgreenlet_spawn\u001b[0;34m(fn, _require_await, *args, **kwargs)\u001b[0m\n\u001b[1;32m    181\u001b[0m switch_occurred \u001b[39m=\u001b[39m \u001b[39mTrue\u001b[39;00m\n\u001b[1;32m    182\u001b[0m \u001b[39mtry\u001b[39;00m:\n\u001b[1;32m    183\u001b[0m     \u001b[39m# wait for a coroutine from await_only and then return its\u001b[39;00m\n\u001b[1;32m    184\u001b[0m     \u001b[39m# result back to it.\u001b[39;00m\n\u001b[0;32m--> 185\u001b[0m     value \u001b[39m=\u001b[39m \u001b[39mawait\u001b[39;00m result\n\u001b[1;32m    186\u001b[0m \u001b[39mexcept\u001b[39;00m \u001b[39mBaseException\u001b[39;00m:\n\u001b[1;32m    187\u001b[0m     \u001b[39m# this allows an exception to be raised within\u001b[39;00m\n\u001b[1;32m    188\u001b[0m     \u001b[39m# the moderated greenlet so that it can continue\u001b[39;00m\n\u001b[1;32m    189\u001b[0m     \u001b[39m# its expected flow.\u001b[39;00m\n\u001b[1;32m    190\u001b[0m     result \u001b[39m=\u001b[39m context\u001b[39m.\u001b[39mthrow(\u001b[39m*\u001b[39msys\u001b[39m.\u001b[39mexc_info())\n",
      "File \u001b[0;32m~/Projects/SQL-via-Alchemy/sqla/lib/python3.10/site-packages/aiosqlite/cursor.py:48\u001b[0m, in \u001b[0;36mCursor.execute\u001b[0;34m(self, sql, parameters)\u001b[0m\n\u001b[1;32m     46\u001b[0m \u001b[39mif\u001b[39;00m parameters \u001b[39mis\u001b[39;00m \u001b[39mNone\u001b[39;00m:\n\u001b[1;32m     47\u001b[0m     parameters \u001b[39m=\u001b[39m []\n\u001b[0;32m---> 48\u001b[0m \u001b[39mawait\u001b[39;00m \u001b[39mself\u001b[39m\u001b[39m.\u001b[39m_execute(\u001b[39mself\u001b[39m\u001b[39m.\u001b[39m_cursor\u001b[39m.\u001b[39mexecute, sql, parameters)\n\u001b[1;32m     49\u001b[0m \u001b[39mreturn\u001b[39;00m \u001b[39mself\u001b[39m\n",
      "File \u001b[0;32m~/Projects/SQL-via-Alchemy/sqla/lib/python3.10/site-packages/aiosqlite/cursor.py:40\u001b[0m, in \u001b[0;36mCursor._execute\u001b[0;34m(self, fn, *args, **kwargs)\u001b[0m\n\u001b[1;32m     38\u001b[0m \u001b[39masync\u001b[39;00m \u001b[39mdef\u001b[39;00m \u001b[39m_execute\u001b[39m(\u001b[39mself\u001b[39m, fn, \u001b[39m*\u001b[39margs, \u001b[39m*\u001b[39m\u001b[39m*\u001b[39mkwargs):\n\u001b[1;32m     39\u001b[0m \u001b[39m    \u001b[39m\u001b[39m\"\"\"Execute the given function on the shared connection's thread.\"\"\"\u001b[39;00m\n\u001b[0;32m---> 40\u001b[0m     \u001b[39mreturn\u001b[39;00m \u001b[39mawait\u001b[39;00m \u001b[39mself\u001b[39m\u001b[39m.\u001b[39m_conn\u001b[39m.\u001b[39m_execute(fn, \u001b[39m*\u001b[39margs, \u001b[39m*\u001b[39m\u001b[39m*\u001b[39mkwargs)\n",
      "File \u001b[0;32m~/Projects/SQL-via-Alchemy/sqla/lib/python3.10/site-packages/aiosqlite/core.py:133\u001b[0m, in \u001b[0;36mConnection._execute\u001b[0;34m(self, fn, *args, **kwargs)\u001b[0m\n\u001b[1;32m    129\u001b[0m future \u001b[39m=\u001b[39m asyncio\u001b[39m.\u001b[39mget_event_loop()\u001b[39m.\u001b[39mcreate_future()\n\u001b[1;32m    131\u001b[0m \u001b[39mself\u001b[39m\u001b[39m.\u001b[39m_tx\u001b[39m.\u001b[39mput_nowait((future, function))\n\u001b[0;32m--> 133\u001b[0m \u001b[39mreturn\u001b[39;00m \u001b[39mawait\u001b[39;00m future\n",
      "File \u001b[0;32m~/Projects/SQL-via-Alchemy/sqla/lib/python3.10/site-packages/aiosqlite/core.py:106\u001b[0m, in \u001b[0;36mConnection.run\u001b[0;34m(self)\u001b[0m\n\u001b[1;32m    104\u001b[0m \u001b[39mtry\u001b[39;00m:\n\u001b[1;32m    105\u001b[0m     LOG\u001b[39m.\u001b[39mdebug(\u001b[39m\"\u001b[39m\u001b[39mexecuting \u001b[39m\u001b[39m%s\u001b[39;00m\u001b[39m\"\u001b[39m, function)\n\u001b[0;32m--> 106\u001b[0m     result \u001b[39m=\u001b[39m function()\n\u001b[1;32m    107\u001b[0m     LOG\u001b[39m.\u001b[39mdebug(\u001b[39m\"\u001b[39m\u001b[39moperation \u001b[39m\u001b[39m%s\u001b[39;00m\u001b[39m completed\u001b[39m\u001b[39m\"\u001b[39m, function)\n\u001b[1;32m    109\u001b[0m     \u001b[39mdef\u001b[39;00m \u001b[39mset_result\u001b[39m(fut, result):\n",
      "\u001b[0;31mOperationalError\u001b[0m: (sqlite3.OperationalError) no such table: Users\n[SQL: SELECT * FROM Users;]\n(Background on this error at: https://sqlalche.me/e/20/e3q8)"
     ]
    }
   ],
   "source": [
    "async with async_engine.connect() as conn:\n",
    "    stmt = \"SELECT * FROM Users;\"\n",
    "    await conn.execute(sqla.text(stmt))"
   ]
  },
  {
   "cell_type": "markdown",
   "metadata": {},
   "source": [
    "But the \"tmp\" table exists."
   ]
  },
  {
   "cell_type": "code",
   "execution_count": 18,
   "metadata": {},
   "outputs": [
    {
     "name": "stdout",
     "output_type": "stream",
     "text": [
      "2023-11-19 22:08:20,607 INFO sqlalchemy.engine.Engine BEGIN (implicit)\n",
      "2023-11-19 22:08:20,609 INFO sqlalchemy.engine.Engine SELECT tmp.id, tmp.first_name, tmp.last_name \n",
      "FROM tmp\n",
      "2023-11-19 22:08:20,610 INFO sqlalchemy.engine.Engine [cached since 5.244s ago] ()\n",
      "SELECT * FROM tmp; -> [(1, 'John', 'Doe'), (2, 'Jane', 'Lane')]\n",
      "2023-11-19 22:08:20,614 INFO sqlalchemy.engine.Engine ROLLBACK\n"
     ]
    }
   ],
   "source": [
    "async with async_engine.connect() as async_conn:\n",
    "    result = await async_conn.execute(sqla.select(Tmp))\n",
    "    print(f\"SELECT * FROM tmp; -> {result.fetchall()}\")"
   ]
  },
  {
   "cell_type": "markdown",
   "metadata": {},
   "source": [
    "Finally, we can easily change or ALTER the name of \"tmp\" table into \"users\"."
   ]
  },
  {
   "cell_type": "code",
   "execution_count": 19,
   "metadata": {},
   "outputs": [
    {
     "name": "stdout",
     "output_type": "stream",
     "text": [
      "2023-11-19 22:08:28,020 INFO sqlalchemy.engine.Engine BEGIN (implicit)\n",
      "2023-11-19 22:08:28,023 INFO sqlalchemy.engine.Engine ALTER TABLE tmp RENAME TO users;\n",
      "2023-11-19 22:08:28,025 INFO sqlalchemy.engine.Engine [generated in 0.00200s] ()\n",
      "2023-11-19 22:08:28,030 INFO sqlalchemy.engine.Engine COMMIT\n"
     ]
    }
   ],
   "source": [
    "async with async_engine.begin() as ta:\n",
    "    stmt = \"ALTER TABLE tmp RENAME TO users;\"\n",
    "    await ta.execute(sqla.text(stmt))"
   ]
  },
  {
   "cell_type": "markdown",
   "metadata": {},
   "source": [
    "And if selecting all columns (and rows) from the \"users\" table, we shall see the data previously inhabitating the \"tmp\" table, which are the same tables, so here two points are checked:\n",
    "\n",
    "1. \"tmp\" is really renamed and accessed by the new \"users\" name\n",
    "\n",
    "2. no data missing"
   ]
  },
  {
   "cell_type": "code",
   "execution_count": 20,
   "metadata": {},
   "outputs": [
    {
     "name": "stdout",
     "output_type": "stream",
     "text": [
      "2023-11-19 22:08:31,044 INFO sqlalchemy.engine.Engine BEGIN (implicit)\n",
      "2023-11-19 22:08:31,047 INFO sqlalchemy.engine.Engine select * from users;\n",
      "2023-11-19 22:08:31,048 INFO sqlalchemy.engine.Engine [generated in 0.00195s] ()\n",
      "(1, 'John', 'Doe')\n",
      "(2, 'Jane', 'Lane')\n",
      "2023-11-19 22:08:31,053 INFO sqlalchemy.engine.Engine ROLLBACK\n"
     ]
    }
   ],
   "source": [
    "async_session = async_sqla.async_sessionmaker(async_engine)\n",
    "async with async_session() as session:\n",
    "    stmt = \"select * from users;\"\n",
    "    result = await session.execute(sqla.text(stmt))\n",
    "    for row in result.fetchall():\n",
    "        print(row)"
   ]
  },
  {
   "cell_type": "markdown",
   "metadata": {},
   "source": [
    "Everything went fine...or did it? There is not a small hindrance: metadata instances got outdated. The data they hold are obsolete."
   ]
  },
  {
   "cell_type": "code",
   "execution_count": 21,
   "metadata": {},
   "outputs": [
    {
     "name": "stdout",
     "output_type": "stream",
     "text": [
      "NEW METADATA: FacadeDict({'tmp': Table('tmp', MetaData(), Column('id', Integer(), table=<tmp>, primary_key=True, nullable=False), Column('first_name', String(length=30), table=<tmp>, nullable=False), Column('last_name', String(length=30), table=<tmp>, nullable=False), schema=None)})\n",
      "\n",
      "OLD METADATA: FacadeDict({'users': Table('users', MetaData(), Column('ID', Integer(), table=<users>, primary_key=True, nullable=False), Column('full name', String(length=100), table=<users>, nullable=False), schema=None)})\n",
      "\n"
     ]
    }
   ],
   "source": [
    "print(f\"NEW METADATA: {new_metadata.tables}\\n\")\n",
    "print(f\"OLD METADATA: {metadata.tables}\\n\")"
   ]
  },
  {
   "cell_type": "markdown",
   "metadata": {},
   "source": [
    "We cannot address `Tmp` class anymore and this is normal since it has `__tablename__ = \"tmp\"` attribute."
   ]
  },
  {
   "cell_type": "code",
   "execution_count": 22,
   "metadata": {},
   "outputs": [
    {
     "name": "stdout",
     "output_type": "stream",
     "text": [
      "2023-11-19 22:08:35,023 INFO sqlalchemy.engine.Engine BEGIN (implicit)\n",
      "2023-11-19 22:08:35,026 INFO sqlalchemy.engine.Engine SELECT tmp.id, tmp.first_name, tmp.last_name \n",
      "FROM tmp\n",
      "2023-11-19 22:08:35,029 INFO sqlalchemy.engine.Engine [cached since 19.66s ago] ()\n",
      "2023-11-19 22:08:35,034 INFO sqlalchemy.engine.Engine ROLLBACK\n"
     ]
    },
    {
     "ename": "OperationalError",
     "evalue": "(sqlite3.OperationalError) no such table: tmp\n[SQL: SELECT tmp.id, tmp.first_name, tmp.last_name \nFROM tmp]\n(Background on this error at: https://sqlalche.me/e/20/e3q8)",
     "output_type": "error",
     "traceback": [
      "\u001b[0;31m---------------------------------------------------------------------------\u001b[0m",
      "\u001b[0;31mOperationalError\u001b[0m                          Traceback (most recent call last)",
      "File \u001b[0;32m~/Projects/SQL-via-Alchemy/sqla/lib/python3.10/site-packages/sqlalchemy/engine/base.py:1969\u001b[0m, in \u001b[0;36mConnection._exec_single_context\u001b[0;34m(self, dialect, context, statement, parameters)\u001b[0m\n\u001b[1;32m   1968\u001b[0m     \u001b[39mif\u001b[39;00m \u001b[39mnot\u001b[39;00m evt_handled:\n\u001b[0;32m-> 1969\u001b[0m         \u001b[39mself\u001b[39;49m\u001b[39m.\u001b[39;49mdialect\u001b[39m.\u001b[39;49mdo_execute(\n\u001b[1;32m   1970\u001b[0m             cursor, str_statement, effective_parameters, context\n\u001b[1;32m   1971\u001b[0m         )\n\u001b[1;32m   1973\u001b[0m \u001b[39mif\u001b[39;00m \u001b[39mself\u001b[39m\u001b[39m.\u001b[39m_has_events \u001b[39mor\u001b[39;00m \u001b[39mself\u001b[39m\u001b[39m.\u001b[39mengine\u001b[39m.\u001b[39m_has_events:\n",
      "File \u001b[0;32m~/Projects/SQL-via-Alchemy/sqla/lib/python3.10/site-packages/sqlalchemy/engine/default.py:922\u001b[0m, in \u001b[0;36mDefaultDialect.do_execute\u001b[0;34m(self, cursor, statement, parameters, context)\u001b[0m\n\u001b[1;32m    921\u001b[0m \u001b[39mdef\u001b[39;00m \u001b[39mdo_execute\u001b[39m(\u001b[39mself\u001b[39m, cursor, statement, parameters, context\u001b[39m=\u001b[39m\u001b[39mNone\u001b[39;00m):\n\u001b[0;32m--> 922\u001b[0m     cursor\u001b[39m.\u001b[39;49mexecute(statement, parameters)\n",
      "File \u001b[0;32m~/Projects/SQL-via-Alchemy/sqla/lib/python3.10/site-packages/sqlalchemy/dialects/sqlite/aiosqlite.py:113\u001b[0m, in \u001b[0;36mAsyncAdapt_aiosqlite_cursor.execute\u001b[0;34m(self, operation, parameters)\u001b[0m\n\u001b[1;32m    112\u001b[0m \u001b[39mexcept\u001b[39;00m \u001b[39mException\u001b[39;00m \u001b[39mas\u001b[39;00m error:\n\u001b[0;32m--> 113\u001b[0m     \u001b[39mself\u001b[39;49m\u001b[39m.\u001b[39;49m_adapt_connection\u001b[39m.\u001b[39;49m_handle_exception(error)\n",
      "File \u001b[0;32m~/Projects/SQL-via-Alchemy/sqla/lib/python3.10/site-packages/sqlalchemy/dialects/sqlite/aiosqlite.py:263\u001b[0m, in \u001b[0;36mAsyncAdapt_aiosqlite_connection._handle_exception\u001b[0;34m(self, error)\u001b[0m\n\u001b[1;32m    262\u001b[0m \u001b[39melse\u001b[39;00m:\n\u001b[0;32m--> 263\u001b[0m     \u001b[39mraise\u001b[39;00m error\n",
      "File \u001b[0;32m~/Projects/SQL-via-Alchemy/sqla/lib/python3.10/site-packages/sqlalchemy/dialects/sqlite/aiosqlite.py:95\u001b[0m, in \u001b[0;36mAsyncAdapt_aiosqlite_cursor.execute\u001b[0;34m(self, operation, parameters)\u001b[0m\n\u001b[1;32m     94\u001b[0m \u001b[39melse\u001b[39;00m:\n\u001b[0;32m---> 95\u001b[0m     \u001b[39mself\u001b[39;49m\u001b[39m.\u001b[39;49mawait_(_cursor\u001b[39m.\u001b[39;49mexecute(operation, parameters))\n\u001b[1;32m     97\u001b[0m \u001b[39mif\u001b[39;00m _cursor\u001b[39m.\u001b[39mdescription:\n",
      "File \u001b[0;32m~/Projects/SQL-via-Alchemy/sqla/lib/python3.10/site-packages/sqlalchemy/util/_concurrency_py3k.py:125\u001b[0m, in \u001b[0;36mawait_only\u001b[0;34m(awaitable)\u001b[0m\n\u001b[1;32m    121\u001b[0m \u001b[39m# returns the control to the driver greenlet passing it\u001b[39;00m\n\u001b[1;32m    122\u001b[0m \u001b[39m# a coroutine to run. Once the awaitable is done, the driver greenlet\u001b[39;00m\n\u001b[1;32m    123\u001b[0m \u001b[39m# switches back to this greenlet with the result of awaitable that is\u001b[39;00m\n\u001b[1;32m    124\u001b[0m \u001b[39m# then returned to the caller (or raised as error)\u001b[39;00m\n\u001b[0;32m--> 125\u001b[0m \u001b[39mreturn\u001b[39;00m current\u001b[39m.\u001b[39;49mdriver\u001b[39m.\u001b[39;49mswitch(awaitable)\n",
      "File \u001b[0;32m~/Projects/SQL-via-Alchemy/sqla/lib/python3.10/site-packages/sqlalchemy/util/_concurrency_py3k.py:185\u001b[0m, in \u001b[0;36mgreenlet_spawn\u001b[0;34m(fn, _require_await, *args, **kwargs)\u001b[0m\n\u001b[1;32m    182\u001b[0m \u001b[39mtry\u001b[39;00m:\n\u001b[1;32m    183\u001b[0m     \u001b[39m# wait for a coroutine from await_only and then return its\u001b[39;00m\n\u001b[1;32m    184\u001b[0m     \u001b[39m# result back to it.\u001b[39;00m\n\u001b[0;32m--> 185\u001b[0m     value \u001b[39m=\u001b[39m \u001b[39mawait\u001b[39;00m result\n\u001b[1;32m    186\u001b[0m \u001b[39mexcept\u001b[39;00m \u001b[39mBaseException\u001b[39;00m:\n\u001b[1;32m    187\u001b[0m     \u001b[39m# this allows an exception to be raised within\u001b[39;00m\n\u001b[1;32m    188\u001b[0m     \u001b[39m# the moderated greenlet so that it can continue\u001b[39;00m\n\u001b[1;32m    189\u001b[0m     \u001b[39m# its expected flow.\u001b[39;00m\n",
      "File \u001b[0;32m~/Projects/SQL-via-Alchemy/sqla/lib/python3.10/site-packages/aiosqlite/cursor.py:48\u001b[0m, in \u001b[0;36mCursor.execute\u001b[0;34m(self, sql, parameters)\u001b[0m\n\u001b[1;32m     47\u001b[0m     parameters \u001b[39m=\u001b[39m []\n\u001b[0;32m---> 48\u001b[0m \u001b[39mawait\u001b[39;00m \u001b[39mself\u001b[39m\u001b[39m.\u001b[39m_execute(\u001b[39mself\u001b[39m\u001b[39m.\u001b[39m_cursor\u001b[39m.\u001b[39mexecute, sql, parameters)\n\u001b[1;32m     49\u001b[0m \u001b[39mreturn\u001b[39;00m \u001b[39mself\u001b[39m\n",
      "File \u001b[0;32m~/Projects/SQL-via-Alchemy/sqla/lib/python3.10/site-packages/aiosqlite/cursor.py:40\u001b[0m, in \u001b[0;36mCursor._execute\u001b[0;34m(self, fn, *args, **kwargs)\u001b[0m\n\u001b[1;32m     39\u001b[0m \u001b[39m\u001b[39m\u001b[39m\"\"\"Execute the given function on the shared connection's thread.\"\"\"\u001b[39;00m\n\u001b[0;32m---> 40\u001b[0m \u001b[39mreturn\u001b[39;00m \u001b[39mawait\u001b[39;00m \u001b[39mself\u001b[39m\u001b[39m.\u001b[39m_conn\u001b[39m.\u001b[39m_execute(fn, \u001b[39m*\u001b[39margs, \u001b[39m*\u001b[39m\u001b[39m*\u001b[39mkwargs)\n",
      "File \u001b[0;32m~/Projects/SQL-via-Alchemy/sqla/lib/python3.10/site-packages/aiosqlite/core.py:133\u001b[0m, in \u001b[0;36mConnection._execute\u001b[0;34m(self, fn, *args, **kwargs)\u001b[0m\n\u001b[1;32m    131\u001b[0m \u001b[39mself\u001b[39m\u001b[39m.\u001b[39m_tx\u001b[39m.\u001b[39mput_nowait((future, function))\n\u001b[0;32m--> 133\u001b[0m \u001b[39mreturn\u001b[39;00m \u001b[39mawait\u001b[39;00m future\n",
      "File \u001b[0;32m~/Projects/SQL-via-Alchemy/sqla/lib/python3.10/site-packages/aiosqlite/core.py:106\u001b[0m, in \u001b[0;36mConnection.run\u001b[0;34m(self)\u001b[0m\n\u001b[1;32m    105\u001b[0m LOG\u001b[39m.\u001b[39mdebug(\u001b[39m\"\u001b[39m\u001b[39mexecuting \u001b[39m\u001b[39m%s\u001b[39;00m\u001b[39m\"\u001b[39m, function)\n\u001b[0;32m--> 106\u001b[0m result \u001b[39m=\u001b[39m function()\n\u001b[1;32m    107\u001b[0m LOG\u001b[39m.\u001b[39mdebug(\u001b[39m\"\u001b[39m\u001b[39moperation \u001b[39m\u001b[39m%s\u001b[39;00m\u001b[39m completed\u001b[39m\u001b[39m\"\u001b[39m, function)\n",
      "\u001b[0;31mOperationalError\u001b[0m: no such table: tmp",
      "\nThe above exception was the direct cause of the following exception:\n",
      "\u001b[0;31mOperationalError\u001b[0m                          Traceback (most recent call last)",
      "\u001b[1;32m/home/stankudrow/Projects/SQL-via-Alchemy/tutorial/01_table_primer/01_table_primer.ipynb Cell 45\u001b[0m line \u001b[0;36m3\n\u001b[1;32m      <a href='vscode-notebook-cell:/home/stankudrow/Projects/SQL-via-Alchemy/tutorial/01_table_primer/01_table_primer.ipynb#X62sZmlsZQ%3D%3D?line=0'>1</a>\u001b[0m async_session \u001b[39m=\u001b[39m async_sqla\u001b[39m.\u001b[39masync_sessionmaker(async_engine)\n\u001b[1;32m      <a href='vscode-notebook-cell:/home/stankudrow/Projects/SQL-via-Alchemy/tutorial/01_table_primer/01_table_primer.ipynb#X62sZmlsZQ%3D%3D?line=1'>2</a>\u001b[0m \u001b[39masync\u001b[39;00m \u001b[39mwith\u001b[39;00m async_session() \u001b[39mas\u001b[39;00m session:\n\u001b[0;32m----> <a href='vscode-notebook-cell:/home/stankudrow/Projects/SQL-via-Alchemy/tutorial/01_table_primer/01_table_primer.ipynb#X62sZmlsZQ%3D%3D?line=2'>3</a>\u001b[0m     result \u001b[39m=\u001b[39m \u001b[39mawait\u001b[39;00m session\u001b[39m.\u001b[39mexecute(sqla\u001b[39m.\u001b[39mselect(Tmp))\n\u001b[1;32m      <a href='vscode-notebook-cell:/home/stankudrow/Projects/SQL-via-Alchemy/tutorial/01_table_primer/01_table_primer.ipynb#X62sZmlsZQ%3D%3D?line=3'>4</a>\u001b[0m     \u001b[39mfor\u001b[39;00m row \u001b[39min\u001b[39;00m result\u001b[39m.\u001b[39mscalars():\n\u001b[1;32m      <a href='vscode-notebook-cell:/home/stankudrow/Projects/SQL-via-Alchemy/tutorial/01_table_primer/01_table_primer.ipynb#X62sZmlsZQ%3D%3D?line=4'>5</a>\u001b[0m         \u001b[39mprint\u001b[39m(row)\n",
      "File \u001b[0;32m~/Projects/SQL-via-Alchemy/sqla/lib/python3.10/site-packages/sqlalchemy/ext/asyncio/session.py:454\u001b[0m, in \u001b[0;36mAsyncSession.execute\u001b[0;34m(self, statement, params, execution_options, bind_arguments, **kw)\u001b[0m\n\u001b[1;32m    451\u001b[0m \u001b[39melse\u001b[39;00m:\n\u001b[1;32m    452\u001b[0m     execution_options \u001b[39m=\u001b[39m _EXECUTE_OPTIONS\n\u001b[0;32m--> 454\u001b[0m result \u001b[39m=\u001b[39m \u001b[39mawait\u001b[39;00m greenlet_spawn(\n\u001b[1;32m    455\u001b[0m     \u001b[39mself\u001b[39m\u001b[39m.\u001b[39msync_session\u001b[39m.\u001b[39mexecute,\n\u001b[1;32m    456\u001b[0m     statement,\n\u001b[1;32m    457\u001b[0m     params\u001b[39m=\u001b[39mparams,\n\u001b[1;32m    458\u001b[0m     execution_options\u001b[39m=\u001b[39mexecution_options,\n\u001b[1;32m    459\u001b[0m     bind_arguments\u001b[39m=\u001b[39mbind_arguments,\n\u001b[1;32m    460\u001b[0m     \u001b[39m*\u001b[39m\u001b[39m*\u001b[39mkw,\n\u001b[1;32m    461\u001b[0m )\n\u001b[1;32m    462\u001b[0m \u001b[39mreturn\u001b[39;00m \u001b[39mawait\u001b[39;00m _ensure_sync_result(result, \u001b[39mself\u001b[39m\u001b[39m.\u001b[39mexecute)\n",
      "File \u001b[0;32m~/Projects/SQL-via-Alchemy/sqla/lib/python3.10/site-packages/sqlalchemy/util/_concurrency_py3k.py:190\u001b[0m, in \u001b[0;36mgreenlet_spawn\u001b[0;34m(fn, _require_await, *args, **kwargs)\u001b[0m\n\u001b[1;32m    185\u001b[0m     value \u001b[39m=\u001b[39m \u001b[39mawait\u001b[39;00m result\n\u001b[1;32m    186\u001b[0m \u001b[39mexcept\u001b[39;00m \u001b[39mBaseException\u001b[39;00m:\n\u001b[1;32m    187\u001b[0m     \u001b[39m# this allows an exception to be raised within\u001b[39;00m\n\u001b[1;32m    188\u001b[0m     \u001b[39m# the moderated greenlet so that it can continue\u001b[39;00m\n\u001b[1;32m    189\u001b[0m     \u001b[39m# its expected flow.\u001b[39;00m\n\u001b[0;32m--> 190\u001b[0m     result \u001b[39m=\u001b[39m context\u001b[39m.\u001b[39;49mthrow(\u001b[39m*\u001b[39;49msys\u001b[39m.\u001b[39;49mexc_info())\n\u001b[1;32m    191\u001b[0m \u001b[39melse\u001b[39;00m:\n\u001b[1;32m    192\u001b[0m     result \u001b[39m=\u001b[39m context\u001b[39m.\u001b[39mswitch(value)\n",
      "File \u001b[0;32m~/Projects/SQL-via-Alchemy/sqla/lib/python3.10/site-packages/sqlalchemy/orm/session.py:2306\u001b[0m, in \u001b[0;36mSession.execute\u001b[0;34m(self, statement, params, execution_options, bind_arguments, _parent_execute_state, _add_event)\u001b[0m\n\u001b[1;32m   2245\u001b[0m \u001b[39mdef\u001b[39;00m \u001b[39mexecute\u001b[39m(\n\u001b[1;32m   2246\u001b[0m     \u001b[39mself\u001b[39m,\n\u001b[1;32m   2247\u001b[0m     statement: Executable,\n\u001b[0;32m   (...)\u001b[0m\n\u001b[1;32m   2253\u001b[0m     _add_event: Optional[Any] \u001b[39m=\u001b[39m \u001b[39mNone\u001b[39;00m,\n\u001b[1;32m   2254\u001b[0m ) \u001b[39m-\u001b[39m\u001b[39m>\u001b[39m Result[Any]:\n\u001b[1;32m   2255\u001b[0m \u001b[39m    \u001b[39m\u001b[39mr\u001b[39m\u001b[39m\"\"\"Execute a SQL expression construct.\u001b[39;00m\n\u001b[1;32m   2256\u001b[0m \n\u001b[1;32m   2257\u001b[0m \u001b[39m    Returns a :class:`_engine.Result` object representing\u001b[39;00m\n\u001b[0;32m   (...)\u001b[0m\n\u001b[1;32m   2304\u001b[0m \n\u001b[1;32m   2305\u001b[0m \u001b[39m    \"\"\"\u001b[39;00m\n\u001b[0;32m-> 2306\u001b[0m     \u001b[39mreturn\u001b[39;00m \u001b[39mself\u001b[39;49m\u001b[39m.\u001b[39;49m_execute_internal(\n\u001b[1;32m   2307\u001b[0m         statement,\n\u001b[1;32m   2308\u001b[0m         params,\n\u001b[1;32m   2309\u001b[0m         execution_options\u001b[39m=\u001b[39;49mexecution_options,\n\u001b[1;32m   2310\u001b[0m         bind_arguments\u001b[39m=\u001b[39;49mbind_arguments,\n\u001b[1;32m   2311\u001b[0m         _parent_execute_state\u001b[39m=\u001b[39;49m_parent_execute_state,\n\u001b[1;32m   2312\u001b[0m         _add_event\u001b[39m=\u001b[39;49m_add_event,\n\u001b[1;32m   2313\u001b[0m     )\n",
      "File \u001b[0;32m~/Projects/SQL-via-Alchemy/sqla/lib/python3.10/site-packages/sqlalchemy/orm/session.py:2188\u001b[0m, in \u001b[0;36mSession._execute_internal\u001b[0;34m(self, statement, params, execution_options, bind_arguments, _parent_execute_state, _add_event, _scalar_result)\u001b[0m\n\u001b[1;32m   2183\u001b[0m     \u001b[39mreturn\u001b[39;00m conn\u001b[39m.\u001b[39mscalar(\n\u001b[1;32m   2184\u001b[0m         statement, params \u001b[39mor\u001b[39;00m {}, execution_options\u001b[39m=\u001b[39mexecution_options\n\u001b[1;32m   2185\u001b[0m     )\n\u001b[1;32m   2187\u001b[0m \u001b[39mif\u001b[39;00m compile_state_cls:\n\u001b[0;32m-> 2188\u001b[0m     result: Result[Any] \u001b[39m=\u001b[39m compile_state_cls\u001b[39m.\u001b[39;49morm_execute_statement(\n\u001b[1;32m   2189\u001b[0m         \u001b[39mself\u001b[39;49m,\n\u001b[1;32m   2190\u001b[0m         statement,\n\u001b[1;32m   2191\u001b[0m         params \u001b[39mor\u001b[39;49;00m {},\n\u001b[1;32m   2192\u001b[0m         execution_options,\n\u001b[1;32m   2193\u001b[0m         bind_arguments,\n\u001b[1;32m   2194\u001b[0m         conn,\n\u001b[1;32m   2195\u001b[0m     )\n\u001b[1;32m   2196\u001b[0m \u001b[39melse\u001b[39;00m:\n\u001b[1;32m   2197\u001b[0m     result \u001b[39m=\u001b[39m conn\u001b[39m.\u001b[39mexecute(\n\u001b[1;32m   2198\u001b[0m         statement, params \u001b[39mor\u001b[39;00m {}, execution_options\u001b[39m=\u001b[39mexecution_options\n\u001b[1;32m   2199\u001b[0m     )\n",
      "File \u001b[0;32m~/Projects/SQL-via-Alchemy/sqla/lib/python3.10/site-packages/sqlalchemy/orm/context.py:293\u001b[0m, in \u001b[0;36mAbstractORMCompileState.orm_execute_statement\u001b[0;34m(cls, session, statement, params, execution_options, bind_arguments, conn)\u001b[0m\n\u001b[1;32m    283\u001b[0m \u001b[39m@classmethod\u001b[39m\n\u001b[1;32m    284\u001b[0m \u001b[39mdef\u001b[39;00m \u001b[39morm_execute_statement\u001b[39m(\n\u001b[1;32m    285\u001b[0m     \u001b[39mcls\u001b[39m,\n\u001b[0;32m   (...)\u001b[0m\n\u001b[1;32m    291\u001b[0m     conn,\n\u001b[1;32m    292\u001b[0m ) \u001b[39m-\u001b[39m\u001b[39m>\u001b[39m Result:\n\u001b[0;32m--> 293\u001b[0m     result \u001b[39m=\u001b[39m conn\u001b[39m.\u001b[39;49mexecute(\n\u001b[1;32m    294\u001b[0m         statement, params \u001b[39mor\u001b[39;49;00m {}, execution_options\u001b[39m=\u001b[39;49mexecution_options\n\u001b[1;32m    295\u001b[0m     )\n\u001b[1;32m    296\u001b[0m     \u001b[39mreturn\u001b[39;00m \u001b[39mcls\u001b[39m\u001b[39m.\u001b[39morm_setup_cursor_result(\n\u001b[1;32m    297\u001b[0m         session,\n\u001b[1;32m    298\u001b[0m         statement,\n\u001b[0;32m   (...)\u001b[0m\n\u001b[1;32m    302\u001b[0m         result,\n\u001b[1;32m    303\u001b[0m     )\n",
      "File \u001b[0;32m~/Projects/SQL-via-Alchemy/sqla/lib/python3.10/site-packages/sqlalchemy/engine/base.py:1416\u001b[0m, in \u001b[0;36mConnection.execute\u001b[0;34m(self, statement, parameters, execution_options)\u001b[0m\n\u001b[1;32m   1414\u001b[0m     \u001b[39mraise\u001b[39;00m exc\u001b[39m.\u001b[39mObjectNotExecutableError(statement) \u001b[39mfrom\u001b[39;00m \u001b[39merr\u001b[39;00m\n\u001b[1;32m   1415\u001b[0m \u001b[39melse\u001b[39;00m:\n\u001b[0;32m-> 1416\u001b[0m     \u001b[39mreturn\u001b[39;00m meth(\n\u001b[1;32m   1417\u001b[0m         \u001b[39mself\u001b[39;49m,\n\u001b[1;32m   1418\u001b[0m         distilled_parameters,\n\u001b[1;32m   1419\u001b[0m         execution_options \u001b[39mor\u001b[39;49;00m NO_OPTIONS,\n\u001b[1;32m   1420\u001b[0m     )\n",
      "File \u001b[0;32m~/Projects/SQL-via-Alchemy/sqla/lib/python3.10/site-packages/sqlalchemy/sql/elements.py:516\u001b[0m, in \u001b[0;36mClauseElement._execute_on_connection\u001b[0;34m(self, connection, distilled_params, execution_options)\u001b[0m\n\u001b[1;32m    514\u001b[0m     \u001b[39mif\u001b[39;00m TYPE_CHECKING:\n\u001b[1;32m    515\u001b[0m         \u001b[39massert\u001b[39;00m \u001b[39misinstance\u001b[39m(\u001b[39mself\u001b[39m, Executable)\n\u001b[0;32m--> 516\u001b[0m     \u001b[39mreturn\u001b[39;00m connection\u001b[39m.\u001b[39;49m_execute_clauseelement(\n\u001b[1;32m    517\u001b[0m         \u001b[39mself\u001b[39;49m, distilled_params, execution_options\n\u001b[1;32m    518\u001b[0m     )\n\u001b[1;32m    519\u001b[0m \u001b[39melse\u001b[39;00m:\n\u001b[1;32m    520\u001b[0m     \u001b[39mraise\u001b[39;00m exc\u001b[39m.\u001b[39mObjectNotExecutableError(\u001b[39mself\u001b[39m)\n",
      "File \u001b[0;32m~/Projects/SQL-via-Alchemy/sqla/lib/python3.10/site-packages/sqlalchemy/engine/base.py:1639\u001b[0m, in \u001b[0;36mConnection._execute_clauseelement\u001b[0;34m(self, elem, distilled_parameters, execution_options)\u001b[0m\n\u001b[1;32m   1627\u001b[0m compiled_cache: Optional[CompiledCacheType] \u001b[39m=\u001b[39m execution_options\u001b[39m.\u001b[39mget(\n\u001b[1;32m   1628\u001b[0m     \u001b[39m\"\u001b[39m\u001b[39mcompiled_cache\u001b[39m\u001b[39m\"\u001b[39m, \u001b[39mself\u001b[39m\u001b[39m.\u001b[39mengine\u001b[39m.\u001b[39m_compiled_cache\n\u001b[1;32m   1629\u001b[0m )\n\u001b[1;32m   1631\u001b[0m compiled_sql, extracted_params, cache_hit \u001b[39m=\u001b[39m elem\u001b[39m.\u001b[39m_compile_w_cache(\n\u001b[1;32m   1632\u001b[0m     dialect\u001b[39m=\u001b[39mdialect,\n\u001b[1;32m   1633\u001b[0m     compiled_cache\u001b[39m=\u001b[39mcompiled_cache,\n\u001b[0;32m   (...)\u001b[0m\n\u001b[1;32m   1637\u001b[0m     linting\u001b[39m=\u001b[39m\u001b[39mself\u001b[39m\u001b[39m.\u001b[39mdialect\u001b[39m.\u001b[39mcompiler_linting \u001b[39m|\u001b[39m compiler\u001b[39m.\u001b[39mWARN_LINTING,\n\u001b[1;32m   1638\u001b[0m )\n\u001b[0;32m-> 1639\u001b[0m ret \u001b[39m=\u001b[39m \u001b[39mself\u001b[39;49m\u001b[39m.\u001b[39;49m_execute_context(\n\u001b[1;32m   1640\u001b[0m     dialect,\n\u001b[1;32m   1641\u001b[0m     dialect\u001b[39m.\u001b[39;49mexecution_ctx_cls\u001b[39m.\u001b[39;49m_init_compiled,\n\u001b[1;32m   1642\u001b[0m     compiled_sql,\n\u001b[1;32m   1643\u001b[0m     distilled_parameters,\n\u001b[1;32m   1644\u001b[0m     execution_options,\n\u001b[1;32m   1645\u001b[0m     compiled_sql,\n\u001b[1;32m   1646\u001b[0m     distilled_parameters,\n\u001b[1;32m   1647\u001b[0m     elem,\n\u001b[1;32m   1648\u001b[0m     extracted_params,\n\u001b[1;32m   1649\u001b[0m     cache_hit\u001b[39m=\u001b[39;49mcache_hit,\n\u001b[1;32m   1650\u001b[0m )\n\u001b[1;32m   1651\u001b[0m \u001b[39mif\u001b[39;00m has_events:\n\u001b[1;32m   1652\u001b[0m     \u001b[39mself\u001b[39m\u001b[39m.\u001b[39mdispatch\u001b[39m.\u001b[39mafter_execute(\n\u001b[1;32m   1653\u001b[0m         \u001b[39mself\u001b[39m,\n\u001b[1;32m   1654\u001b[0m         elem,\n\u001b[0;32m   (...)\u001b[0m\n\u001b[1;32m   1658\u001b[0m         ret,\n\u001b[1;32m   1659\u001b[0m     )\n",
      "File \u001b[0;32m~/Projects/SQL-via-Alchemy/sqla/lib/python3.10/site-packages/sqlalchemy/engine/base.py:1848\u001b[0m, in \u001b[0;36mConnection._execute_context\u001b[0;34m(self, dialect, constructor, statement, parameters, execution_options, *args, **kw)\u001b[0m\n\u001b[1;32m   1843\u001b[0m     \u001b[39mreturn\u001b[39;00m \u001b[39mself\u001b[39m\u001b[39m.\u001b[39m_exec_insertmany_context(\n\u001b[1;32m   1844\u001b[0m         dialect,\n\u001b[1;32m   1845\u001b[0m         context,\n\u001b[1;32m   1846\u001b[0m     )\n\u001b[1;32m   1847\u001b[0m \u001b[39melse\u001b[39;00m:\n\u001b[0;32m-> 1848\u001b[0m     \u001b[39mreturn\u001b[39;00m \u001b[39mself\u001b[39;49m\u001b[39m.\u001b[39;49m_exec_single_context(\n\u001b[1;32m   1849\u001b[0m         dialect, context, statement, parameters\n\u001b[1;32m   1850\u001b[0m     )\n",
      "File \u001b[0;32m~/Projects/SQL-via-Alchemy/sqla/lib/python3.10/site-packages/sqlalchemy/engine/base.py:1988\u001b[0m, in \u001b[0;36mConnection._exec_single_context\u001b[0;34m(self, dialect, context, statement, parameters)\u001b[0m\n\u001b[1;32m   1985\u001b[0m     result \u001b[39m=\u001b[39m context\u001b[39m.\u001b[39m_setup_result_proxy()\n\u001b[1;32m   1987\u001b[0m \u001b[39mexcept\u001b[39;00m \u001b[39mBaseException\u001b[39;00m \u001b[39mas\u001b[39;00m e:\n\u001b[0;32m-> 1988\u001b[0m     \u001b[39mself\u001b[39;49m\u001b[39m.\u001b[39;49m_handle_dbapi_exception(\n\u001b[1;32m   1989\u001b[0m         e, str_statement, effective_parameters, cursor, context\n\u001b[1;32m   1990\u001b[0m     )\n\u001b[1;32m   1992\u001b[0m \u001b[39mreturn\u001b[39;00m result\n",
      "File \u001b[0;32m~/Projects/SQL-via-Alchemy/sqla/lib/python3.10/site-packages/sqlalchemy/engine/base.py:2343\u001b[0m, in \u001b[0;36mConnection._handle_dbapi_exception\u001b[0;34m(self, e, statement, parameters, cursor, context, is_sub_exec)\u001b[0m\n\u001b[1;32m   2341\u001b[0m \u001b[39melif\u001b[39;00m should_wrap:\n\u001b[1;32m   2342\u001b[0m     \u001b[39massert\u001b[39;00m sqlalchemy_exception \u001b[39mis\u001b[39;00m \u001b[39mnot\u001b[39;00m \u001b[39mNone\u001b[39;00m\n\u001b[0;32m-> 2343\u001b[0m     \u001b[39mraise\u001b[39;00m sqlalchemy_exception\u001b[39m.\u001b[39mwith_traceback(exc_info[\u001b[39m2\u001b[39m]) \u001b[39mfrom\u001b[39;00m \u001b[39me\u001b[39;00m\n\u001b[1;32m   2344\u001b[0m \u001b[39melse\u001b[39;00m:\n\u001b[1;32m   2345\u001b[0m     \u001b[39massert\u001b[39;00m exc_info[\u001b[39m1\u001b[39m] \u001b[39mis\u001b[39;00m \u001b[39mnot\u001b[39;00m \u001b[39mNone\u001b[39;00m\n",
      "File \u001b[0;32m~/Projects/SQL-via-Alchemy/sqla/lib/python3.10/site-packages/sqlalchemy/engine/base.py:1969\u001b[0m, in \u001b[0;36mConnection._exec_single_context\u001b[0;34m(self, dialect, context, statement, parameters)\u001b[0m\n\u001b[1;32m   1967\u001b[0m                 \u001b[39mbreak\u001b[39;00m\n\u001b[1;32m   1968\u001b[0m     \u001b[39mif\u001b[39;00m \u001b[39mnot\u001b[39;00m evt_handled:\n\u001b[0;32m-> 1969\u001b[0m         \u001b[39mself\u001b[39;49m\u001b[39m.\u001b[39;49mdialect\u001b[39m.\u001b[39;49mdo_execute(\n\u001b[1;32m   1970\u001b[0m             cursor, str_statement, effective_parameters, context\n\u001b[1;32m   1971\u001b[0m         )\n\u001b[1;32m   1973\u001b[0m \u001b[39mif\u001b[39;00m \u001b[39mself\u001b[39m\u001b[39m.\u001b[39m_has_events \u001b[39mor\u001b[39;00m \u001b[39mself\u001b[39m\u001b[39m.\u001b[39mengine\u001b[39m.\u001b[39m_has_events:\n\u001b[1;32m   1974\u001b[0m     \u001b[39mself\u001b[39m\u001b[39m.\u001b[39mdispatch\u001b[39m.\u001b[39mafter_cursor_execute(\n\u001b[1;32m   1975\u001b[0m         \u001b[39mself\u001b[39m,\n\u001b[1;32m   1976\u001b[0m         cursor,\n\u001b[0;32m   (...)\u001b[0m\n\u001b[1;32m   1980\u001b[0m         context\u001b[39m.\u001b[39mexecutemany,\n\u001b[1;32m   1981\u001b[0m     )\n",
      "File \u001b[0;32m~/Projects/SQL-via-Alchemy/sqla/lib/python3.10/site-packages/sqlalchemy/engine/default.py:922\u001b[0m, in \u001b[0;36mDefaultDialect.do_execute\u001b[0;34m(self, cursor, statement, parameters, context)\u001b[0m\n\u001b[1;32m    921\u001b[0m \u001b[39mdef\u001b[39;00m \u001b[39mdo_execute\u001b[39m(\u001b[39mself\u001b[39m, cursor, statement, parameters, context\u001b[39m=\u001b[39m\u001b[39mNone\u001b[39;00m):\n\u001b[0;32m--> 922\u001b[0m     cursor\u001b[39m.\u001b[39;49mexecute(statement, parameters)\n",
      "File \u001b[0;32m~/Projects/SQL-via-Alchemy/sqla/lib/python3.10/site-packages/sqlalchemy/dialects/sqlite/aiosqlite.py:113\u001b[0m, in \u001b[0;36mAsyncAdapt_aiosqlite_cursor.execute\u001b[0;34m(self, operation, parameters)\u001b[0m\n\u001b[1;32m    111\u001b[0m         \u001b[39mself\u001b[39m\u001b[39m.\u001b[39m_cursor \u001b[39m=\u001b[39m _cursor\n\u001b[1;32m    112\u001b[0m \u001b[39mexcept\u001b[39;00m \u001b[39mException\u001b[39;00m \u001b[39mas\u001b[39;00m error:\n\u001b[0;32m--> 113\u001b[0m     \u001b[39mself\u001b[39;49m\u001b[39m.\u001b[39;49m_adapt_connection\u001b[39m.\u001b[39;49m_handle_exception(error)\n",
      "File \u001b[0;32m~/Projects/SQL-via-Alchemy/sqla/lib/python3.10/site-packages/sqlalchemy/dialects/sqlite/aiosqlite.py:263\u001b[0m, in \u001b[0;36mAsyncAdapt_aiosqlite_connection._handle_exception\u001b[0;34m(self, error)\u001b[0m\n\u001b[1;32m    259\u001b[0m     \u001b[39mraise\u001b[39;00m \u001b[39mself\u001b[39m\u001b[39m.\u001b[39mdbapi\u001b[39m.\u001b[39msqlite\u001b[39m.\u001b[39mOperationalError(\n\u001b[1;32m    260\u001b[0m         \u001b[39m\"\u001b[39m\u001b[39mno active connection\u001b[39m\u001b[39m\"\u001b[39m\n\u001b[1;32m    261\u001b[0m     ) \u001b[39mfrom\u001b[39;00m \u001b[39merror\u001b[39;00m\n\u001b[1;32m    262\u001b[0m \u001b[39melse\u001b[39;00m:\n\u001b[0;32m--> 263\u001b[0m     \u001b[39mraise\u001b[39;00m error\n",
      "File \u001b[0;32m~/Projects/SQL-via-Alchemy/sqla/lib/python3.10/site-packages/sqlalchemy/dialects/sqlite/aiosqlite.py:95\u001b[0m, in \u001b[0;36mAsyncAdapt_aiosqlite_cursor.execute\u001b[0;34m(self, operation, parameters)\u001b[0m\n\u001b[1;32m     93\u001b[0m     \u001b[39mself\u001b[39m\u001b[39m.\u001b[39mawait_(_cursor\u001b[39m.\u001b[39mexecute(operation))\n\u001b[1;32m     94\u001b[0m \u001b[39melse\u001b[39;00m:\n\u001b[0;32m---> 95\u001b[0m     \u001b[39mself\u001b[39;49m\u001b[39m.\u001b[39;49mawait_(_cursor\u001b[39m.\u001b[39;49mexecute(operation, parameters))\n\u001b[1;32m     97\u001b[0m \u001b[39mif\u001b[39;00m _cursor\u001b[39m.\u001b[39mdescription:\n\u001b[1;32m     98\u001b[0m     \u001b[39mself\u001b[39m\u001b[39m.\u001b[39mdescription \u001b[39m=\u001b[39m _cursor\u001b[39m.\u001b[39mdescription\n",
      "File \u001b[0;32m~/Projects/SQL-via-Alchemy/sqla/lib/python3.10/site-packages/sqlalchemy/util/_concurrency_py3k.py:125\u001b[0m, in \u001b[0;36mawait_only\u001b[0;34m(awaitable)\u001b[0m\n\u001b[1;32m    116\u001b[0m     \u001b[39mraise\u001b[39;00m exc\u001b[39m.\u001b[39mMissingGreenlet(\n\u001b[1;32m    117\u001b[0m         \u001b[39m\"\u001b[39m\u001b[39mgreenlet_spawn has not been called; can\u001b[39m\u001b[39m'\u001b[39m\u001b[39mt call await_only() \u001b[39m\u001b[39m\"\u001b[39m\n\u001b[1;32m    118\u001b[0m         \u001b[39m\"\u001b[39m\u001b[39mhere. Was IO attempted in an unexpected place?\u001b[39m\u001b[39m\"\u001b[39m\n\u001b[1;32m    119\u001b[0m     )\n\u001b[1;32m    121\u001b[0m \u001b[39m# returns the control to the driver greenlet passing it\u001b[39;00m\n\u001b[1;32m    122\u001b[0m \u001b[39m# a coroutine to run. Once the awaitable is done, the driver greenlet\u001b[39;00m\n\u001b[1;32m    123\u001b[0m \u001b[39m# switches back to this greenlet with the result of awaitable that is\u001b[39;00m\n\u001b[1;32m    124\u001b[0m \u001b[39m# then returned to the caller (or raised as error)\u001b[39;00m\n\u001b[0;32m--> 125\u001b[0m \u001b[39mreturn\u001b[39;00m current\u001b[39m.\u001b[39;49mdriver\u001b[39m.\u001b[39;49mswitch(awaitable)\n",
      "File \u001b[0;32m~/Projects/SQL-via-Alchemy/sqla/lib/python3.10/site-packages/sqlalchemy/util/_concurrency_py3k.py:185\u001b[0m, in \u001b[0;36mgreenlet_spawn\u001b[0;34m(fn, _require_await, *args, **kwargs)\u001b[0m\n\u001b[1;32m    181\u001b[0m switch_occurred \u001b[39m=\u001b[39m \u001b[39mTrue\u001b[39;00m\n\u001b[1;32m    182\u001b[0m \u001b[39mtry\u001b[39;00m:\n\u001b[1;32m    183\u001b[0m     \u001b[39m# wait for a coroutine from await_only and then return its\u001b[39;00m\n\u001b[1;32m    184\u001b[0m     \u001b[39m# result back to it.\u001b[39;00m\n\u001b[0;32m--> 185\u001b[0m     value \u001b[39m=\u001b[39m \u001b[39mawait\u001b[39;00m result\n\u001b[1;32m    186\u001b[0m \u001b[39mexcept\u001b[39;00m \u001b[39mBaseException\u001b[39;00m:\n\u001b[1;32m    187\u001b[0m     \u001b[39m# this allows an exception to be raised within\u001b[39;00m\n\u001b[1;32m    188\u001b[0m     \u001b[39m# the moderated greenlet so that it can continue\u001b[39;00m\n\u001b[1;32m    189\u001b[0m     \u001b[39m# its expected flow.\u001b[39;00m\n\u001b[1;32m    190\u001b[0m     result \u001b[39m=\u001b[39m context\u001b[39m.\u001b[39mthrow(\u001b[39m*\u001b[39msys\u001b[39m.\u001b[39mexc_info())\n",
      "File \u001b[0;32m~/Projects/SQL-via-Alchemy/sqla/lib/python3.10/site-packages/aiosqlite/cursor.py:48\u001b[0m, in \u001b[0;36mCursor.execute\u001b[0;34m(self, sql, parameters)\u001b[0m\n\u001b[1;32m     46\u001b[0m \u001b[39mif\u001b[39;00m parameters \u001b[39mis\u001b[39;00m \u001b[39mNone\u001b[39;00m:\n\u001b[1;32m     47\u001b[0m     parameters \u001b[39m=\u001b[39m []\n\u001b[0;32m---> 48\u001b[0m \u001b[39mawait\u001b[39;00m \u001b[39mself\u001b[39m\u001b[39m.\u001b[39m_execute(\u001b[39mself\u001b[39m\u001b[39m.\u001b[39m_cursor\u001b[39m.\u001b[39mexecute, sql, parameters)\n\u001b[1;32m     49\u001b[0m \u001b[39mreturn\u001b[39;00m \u001b[39mself\u001b[39m\n",
      "File \u001b[0;32m~/Projects/SQL-via-Alchemy/sqla/lib/python3.10/site-packages/aiosqlite/cursor.py:40\u001b[0m, in \u001b[0;36mCursor._execute\u001b[0;34m(self, fn, *args, **kwargs)\u001b[0m\n\u001b[1;32m     38\u001b[0m \u001b[39masync\u001b[39;00m \u001b[39mdef\u001b[39;00m \u001b[39m_execute\u001b[39m(\u001b[39mself\u001b[39m, fn, \u001b[39m*\u001b[39margs, \u001b[39m*\u001b[39m\u001b[39m*\u001b[39mkwargs):\n\u001b[1;32m     39\u001b[0m \u001b[39m    \u001b[39m\u001b[39m\"\"\"Execute the given function on the shared connection's thread.\"\"\"\u001b[39;00m\n\u001b[0;32m---> 40\u001b[0m     \u001b[39mreturn\u001b[39;00m \u001b[39mawait\u001b[39;00m \u001b[39mself\u001b[39m\u001b[39m.\u001b[39m_conn\u001b[39m.\u001b[39m_execute(fn, \u001b[39m*\u001b[39margs, \u001b[39m*\u001b[39m\u001b[39m*\u001b[39mkwargs)\n",
      "File \u001b[0;32m~/Projects/SQL-via-Alchemy/sqla/lib/python3.10/site-packages/aiosqlite/core.py:133\u001b[0m, in \u001b[0;36mConnection._execute\u001b[0;34m(self, fn, *args, **kwargs)\u001b[0m\n\u001b[1;32m    129\u001b[0m future \u001b[39m=\u001b[39m asyncio\u001b[39m.\u001b[39mget_event_loop()\u001b[39m.\u001b[39mcreate_future()\n\u001b[1;32m    131\u001b[0m \u001b[39mself\u001b[39m\u001b[39m.\u001b[39m_tx\u001b[39m.\u001b[39mput_nowait((future, function))\n\u001b[0;32m--> 133\u001b[0m \u001b[39mreturn\u001b[39;00m \u001b[39mawait\u001b[39;00m future\n",
      "File \u001b[0;32m~/Projects/SQL-via-Alchemy/sqla/lib/python3.10/site-packages/aiosqlite/core.py:106\u001b[0m, in \u001b[0;36mConnection.run\u001b[0;34m(self)\u001b[0m\n\u001b[1;32m    104\u001b[0m \u001b[39mtry\u001b[39;00m:\n\u001b[1;32m    105\u001b[0m     LOG\u001b[39m.\u001b[39mdebug(\u001b[39m\"\u001b[39m\u001b[39mexecuting \u001b[39m\u001b[39m%s\u001b[39;00m\u001b[39m\"\u001b[39m, function)\n\u001b[0;32m--> 106\u001b[0m     result \u001b[39m=\u001b[39m function()\n\u001b[1;32m    107\u001b[0m     LOG\u001b[39m.\u001b[39mdebug(\u001b[39m\"\u001b[39m\u001b[39moperation \u001b[39m\u001b[39m%s\u001b[39;00m\u001b[39m completed\u001b[39m\u001b[39m\"\u001b[39m, function)\n\u001b[1;32m    109\u001b[0m     \u001b[39mdef\u001b[39;00m \u001b[39mset_result\u001b[39m(fut, result):\n",
      "\u001b[0;31mOperationalError\u001b[0m: (sqlite3.OperationalError) no such table: tmp\n[SQL: SELECT tmp.id, tmp.first_name, tmp.last_name \nFROM tmp]\n(Background on this error at: https://sqlalche.me/e/20/e3q8)"
     ]
    }
   ],
   "source": [
    "async_session = async_sqla.async_sessionmaker(async_engine)\n",
    "async with async_session() as session:\n",
    "    result = await session.execute(sqla.select(Tmp))\n",
    "    for row in result.scalars():\n",
    "        print(row)"
   ]
  },
  {
   "cell_type": "markdown",
   "metadata": {},
   "source": [
    "But you can't just reassign it with a new name because metadata are obsolete because the mapping got corrupted."
   ]
  },
  {
   "cell_type": "code",
   "execution_count": 23,
   "metadata": {},
   "outputs": [
    {
     "name": "stdout",
     "output_type": "stream",
     "text": [
      "2023-11-19 22:09:02,655 INFO sqlalchemy.engine.Engine BEGIN (implicit)\n",
      "2023-11-19 22:09:02,658 INFO sqlalchemy.engine.Engine SELECT tmp.id, tmp.first_name, tmp.last_name \n",
      "FROM tmp\n",
      "2023-11-19 22:09:02,659 INFO sqlalchemy.engine.Engine [cached since 47.29s ago] ()\n",
      "2023-11-19 22:09:02,662 INFO sqlalchemy.engine.Engine ROLLBACK\n"
     ]
    },
    {
     "ename": "OperationalError",
     "evalue": "(sqlite3.OperationalError) no such table: tmp\n[SQL: SELECT tmp.id, tmp.first_name, tmp.last_name \nFROM tmp]\n(Background on this error at: https://sqlalche.me/e/20/e3q8)",
     "output_type": "error",
     "traceback": [
      "\u001b[0;31m---------------------------------------------------------------------------\u001b[0m",
      "\u001b[0;31mOperationalError\u001b[0m                          Traceback (most recent call last)",
      "File \u001b[0;32m~/Projects/SQL-via-Alchemy/sqla/lib/python3.10/site-packages/sqlalchemy/engine/base.py:1969\u001b[0m, in \u001b[0;36mConnection._exec_single_context\u001b[0;34m(self, dialect, context, statement, parameters)\u001b[0m\n\u001b[1;32m   1968\u001b[0m     \u001b[39mif\u001b[39;00m \u001b[39mnot\u001b[39;00m evt_handled:\n\u001b[0;32m-> 1969\u001b[0m         \u001b[39mself\u001b[39;49m\u001b[39m.\u001b[39;49mdialect\u001b[39m.\u001b[39;49mdo_execute(\n\u001b[1;32m   1970\u001b[0m             cursor, str_statement, effective_parameters, context\n\u001b[1;32m   1971\u001b[0m         )\n\u001b[1;32m   1973\u001b[0m \u001b[39mif\u001b[39;00m \u001b[39mself\u001b[39m\u001b[39m.\u001b[39m_has_events \u001b[39mor\u001b[39;00m \u001b[39mself\u001b[39m\u001b[39m.\u001b[39mengine\u001b[39m.\u001b[39m_has_events:\n",
      "File \u001b[0;32m~/Projects/SQL-via-Alchemy/sqla/lib/python3.10/site-packages/sqlalchemy/engine/default.py:922\u001b[0m, in \u001b[0;36mDefaultDialect.do_execute\u001b[0;34m(self, cursor, statement, parameters, context)\u001b[0m\n\u001b[1;32m    921\u001b[0m \u001b[39mdef\u001b[39;00m \u001b[39mdo_execute\u001b[39m(\u001b[39mself\u001b[39m, cursor, statement, parameters, context\u001b[39m=\u001b[39m\u001b[39mNone\u001b[39;00m):\n\u001b[0;32m--> 922\u001b[0m     cursor\u001b[39m.\u001b[39;49mexecute(statement, parameters)\n",
      "File \u001b[0;32m~/Projects/SQL-via-Alchemy/sqla/lib/python3.10/site-packages/sqlalchemy/dialects/sqlite/aiosqlite.py:113\u001b[0m, in \u001b[0;36mAsyncAdapt_aiosqlite_cursor.execute\u001b[0;34m(self, operation, parameters)\u001b[0m\n\u001b[1;32m    112\u001b[0m \u001b[39mexcept\u001b[39;00m \u001b[39mException\u001b[39;00m \u001b[39mas\u001b[39;00m error:\n\u001b[0;32m--> 113\u001b[0m     \u001b[39mself\u001b[39;49m\u001b[39m.\u001b[39;49m_adapt_connection\u001b[39m.\u001b[39;49m_handle_exception(error)\n",
      "File \u001b[0;32m~/Projects/SQL-via-Alchemy/sqla/lib/python3.10/site-packages/sqlalchemy/dialects/sqlite/aiosqlite.py:263\u001b[0m, in \u001b[0;36mAsyncAdapt_aiosqlite_connection._handle_exception\u001b[0;34m(self, error)\u001b[0m\n\u001b[1;32m    262\u001b[0m \u001b[39melse\u001b[39;00m:\n\u001b[0;32m--> 263\u001b[0m     \u001b[39mraise\u001b[39;00m error\n",
      "File \u001b[0;32m~/Projects/SQL-via-Alchemy/sqla/lib/python3.10/site-packages/sqlalchemy/dialects/sqlite/aiosqlite.py:95\u001b[0m, in \u001b[0;36mAsyncAdapt_aiosqlite_cursor.execute\u001b[0;34m(self, operation, parameters)\u001b[0m\n\u001b[1;32m     94\u001b[0m \u001b[39melse\u001b[39;00m:\n\u001b[0;32m---> 95\u001b[0m     \u001b[39mself\u001b[39;49m\u001b[39m.\u001b[39;49mawait_(_cursor\u001b[39m.\u001b[39;49mexecute(operation, parameters))\n\u001b[1;32m     97\u001b[0m \u001b[39mif\u001b[39;00m _cursor\u001b[39m.\u001b[39mdescription:\n",
      "File \u001b[0;32m~/Projects/SQL-via-Alchemy/sqla/lib/python3.10/site-packages/sqlalchemy/util/_concurrency_py3k.py:125\u001b[0m, in \u001b[0;36mawait_only\u001b[0;34m(awaitable)\u001b[0m\n\u001b[1;32m    121\u001b[0m \u001b[39m# returns the control to the driver greenlet passing it\u001b[39;00m\n\u001b[1;32m    122\u001b[0m \u001b[39m# a coroutine to run. Once the awaitable is done, the driver greenlet\u001b[39;00m\n\u001b[1;32m    123\u001b[0m \u001b[39m# switches back to this greenlet with the result of awaitable that is\u001b[39;00m\n\u001b[1;32m    124\u001b[0m \u001b[39m# then returned to the caller (or raised as error)\u001b[39;00m\n\u001b[0;32m--> 125\u001b[0m \u001b[39mreturn\u001b[39;00m current\u001b[39m.\u001b[39;49mdriver\u001b[39m.\u001b[39;49mswitch(awaitable)\n",
      "File \u001b[0;32m~/Projects/SQL-via-Alchemy/sqla/lib/python3.10/site-packages/sqlalchemy/util/_concurrency_py3k.py:185\u001b[0m, in \u001b[0;36mgreenlet_spawn\u001b[0;34m(fn, _require_await, *args, **kwargs)\u001b[0m\n\u001b[1;32m    182\u001b[0m \u001b[39mtry\u001b[39;00m:\n\u001b[1;32m    183\u001b[0m     \u001b[39m# wait for a coroutine from await_only and then return its\u001b[39;00m\n\u001b[1;32m    184\u001b[0m     \u001b[39m# result back to it.\u001b[39;00m\n\u001b[0;32m--> 185\u001b[0m     value \u001b[39m=\u001b[39m \u001b[39mawait\u001b[39;00m result\n\u001b[1;32m    186\u001b[0m \u001b[39mexcept\u001b[39;00m \u001b[39mBaseException\u001b[39;00m:\n\u001b[1;32m    187\u001b[0m     \u001b[39m# this allows an exception to be raised within\u001b[39;00m\n\u001b[1;32m    188\u001b[0m     \u001b[39m# the moderated greenlet so that it can continue\u001b[39;00m\n\u001b[1;32m    189\u001b[0m     \u001b[39m# its expected flow.\u001b[39;00m\n",
      "File \u001b[0;32m~/Projects/SQL-via-Alchemy/sqla/lib/python3.10/site-packages/aiosqlite/cursor.py:48\u001b[0m, in \u001b[0;36mCursor.execute\u001b[0;34m(self, sql, parameters)\u001b[0m\n\u001b[1;32m     47\u001b[0m     parameters \u001b[39m=\u001b[39m []\n\u001b[0;32m---> 48\u001b[0m \u001b[39mawait\u001b[39;00m \u001b[39mself\u001b[39m\u001b[39m.\u001b[39m_execute(\u001b[39mself\u001b[39m\u001b[39m.\u001b[39m_cursor\u001b[39m.\u001b[39mexecute, sql, parameters)\n\u001b[1;32m     49\u001b[0m \u001b[39mreturn\u001b[39;00m \u001b[39mself\u001b[39m\n",
      "File \u001b[0;32m~/Projects/SQL-via-Alchemy/sqla/lib/python3.10/site-packages/aiosqlite/cursor.py:40\u001b[0m, in \u001b[0;36mCursor._execute\u001b[0;34m(self, fn, *args, **kwargs)\u001b[0m\n\u001b[1;32m     39\u001b[0m \u001b[39m\u001b[39m\u001b[39m\"\"\"Execute the given function on the shared connection's thread.\"\"\"\u001b[39;00m\n\u001b[0;32m---> 40\u001b[0m \u001b[39mreturn\u001b[39;00m \u001b[39mawait\u001b[39;00m \u001b[39mself\u001b[39m\u001b[39m.\u001b[39m_conn\u001b[39m.\u001b[39m_execute(fn, \u001b[39m*\u001b[39margs, \u001b[39m*\u001b[39m\u001b[39m*\u001b[39mkwargs)\n",
      "File \u001b[0;32m~/Projects/SQL-via-Alchemy/sqla/lib/python3.10/site-packages/aiosqlite/core.py:133\u001b[0m, in \u001b[0;36mConnection._execute\u001b[0;34m(self, fn, *args, **kwargs)\u001b[0m\n\u001b[1;32m    131\u001b[0m \u001b[39mself\u001b[39m\u001b[39m.\u001b[39m_tx\u001b[39m.\u001b[39mput_nowait((future, function))\n\u001b[0;32m--> 133\u001b[0m \u001b[39mreturn\u001b[39;00m \u001b[39mawait\u001b[39;00m future\n",
      "File \u001b[0;32m~/Projects/SQL-via-Alchemy/sqla/lib/python3.10/site-packages/aiosqlite/core.py:106\u001b[0m, in \u001b[0;36mConnection.run\u001b[0;34m(self)\u001b[0m\n\u001b[1;32m    105\u001b[0m LOG\u001b[39m.\u001b[39mdebug(\u001b[39m\"\u001b[39m\u001b[39mexecuting \u001b[39m\u001b[39m%s\u001b[39;00m\u001b[39m\"\u001b[39m, function)\n\u001b[0;32m--> 106\u001b[0m result \u001b[39m=\u001b[39m function()\n\u001b[1;32m    107\u001b[0m LOG\u001b[39m.\u001b[39mdebug(\u001b[39m\"\u001b[39m\u001b[39moperation \u001b[39m\u001b[39m%s\u001b[39;00m\u001b[39m completed\u001b[39m\u001b[39m\"\u001b[39m, function)\n",
      "\u001b[0;31mOperationalError\u001b[0m: no such table: tmp",
      "\nThe above exception was the direct cause of the following exception:\n",
      "\u001b[0;31mOperationalError\u001b[0m                          Traceback (most recent call last)",
      "\u001b[1;32m/home/stankudrow/Projects/SQL-via-Alchemy/tutorial/01_table_primer/01_table_primer.ipynb Cell 47\u001b[0m line \u001b[0;36m5\n\u001b[1;32m      <a href='vscode-notebook-cell:/home/stankudrow/Projects/SQL-via-Alchemy/tutorial/01_table_primer/01_table_primer.ipynb#X64sZmlsZQ%3D%3D?line=2'>3</a>\u001b[0m async_session \u001b[39m=\u001b[39m async_sqla\u001b[39m.\u001b[39masync_sessionmaker(async_engine)\n\u001b[1;32m      <a href='vscode-notebook-cell:/home/stankudrow/Projects/SQL-via-Alchemy/tutorial/01_table_primer/01_table_primer.ipynb#X64sZmlsZQ%3D%3D?line=3'>4</a>\u001b[0m \u001b[39masync\u001b[39;00m \u001b[39mwith\u001b[39;00m async_session() \u001b[39mas\u001b[39;00m session:\n\u001b[0;32m----> <a href='vscode-notebook-cell:/home/stankudrow/Projects/SQL-via-Alchemy/tutorial/01_table_primer/01_table_primer.ipynb#X64sZmlsZQ%3D%3D?line=4'>5</a>\u001b[0m     result \u001b[39m=\u001b[39m \u001b[39mawait\u001b[39;00m session\u001b[39m.\u001b[39mexecute(sqla\u001b[39m.\u001b[39mselect(Tmp))\n\u001b[1;32m      <a href='vscode-notebook-cell:/home/stankudrow/Projects/SQL-via-Alchemy/tutorial/01_table_primer/01_table_primer.ipynb#X64sZmlsZQ%3D%3D?line=5'>6</a>\u001b[0m     \u001b[39mfor\u001b[39;00m row \u001b[39min\u001b[39;00m result\u001b[39m.\u001b[39mscalars():\n\u001b[1;32m      <a href='vscode-notebook-cell:/home/stankudrow/Projects/SQL-via-Alchemy/tutorial/01_table_primer/01_table_primer.ipynb#X64sZmlsZQ%3D%3D?line=6'>7</a>\u001b[0m         \u001b[39mprint\u001b[39m(row)\n",
      "File \u001b[0;32m~/Projects/SQL-via-Alchemy/sqla/lib/python3.10/site-packages/sqlalchemy/ext/asyncio/session.py:454\u001b[0m, in \u001b[0;36mAsyncSession.execute\u001b[0;34m(self, statement, params, execution_options, bind_arguments, **kw)\u001b[0m\n\u001b[1;32m    451\u001b[0m \u001b[39melse\u001b[39;00m:\n\u001b[1;32m    452\u001b[0m     execution_options \u001b[39m=\u001b[39m _EXECUTE_OPTIONS\n\u001b[0;32m--> 454\u001b[0m result \u001b[39m=\u001b[39m \u001b[39mawait\u001b[39;00m greenlet_spawn(\n\u001b[1;32m    455\u001b[0m     \u001b[39mself\u001b[39m\u001b[39m.\u001b[39msync_session\u001b[39m.\u001b[39mexecute,\n\u001b[1;32m    456\u001b[0m     statement,\n\u001b[1;32m    457\u001b[0m     params\u001b[39m=\u001b[39mparams,\n\u001b[1;32m    458\u001b[0m     execution_options\u001b[39m=\u001b[39mexecution_options,\n\u001b[1;32m    459\u001b[0m     bind_arguments\u001b[39m=\u001b[39mbind_arguments,\n\u001b[1;32m    460\u001b[0m     \u001b[39m*\u001b[39m\u001b[39m*\u001b[39mkw,\n\u001b[1;32m    461\u001b[0m )\n\u001b[1;32m    462\u001b[0m \u001b[39mreturn\u001b[39;00m \u001b[39mawait\u001b[39;00m _ensure_sync_result(result, \u001b[39mself\u001b[39m\u001b[39m.\u001b[39mexecute)\n",
      "File \u001b[0;32m~/Projects/SQL-via-Alchemy/sqla/lib/python3.10/site-packages/sqlalchemy/util/_concurrency_py3k.py:190\u001b[0m, in \u001b[0;36mgreenlet_spawn\u001b[0;34m(fn, _require_await, *args, **kwargs)\u001b[0m\n\u001b[1;32m    185\u001b[0m     value \u001b[39m=\u001b[39m \u001b[39mawait\u001b[39;00m result\n\u001b[1;32m    186\u001b[0m \u001b[39mexcept\u001b[39;00m \u001b[39mBaseException\u001b[39;00m:\n\u001b[1;32m    187\u001b[0m     \u001b[39m# this allows an exception to be raised within\u001b[39;00m\n\u001b[1;32m    188\u001b[0m     \u001b[39m# the moderated greenlet so that it can continue\u001b[39;00m\n\u001b[1;32m    189\u001b[0m     \u001b[39m# its expected flow.\u001b[39;00m\n\u001b[0;32m--> 190\u001b[0m     result \u001b[39m=\u001b[39m context\u001b[39m.\u001b[39;49mthrow(\u001b[39m*\u001b[39;49msys\u001b[39m.\u001b[39;49mexc_info())\n\u001b[1;32m    191\u001b[0m \u001b[39melse\u001b[39;00m:\n\u001b[1;32m    192\u001b[0m     result \u001b[39m=\u001b[39m context\u001b[39m.\u001b[39mswitch(value)\n",
      "File \u001b[0;32m~/Projects/SQL-via-Alchemy/sqla/lib/python3.10/site-packages/sqlalchemy/orm/session.py:2306\u001b[0m, in \u001b[0;36mSession.execute\u001b[0;34m(self, statement, params, execution_options, bind_arguments, _parent_execute_state, _add_event)\u001b[0m\n\u001b[1;32m   2245\u001b[0m \u001b[39mdef\u001b[39;00m \u001b[39mexecute\u001b[39m(\n\u001b[1;32m   2246\u001b[0m     \u001b[39mself\u001b[39m,\n\u001b[1;32m   2247\u001b[0m     statement: Executable,\n\u001b[0;32m   (...)\u001b[0m\n\u001b[1;32m   2253\u001b[0m     _add_event: Optional[Any] \u001b[39m=\u001b[39m \u001b[39mNone\u001b[39;00m,\n\u001b[1;32m   2254\u001b[0m ) \u001b[39m-\u001b[39m\u001b[39m>\u001b[39m Result[Any]:\n\u001b[1;32m   2255\u001b[0m \u001b[39m    \u001b[39m\u001b[39mr\u001b[39m\u001b[39m\"\"\"Execute a SQL expression construct.\u001b[39;00m\n\u001b[1;32m   2256\u001b[0m \n\u001b[1;32m   2257\u001b[0m \u001b[39m    Returns a :class:`_engine.Result` object representing\u001b[39;00m\n\u001b[0;32m   (...)\u001b[0m\n\u001b[1;32m   2304\u001b[0m \n\u001b[1;32m   2305\u001b[0m \u001b[39m    \"\"\"\u001b[39;00m\n\u001b[0;32m-> 2306\u001b[0m     \u001b[39mreturn\u001b[39;00m \u001b[39mself\u001b[39;49m\u001b[39m.\u001b[39;49m_execute_internal(\n\u001b[1;32m   2307\u001b[0m         statement,\n\u001b[1;32m   2308\u001b[0m         params,\n\u001b[1;32m   2309\u001b[0m         execution_options\u001b[39m=\u001b[39;49mexecution_options,\n\u001b[1;32m   2310\u001b[0m         bind_arguments\u001b[39m=\u001b[39;49mbind_arguments,\n\u001b[1;32m   2311\u001b[0m         _parent_execute_state\u001b[39m=\u001b[39;49m_parent_execute_state,\n\u001b[1;32m   2312\u001b[0m         _add_event\u001b[39m=\u001b[39;49m_add_event,\n\u001b[1;32m   2313\u001b[0m     )\n",
      "File \u001b[0;32m~/Projects/SQL-via-Alchemy/sqla/lib/python3.10/site-packages/sqlalchemy/orm/session.py:2188\u001b[0m, in \u001b[0;36mSession._execute_internal\u001b[0;34m(self, statement, params, execution_options, bind_arguments, _parent_execute_state, _add_event, _scalar_result)\u001b[0m\n\u001b[1;32m   2183\u001b[0m     \u001b[39mreturn\u001b[39;00m conn\u001b[39m.\u001b[39mscalar(\n\u001b[1;32m   2184\u001b[0m         statement, params \u001b[39mor\u001b[39;00m {}, execution_options\u001b[39m=\u001b[39mexecution_options\n\u001b[1;32m   2185\u001b[0m     )\n\u001b[1;32m   2187\u001b[0m \u001b[39mif\u001b[39;00m compile_state_cls:\n\u001b[0;32m-> 2188\u001b[0m     result: Result[Any] \u001b[39m=\u001b[39m compile_state_cls\u001b[39m.\u001b[39;49morm_execute_statement(\n\u001b[1;32m   2189\u001b[0m         \u001b[39mself\u001b[39;49m,\n\u001b[1;32m   2190\u001b[0m         statement,\n\u001b[1;32m   2191\u001b[0m         params \u001b[39mor\u001b[39;49;00m {},\n\u001b[1;32m   2192\u001b[0m         execution_options,\n\u001b[1;32m   2193\u001b[0m         bind_arguments,\n\u001b[1;32m   2194\u001b[0m         conn,\n\u001b[1;32m   2195\u001b[0m     )\n\u001b[1;32m   2196\u001b[0m \u001b[39melse\u001b[39;00m:\n\u001b[1;32m   2197\u001b[0m     result \u001b[39m=\u001b[39m conn\u001b[39m.\u001b[39mexecute(\n\u001b[1;32m   2198\u001b[0m         statement, params \u001b[39mor\u001b[39;00m {}, execution_options\u001b[39m=\u001b[39mexecution_options\n\u001b[1;32m   2199\u001b[0m     )\n",
      "File \u001b[0;32m~/Projects/SQL-via-Alchemy/sqla/lib/python3.10/site-packages/sqlalchemy/orm/context.py:293\u001b[0m, in \u001b[0;36mAbstractORMCompileState.orm_execute_statement\u001b[0;34m(cls, session, statement, params, execution_options, bind_arguments, conn)\u001b[0m\n\u001b[1;32m    283\u001b[0m \u001b[39m@classmethod\u001b[39m\n\u001b[1;32m    284\u001b[0m \u001b[39mdef\u001b[39;00m \u001b[39morm_execute_statement\u001b[39m(\n\u001b[1;32m    285\u001b[0m     \u001b[39mcls\u001b[39m,\n\u001b[0;32m   (...)\u001b[0m\n\u001b[1;32m    291\u001b[0m     conn,\n\u001b[1;32m    292\u001b[0m ) \u001b[39m-\u001b[39m\u001b[39m>\u001b[39m Result:\n\u001b[0;32m--> 293\u001b[0m     result \u001b[39m=\u001b[39m conn\u001b[39m.\u001b[39;49mexecute(\n\u001b[1;32m    294\u001b[0m         statement, params \u001b[39mor\u001b[39;49;00m {}, execution_options\u001b[39m=\u001b[39;49mexecution_options\n\u001b[1;32m    295\u001b[0m     )\n\u001b[1;32m    296\u001b[0m     \u001b[39mreturn\u001b[39;00m \u001b[39mcls\u001b[39m\u001b[39m.\u001b[39morm_setup_cursor_result(\n\u001b[1;32m    297\u001b[0m         session,\n\u001b[1;32m    298\u001b[0m         statement,\n\u001b[0;32m   (...)\u001b[0m\n\u001b[1;32m    302\u001b[0m         result,\n\u001b[1;32m    303\u001b[0m     )\n",
      "File \u001b[0;32m~/Projects/SQL-via-Alchemy/sqla/lib/python3.10/site-packages/sqlalchemy/engine/base.py:1416\u001b[0m, in \u001b[0;36mConnection.execute\u001b[0;34m(self, statement, parameters, execution_options)\u001b[0m\n\u001b[1;32m   1414\u001b[0m     \u001b[39mraise\u001b[39;00m exc\u001b[39m.\u001b[39mObjectNotExecutableError(statement) \u001b[39mfrom\u001b[39;00m \u001b[39merr\u001b[39;00m\n\u001b[1;32m   1415\u001b[0m \u001b[39melse\u001b[39;00m:\n\u001b[0;32m-> 1416\u001b[0m     \u001b[39mreturn\u001b[39;00m meth(\n\u001b[1;32m   1417\u001b[0m         \u001b[39mself\u001b[39;49m,\n\u001b[1;32m   1418\u001b[0m         distilled_parameters,\n\u001b[1;32m   1419\u001b[0m         execution_options \u001b[39mor\u001b[39;49;00m NO_OPTIONS,\n\u001b[1;32m   1420\u001b[0m     )\n",
      "File \u001b[0;32m~/Projects/SQL-via-Alchemy/sqla/lib/python3.10/site-packages/sqlalchemy/sql/elements.py:516\u001b[0m, in \u001b[0;36mClauseElement._execute_on_connection\u001b[0;34m(self, connection, distilled_params, execution_options)\u001b[0m\n\u001b[1;32m    514\u001b[0m     \u001b[39mif\u001b[39;00m TYPE_CHECKING:\n\u001b[1;32m    515\u001b[0m         \u001b[39massert\u001b[39;00m \u001b[39misinstance\u001b[39m(\u001b[39mself\u001b[39m, Executable)\n\u001b[0;32m--> 516\u001b[0m     \u001b[39mreturn\u001b[39;00m connection\u001b[39m.\u001b[39;49m_execute_clauseelement(\n\u001b[1;32m    517\u001b[0m         \u001b[39mself\u001b[39;49m, distilled_params, execution_options\n\u001b[1;32m    518\u001b[0m     )\n\u001b[1;32m    519\u001b[0m \u001b[39melse\u001b[39;00m:\n\u001b[1;32m    520\u001b[0m     \u001b[39mraise\u001b[39;00m exc\u001b[39m.\u001b[39mObjectNotExecutableError(\u001b[39mself\u001b[39m)\n",
      "File \u001b[0;32m~/Projects/SQL-via-Alchemy/sqla/lib/python3.10/site-packages/sqlalchemy/engine/base.py:1639\u001b[0m, in \u001b[0;36mConnection._execute_clauseelement\u001b[0;34m(self, elem, distilled_parameters, execution_options)\u001b[0m\n\u001b[1;32m   1627\u001b[0m compiled_cache: Optional[CompiledCacheType] \u001b[39m=\u001b[39m execution_options\u001b[39m.\u001b[39mget(\n\u001b[1;32m   1628\u001b[0m     \u001b[39m\"\u001b[39m\u001b[39mcompiled_cache\u001b[39m\u001b[39m\"\u001b[39m, \u001b[39mself\u001b[39m\u001b[39m.\u001b[39mengine\u001b[39m.\u001b[39m_compiled_cache\n\u001b[1;32m   1629\u001b[0m )\n\u001b[1;32m   1631\u001b[0m compiled_sql, extracted_params, cache_hit \u001b[39m=\u001b[39m elem\u001b[39m.\u001b[39m_compile_w_cache(\n\u001b[1;32m   1632\u001b[0m     dialect\u001b[39m=\u001b[39mdialect,\n\u001b[1;32m   1633\u001b[0m     compiled_cache\u001b[39m=\u001b[39mcompiled_cache,\n\u001b[0;32m   (...)\u001b[0m\n\u001b[1;32m   1637\u001b[0m     linting\u001b[39m=\u001b[39m\u001b[39mself\u001b[39m\u001b[39m.\u001b[39mdialect\u001b[39m.\u001b[39mcompiler_linting \u001b[39m|\u001b[39m compiler\u001b[39m.\u001b[39mWARN_LINTING,\n\u001b[1;32m   1638\u001b[0m )\n\u001b[0;32m-> 1639\u001b[0m ret \u001b[39m=\u001b[39m \u001b[39mself\u001b[39;49m\u001b[39m.\u001b[39;49m_execute_context(\n\u001b[1;32m   1640\u001b[0m     dialect,\n\u001b[1;32m   1641\u001b[0m     dialect\u001b[39m.\u001b[39;49mexecution_ctx_cls\u001b[39m.\u001b[39;49m_init_compiled,\n\u001b[1;32m   1642\u001b[0m     compiled_sql,\n\u001b[1;32m   1643\u001b[0m     distilled_parameters,\n\u001b[1;32m   1644\u001b[0m     execution_options,\n\u001b[1;32m   1645\u001b[0m     compiled_sql,\n\u001b[1;32m   1646\u001b[0m     distilled_parameters,\n\u001b[1;32m   1647\u001b[0m     elem,\n\u001b[1;32m   1648\u001b[0m     extracted_params,\n\u001b[1;32m   1649\u001b[0m     cache_hit\u001b[39m=\u001b[39;49mcache_hit,\n\u001b[1;32m   1650\u001b[0m )\n\u001b[1;32m   1651\u001b[0m \u001b[39mif\u001b[39;00m has_events:\n\u001b[1;32m   1652\u001b[0m     \u001b[39mself\u001b[39m\u001b[39m.\u001b[39mdispatch\u001b[39m.\u001b[39mafter_execute(\n\u001b[1;32m   1653\u001b[0m         \u001b[39mself\u001b[39m,\n\u001b[1;32m   1654\u001b[0m         elem,\n\u001b[0;32m   (...)\u001b[0m\n\u001b[1;32m   1658\u001b[0m         ret,\n\u001b[1;32m   1659\u001b[0m     )\n",
      "File \u001b[0;32m~/Projects/SQL-via-Alchemy/sqla/lib/python3.10/site-packages/sqlalchemy/engine/base.py:1848\u001b[0m, in \u001b[0;36mConnection._execute_context\u001b[0;34m(self, dialect, constructor, statement, parameters, execution_options, *args, **kw)\u001b[0m\n\u001b[1;32m   1843\u001b[0m     \u001b[39mreturn\u001b[39;00m \u001b[39mself\u001b[39m\u001b[39m.\u001b[39m_exec_insertmany_context(\n\u001b[1;32m   1844\u001b[0m         dialect,\n\u001b[1;32m   1845\u001b[0m         context,\n\u001b[1;32m   1846\u001b[0m     )\n\u001b[1;32m   1847\u001b[0m \u001b[39melse\u001b[39;00m:\n\u001b[0;32m-> 1848\u001b[0m     \u001b[39mreturn\u001b[39;00m \u001b[39mself\u001b[39;49m\u001b[39m.\u001b[39;49m_exec_single_context(\n\u001b[1;32m   1849\u001b[0m         dialect, context, statement, parameters\n\u001b[1;32m   1850\u001b[0m     )\n",
      "File \u001b[0;32m~/Projects/SQL-via-Alchemy/sqla/lib/python3.10/site-packages/sqlalchemy/engine/base.py:1988\u001b[0m, in \u001b[0;36mConnection._exec_single_context\u001b[0;34m(self, dialect, context, statement, parameters)\u001b[0m\n\u001b[1;32m   1985\u001b[0m     result \u001b[39m=\u001b[39m context\u001b[39m.\u001b[39m_setup_result_proxy()\n\u001b[1;32m   1987\u001b[0m \u001b[39mexcept\u001b[39;00m \u001b[39mBaseException\u001b[39;00m \u001b[39mas\u001b[39;00m e:\n\u001b[0;32m-> 1988\u001b[0m     \u001b[39mself\u001b[39;49m\u001b[39m.\u001b[39;49m_handle_dbapi_exception(\n\u001b[1;32m   1989\u001b[0m         e, str_statement, effective_parameters, cursor, context\n\u001b[1;32m   1990\u001b[0m     )\n\u001b[1;32m   1992\u001b[0m \u001b[39mreturn\u001b[39;00m result\n",
      "File \u001b[0;32m~/Projects/SQL-via-Alchemy/sqla/lib/python3.10/site-packages/sqlalchemy/engine/base.py:2343\u001b[0m, in \u001b[0;36mConnection._handle_dbapi_exception\u001b[0;34m(self, e, statement, parameters, cursor, context, is_sub_exec)\u001b[0m\n\u001b[1;32m   2341\u001b[0m \u001b[39melif\u001b[39;00m should_wrap:\n\u001b[1;32m   2342\u001b[0m     \u001b[39massert\u001b[39;00m sqlalchemy_exception \u001b[39mis\u001b[39;00m \u001b[39mnot\u001b[39;00m \u001b[39mNone\u001b[39;00m\n\u001b[0;32m-> 2343\u001b[0m     \u001b[39mraise\u001b[39;00m sqlalchemy_exception\u001b[39m.\u001b[39mwith_traceback(exc_info[\u001b[39m2\u001b[39m]) \u001b[39mfrom\u001b[39;00m \u001b[39me\u001b[39;00m\n\u001b[1;32m   2344\u001b[0m \u001b[39melse\u001b[39;00m:\n\u001b[1;32m   2345\u001b[0m     \u001b[39massert\u001b[39;00m exc_info[\u001b[39m1\u001b[39m] \u001b[39mis\u001b[39;00m \u001b[39mnot\u001b[39;00m \u001b[39mNone\u001b[39;00m\n",
      "File \u001b[0;32m~/Projects/SQL-via-Alchemy/sqla/lib/python3.10/site-packages/sqlalchemy/engine/base.py:1969\u001b[0m, in \u001b[0;36mConnection._exec_single_context\u001b[0;34m(self, dialect, context, statement, parameters)\u001b[0m\n\u001b[1;32m   1967\u001b[0m                 \u001b[39mbreak\u001b[39;00m\n\u001b[1;32m   1968\u001b[0m     \u001b[39mif\u001b[39;00m \u001b[39mnot\u001b[39;00m evt_handled:\n\u001b[0;32m-> 1969\u001b[0m         \u001b[39mself\u001b[39;49m\u001b[39m.\u001b[39;49mdialect\u001b[39m.\u001b[39;49mdo_execute(\n\u001b[1;32m   1970\u001b[0m             cursor, str_statement, effective_parameters, context\n\u001b[1;32m   1971\u001b[0m         )\n\u001b[1;32m   1973\u001b[0m \u001b[39mif\u001b[39;00m \u001b[39mself\u001b[39m\u001b[39m.\u001b[39m_has_events \u001b[39mor\u001b[39;00m \u001b[39mself\u001b[39m\u001b[39m.\u001b[39mengine\u001b[39m.\u001b[39m_has_events:\n\u001b[1;32m   1974\u001b[0m     \u001b[39mself\u001b[39m\u001b[39m.\u001b[39mdispatch\u001b[39m.\u001b[39mafter_cursor_execute(\n\u001b[1;32m   1975\u001b[0m         \u001b[39mself\u001b[39m,\n\u001b[1;32m   1976\u001b[0m         cursor,\n\u001b[0;32m   (...)\u001b[0m\n\u001b[1;32m   1980\u001b[0m         context\u001b[39m.\u001b[39mexecutemany,\n\u001b[1;32m   1981\u001b[0m     )\n",
      "File \u001b[0;32m~/Projects/SQL-via-Alchemy/sqla/lib/python3.10/site-packages/sqlalchemy/engine/default.py:922\u001b[0m, in \u001b[0;36mDefaultDialect.do_execute\u001b[0;34m(self, cursor, statement, parameters, context)\u001b[0m\n\u001b[1;32m    921\u001b[0m \u001b[39mdef\u001b[39;00m \u001b[39mdo_execute\u001b[39m(\u001b[39mself\u001b[39m, cursor, statement, parameters, context\u001b[39m=\u001b[39m\u001b[39mNone\u001b[39;00m):\n\u001b[0;32m--> 922\u001b[0m     cursor\u001b[39m.\u001b[39;49mexecute(statement, parameters)\n",
      "File \u001b[0;32m~/Projects/SQL-via-Alchemy/sqla/lib/python3.10/site-packages/sqlalchemy/dialects/sqlite/aiosqlite.py:113\u001b[0m, in \u001b[0;36mAsyncAdapt_aiosqlite_cursor.execute\u001b[0;34m(self, operation, parameters)\u001b[0m\n\u001b[1;32m    111\u001b[0m         \u001b[39mself\u001b[39m\u001b[39m.\u001b[39m_cursor \u001b[39m=\u001b[39m _cursor\n\u001b[1;32m    112\u001b[0m \u001b[39mexcept\u001b[39;00m \u001b[39mException\u001b[39;00m \u001b[39mas\u001b[39;00m error:\n\u001b[0;32m--> 113\u001b[0m     \u001b[39mself\u001b[39;49m\u001b[39m.\u001b[39;49m_adapt_connection\u001b[39m.\u001b[39;49m_handle_exception(error)\n",
      "File \u001b[0;32m~/Projects/SQL-via-Alchemy/sqla/lib/python3.10/site-packages/sqlalchemy/dialects/sqlite/aiosqlite.py:263\u001b[0m, in \u001b[0;36mAsyncAdapt_aiosqlite_connection._handle_exception\u001b[0;34m(self, error)\u001b[0m\n\u001b[1;32m    259\u001b[0m     \u001b[39mraise\u001b[39;00m \u001b[39mself\u001b[39m\u001b[39m.\u001b[39mdbapi\u001b[39m.\u001b[39msqlite\u001b[39m.\u001b[39mOperationalError(\n\u001b[1;32m    260\u001b[0m         \u001b[39m\"\u001b[39m\u001b[39mno active connection\u001b[39m\u001b[39m\"\u001b[39m\n\u001b[1;32m    261\u001b[0m     ) \u001b[39mfrom\u001b[39;00m \u001b[39merror\u001b[39;00m\n\u001b[1;32m    262\u001b[0m \u001b[39melse\u001b[39;00m:\n\u001b[0;32m--> 263\u001b[0m     \u001b[39mraise\u001b[39;00m error\n",
      "File \u001b[0;32m~/Projects/SQL-via-Alchemy/sqla/lib/python3.10/site-packages/sqlalchemy/dialects/sqlite/aiosqlite.py:95\u001b[0m, in \u001b[0;36mAsyncAdapt_aiosqlite_cursor.execute\u001b[0;34m(self, operation, parameters)\u001b[0m\n\u001b[1;32m     93\u001b[0m     \u001b[39mself\u001b[39m\u001b[39m.\u001b[39mawait_(_cursor\u001b[39m.\u001b[39mexecute(operation))\n\u001b[1;32m     94\u001b[0m \u001b[39melse\u001b[39;00m:\n\u001b[0;32m---> 95\u001b[0m     \u001b[39mself\u001b[39;49m\u001b[39m.\u001b[39;49mawait_(_cursor\u001b[39m.\u001b[39;49mexecute(operation, parameters))\n\u001b[1;32m     97\u001b[0m \u001b[39mif\u001b[39;00m _cursor\u001b[39m.\u001b[39mdescription:\n\u001b[1;32m     98\u001b[0m     \u001b[39mself\u001b[39m\u001b[39m.\u001b[39mdescription \u001b[39m=\u001b[39m _cursor\u001b[39m.\u001b[39mdescription\n",
      "File \u001b[0;32m~/Projects/SQL-via-Alchemy/sqla/lib/python3.10/site-packages/sqlalchemy/util/_concurrency_py3k.py:125\u001b[0m, in \u001b[0;36mawait_only\u001b[0;34m(awaitable)\u001b[0m\n\u001b[1;32m    116\u001b[0m     \u001b[39mraise\u001b[39;00m exc\u001b[39m.\u001b[39mMissingGreenlet(\n\u001b[1;32m    117\u001b[0m         \u001b[39m\"\u001b[39m\u001b[39mgreenlet_spawn has not been called; can\u001b[39m\u001b[39m'\u001b[39m\u001b[39mt call await_only() \u001b[39m\u001b[39m\"\u001b[39m\n\u001b[1;32m    118\u001b[0m         \u001b[39m\"\u001b[39m\u001b[39mhere. Was IO attempted in an unexpected place?\u001b[39m\u001b[39m\"\u001b[39m\n\u001b[1;32m    119\u001b[0m     )\n\u001b[1;32m    121\u001b[0m \u001b[39m# returns the control to the driver greenlet passing it\u001b[39;00m\n\u001b[1;32m    122\u001b[0m \u001b[39m# a coroutine to run. Once the awaitable is done, the driver greenlet\u001b[39;00m\n\u001b[1;32m    123\u001b[0m \u001b[39m# switches back to this greenlet with the result of awaitable that is\u001b[39;00m\n\u001b[1;32m    124\u001b[0m \u001b[39m# then returned to the caller (or raised as error)\u001b[39;00m\n\u001b[0;32m--> 125\u001b[0m \u001b[39mreturn\u001b[39;00m current\u001b[39m.\u001b[39;49mdriver\u001b[39m.\u001b[39;49mswitch(awaitable)\n",
      "File \u001b[0;32m~/Projects/SQL-via-Alchemy/sqla/lib/python3.10/site-packages/sqlalchemy/util/_concurrency_py3k.py:185\u001b[0m, in \u001b[0;36mgreenlet_spawn\u001b[0;34m(fn, _require_await, *args, **kwargs)\u001b[0m\n\u001b[1;32m    181\u001b[0m switch_occurred \u001b[39m=\u001b[39m \u001b[39mTrue\u001b[39;00m\n\u001b[1;32m    182\u001b[0m \u001b[39mtry\u001b[39;00m:\n\u001b[1;32m    183\u001b[0m     \u001b[39m# wait for a coroutine from await_only and then return its\u001b[39;00m\n\u001b[1;32m    184\u001b[0m     \u001b[39m# result back to it.\u001b[39;00m\n\u001b[0;32m--> 185\u001b[0m     value \u001b[39m=\u001b[39m \u001b[39mawait\u001b[39;00m result\n\u001b[1;32m    186\u001b[0m \u001b[39mexcept\u001b[39;00m \u001b[39mBaseException\u001b[39;00m:\n\u001b[1;32m    187\u001b[0m     \u001b[39m# this allows an exception to be raised within\u001b[39;00m\n\u001b[1;32m    188\u001b[0m     \u001b[39m# the moderated greenlet so that it can continue\u001b[39;00m\n\u001b[1;32m    189\u001b[0m     \u001b[39m# its expected flow.\u001b[39;00m\n\u001b[1;32m    190\u001b[0m     result \u001b[39m=\u001b[39m context\u001b[39m.\u001b[39mthrow(\u001b[39m*\u001b[39msys\u001b[39m.\u001b[39mexc_info())\n",
      "File \u001b[0;32m~/Projects/SQL-via-Alchemy/sqla/lib/python3.10/site-packages/aiosqlite/cursor.py:48\u001b[0m, in \u001b[0;36mCursor.execute\u001b[0;34m(self, sql, parameters)\u001b[0m\n\u001b[1;32m     46\u001b[0m \u001b[39mif\u001b[39;00m parameters \u001b[39mis\u001b[39;00m \u001b[39mNone\u001b[39;00m:\n\u001b[1;32m     47\u001b[0m     parameters \u001b[39m=\u001b[39m []\n\u001b[0;32m---> 48\u001b[0m \u001b[39mawait\u001b[39;00m \u001b[39mself\u001b[39m\u001b[39m.\u001b[39m_execute(\u001b[39mself\u001b[39m\u001b[39m.\u001b[39m_cursor\u001b[39m.\u001b[39mexecute, sql, parameters)\n\u001b[1;32m     49\u001b[0m \u001b[39mreturn\u001b[39;00m \u001b[39mself\u001b[39m\n",
      "File \u001b[0;32m~/Projects/SQL-via-Alchemy/sqla/lib/python3.10/site-packages/aiosqlite/cursor.py:40\u001b[0m, in \u001b[0;36mCursor._execute\u001b[0;34m(self, fn, *args, **kwargs)\u001b[0m\n\u001b[1;32m     38\u001b[0m \u001b[39masync\u001b[39;00m \u001b[39mdef\u001b[39;00m \u001b[39m_execute\u001b[39m(\u001b[39mself\u001b[39m, fn, \u001b[39m*\u001b[39margs, \u001b[39m*\u001b[39m\u001b[39m*\u001b[39mkwargs):\n\u001b[1;32m     39\u001b[0m \u001b[39m    \u001b[39m\u001b[39m\"\"\"Execute the given function on the shared connection's thread.\"\"\"\u001b[39;00m\n\u001b[0;32m---> 40\u001b[0m     \u001b[39mreturn\u001b[39;00m \u001b[39mawait\u001b[39;00m \u001b[39mself\u001b[39m\u001b[39m.\u001b[39m_conn\u001b[39m.\u001b[39m_execute(fn, \u001b[39m*\u001b[39margs, \u001b[39m*\u001b[39m\u001b[39m*\u001b[39mkwargs)\n",
      "File \u001b[0;32m~/Projects/SQL-via-Alchemy/sqla/lib/python3.10/site-packages/aiosqlite/core.py:133\u001b[0m, in \u001b[0;36mConnection._execute\u001b[0;34m(self, fn, *args, **kwargs)\u001b[0m\n\u001b[1;32m    129\u001b[0m future \u001b[39m=\u001b[39m asyncio\u001b[39m.\u001b[39mget_event_loop()\u001b[39m.\u001b[39mcreate_future()\n\u001b[1;32m    131\u001b[0m \u001b[39mself\u001b[39m\u001b[39m.\u001b[39m_tx\u001b[39m.\u001b[39mput_nowait((future, function))\n\u001b[0;32m--> 133\u001b[0m \u001b[39mreturn\u001b[39;00m \u001b[39mawait\u001b[39;00m future\n",
      "File \u001b[0;32m~/Projects/SQL-via-Alchemy/sqla/lib/python3.10/site-packages/aiosqlite/core.py:106\u001b[0m, in \u001b[0;36mConnection.run\u001b[0;34m(self)\u001b[0m\n\u001b[1;32m    104\u001b[0m \u001b[39mtry\u001b[39;00m:\n\u001b[1;32m    105\u001b[0m     LOG\u001b[39m.\u001b[39mdebug(\u001b[39m\"\u001b[39m\u001b[39mexecuting \u001b[39m\u001b[39m%s\u001b[39;00m\u001b[39m\"\u001b[39m, function)\n\u001b[0;32m--> 106\u001b[0m     result \u001b[39m=\u001b[39m function()\n\u001b[1;32m    107\u001b[0m     LOG\u001b[39m.\u001b[39mdebug(\u001b[39m\"\u001b[39m\u001b[39moperation \u001b[39m\u001b[39m%s\u001b[39;00m\u001b[39m completed\u001b[39m\u001b[39m\"\u001b[39m, function)\n\u001b[1;32m    109\u001b[0m     \u001b[39mdef\u001b[39;00m \u001b[39mset_result\u001b[39m(fut, result):\n",
      "\u001b[0;31mOperationalError\u001b[0m: (sqlite3.OperationalError) no such table: tmp\n[SQL: SELECT tmp.id, tmp.first_name, tmp.last_name \nFROM tmp]\n(Background on this error at: https://sqlalche.me/e/20/e3q8)"
     ]
    }
   ],
   "source": [
    "Tmp.__tablename__ = \"users\"\n",
    "\n",
    "async_session = async_sqla.async_sessionmaker(async_engine)\n",
    "async with async_session() as session:\n",
    "    result = await session.execute(sqla.select(Tmp))\n",
    "    for row in result.scalars():\n",
    "        print(row)"
   ]
  },
  {
   "cell_type": "markdown",
   "metadata": {},
   "source": [
    "If taking the Stack Overflow question [\"How to rename an existing table\"](https://stackoverflow.com/questions/49550784/how-to-rename-an-existing-table), we had better to migrate data via tools like:\n",
    "\n",
    "- [alembic](https://alembic.sqlalchemy.org/en/latest/)\n",
    "\n",
    "- [sqlalchemy-migrate](https://sqlalchemy-migrate.readthedocs.io/en/latest/)\n",
    "\n",
    "Migrations are something to be palpated later, but inevitably because it is a must-have when dealing with databases and ORM stuff especially."
   ]
  },
  {
   "cell_type": "markdown",
   "metadata": {},
   "source": [
    "Let's try another feature which is called **reflection**. Reflection allows to get SQLAlchemised objects mapped from the structure/schema of a database. Instead of defining classes manually, SQLAlchemy does the kitchen stuff for us and we can get the instances of corresponding entities in the database where not only tables live.\n",
    "\n",
    "Illustrating the reflection with examples."
   ]
  },
  {
   "cell_type": "code",
   "execution_count": 24,
   "metadata": {},
   "outputs": [
    {
     "ename": "NoInspectionAvailable",
     "evalue": "Inspection on an AsyncEngine is currently not supported. Please obtain a connection then use ``conn.run_sync`` to pass a callable where it's possible to call ``inspect`` on the passed connection. (Background on this error at: https://sqlalche.me/e/20/xd3s)",
     "output_type": "error",
     "traceback": [
      "\u001b[0;31m---------------------------------------------------------------------------\u001b[0m",
      "\u001b[0;31mNoInspectionAvailable\u001b[0m                     Traceback (most recent call last)",
      "\u001b[1;32m/home/stankudrow/Projects/SQL-via-Alchemy/tutorial/01_table_primer/01_table_primer.ipynb Cell 50\u001b[0m line \u001b[0;36m2\n\u001b[1;32m      <a href='vscode-notebook-cell:/home/stankudrow/Projects/SQL-via-Alchemy/tutorial/01_table_primer/01_table_primer.ipynb#Y100sZmlsZQ%3D%3D?line=0'>1</a>\u001b[0m meta \u001b[39m=\u001b[39m sqla\u001b[39m.\u001b[39mMetaData()  \u001b[39m# Not that META, certainly\u001b[39;00m\n\u001b[0;32m----> <a href='vscode-notebook-cell:/home/stankudrow/Projects/SQL-via-Alchemy/tutorial/01_table_primer/01_table_primer.ipynb#Y100sZmlsZQ%3D%3D?line=1'>2</a>\u001b[0m meta\u001b[39m.\u001b[39;49mreflect(bind\u001b[39m=\u001b[39;49masync_engine)\n\u001b[1;32m      <a href='vscode-notebook-cell:/home/stankudrow/Projects/SQL-via-Alchemy/tutorial/01_table_primer/01_table_primer.ipynb#Y100sZmlsZQ%3D%3D?line=2'>3</a>\u001b[0m users_table \u001b[39m=\u001b[39m meta\u001b[39m.\u001b[39mtables[\u001b[39m\"\u001b[39m\u001b[39musers\u001b[39m\u001b[39m\"\u001b[39m]\n\u001b[1;32m      <a href='vscode-notebook-cell:/home/stankudrow/Projects/SQL-via-Alchemy/tutorial/01_table_primer/01_table_primer.ipynb#Y100sZmlsZQ%3D%3D?line=3'>4</a>\u001b[0m users_table\n",
      "File \u001b[0;32m~/Projects/SQL-via-Alchemy/sqla/lib/python3.10/site-packages/sqlalchemy/sql/schema.py:5722\u001b[0m, in \u001b[0;36mMetaData.reflect\u001b[0;34m(self, bind, schema, views, only, extend_existing, autoload_replace, resolve_fks, **dialect_kwargs)\u001b[0m\n\u001b[1;32m   5623\u001b[0m \u001b[39m@util\u001b[39m\u001b[39m.\u001b[39mpreload_module(\u001b[39m\"\u001b[39m\u001b[39msqlalchemy.engine.reflection\u001b[39m\u001b[39m\"\u001b[39m)\n\u001b[1;32m   5624\u001b[0m \u001b[39mdef\u001b[39;00m \u001b[39mreflect\u001b[39m(\n\u001b[1;32m   5625\u001b[0m     \u001b[39mself\u001b[39m,\n\u001b[0;32m   (...)\u001b[0m\n\u001b[1;32m   5635\u001b[0m     \u001b[39m*\u001b[39m\u001b[39m*\u001b[39mdialect_kwargs: Any,\n\u001b[1;32m   5636\u001b[0m ) \u001b[39m-\u001b[39m\u001b[39m>\u001b[39m \u001b[39mNone\u001b[39;00m:\n\u001b[1;32m   5637\u001b[0m \u001b[39m    \u001b[39m\u001b[39mr\u001b[39m\u001b[39m\"\"\"Load all available table definitions from the database.\u001b[39;00m\n\u001b[1;32m   5638\u001b[0m \n\u001b[1;32m   5639\u001b[0m \u001b[39m    Automatically creates ``Table`` entries in this ``MetaData`` for any\u001b[39;00m\n\u001b[0;32m   (...)\u001b[0m\n\u001b[1;32m   5719\u001b[0m \n\u001b[1;32m   5720\u001b[0m \u001b[39m    \"\"\"\u001b[39;00m\n\u001b[0;32m-> 5722\u001b[0m     \u001b[39mwith\u001b[39;00m inspection\u001b[39m.\u001b[39;49minspect(bind)\u001b[39m.\u001b[39m_inspection_context() \u001b[39mas\u001b[39;00m insp:\n\u001b[1;32m   5723\u001b[0m         reflect_opts: Any \u001b[39m=\u001b[39m {\n\u001b[1;32m   5724\u001b[0m             \u001b[39m\"\u001b[39m\u001b[39mautoload_with\u001b[39m\u001b[39m\"\u001b[39m: insp,\n\u001b[1;32m   5725\u001b[0m             \u001b[39m\"\u001b[39m\u001b[39mextend_existing\u001b[39m\u001b[39m\"\u001b[39m: extend_existing,\n\u001b[0;32m   (...)\u001b[0m\n\u001b[1;32m   5728\u001b[0m             \u001b[39m\"\u001b[39m\u001b[39m_extend_on\u001b[39m\u001b[39m\"\u001b[39m: \u001b[39mset\u001b[39m(),\n\u001b[1;32m   5729\u001b[0m         }\n\u001b[1;32m   5731\u001b[0m         reflect_opts\u001b[39m.\u001b[39mupdate(dialect_kwargs)\n",
      "File \u001b[0;32m~/Projects/SQL-via-Alchemy/sqla/lib/python3.10/site-packages/sqlalchemy/inspection.py:145\u001b[0m, in \u001b[0;36minspect\u001b[0;34m(subject, raiseerr)\u001b[0m\n\u001b[1;32m    143\u001b[0m \u001b[39melif\u001b[39;00m reg \u001b[39mis\u001b[39;00m \u001b[39mTrue\u001b[39;00m:\n\u001b[1;32m    144\u001b[0m     \u001b[39mreturn\u001b[39;00m subject\n\u001b[0;32m--> 145\u001b[0m ret \u001b[39m=\u001b[39m reg(subject)\n\u001b[1;32m    146\u001b[0m \u001b[39mif\u001b[39;00m ret \u001b[39mis\u001b[39;00m \u001b[39mnot\u001b[39;00m \u001b[39mNone\u001b[39;00m:\n\u001b[1;32m    147\u001b[0m     \u001b[39mreturn\u001b[39;00m ret\n",
      "File \u001b[0;32m~/Projects/SQL-via-Alchemy/sqla/lib/python3.10/site-packages/sqlalchemy/ext/asyncio/engine.py:1462\u001b[0m, in \u001b[0;36m_no_insp_for_async_engine_xyet\u001b[0;34m(subject)\u001b[0m\n\u001b[1;32m   1458\u001b[0m \u001b[39m@inspection\u001b[39m\u001b[39m.\u001b[39m_inspects(AsyncEngine)\n\u001b[1;32m   1459\u001b[0m \u001b[39mdef\u001b[39;00m \u001b[39m_no_insp_for_async_engine_xyet\u001b[39m(\n\u001b[1;32m   1460\u001b[0m     subject: AsyncEngine,  \u001b[39m# noqa: U100\u001b[39;00m\n\u001b[1;32m   1461\u001b[0m ) \u001b[39m-\u001b[39m\u001b[39m>\u001b[39m NoReturn:\n\u001b[0;32m-> 1462\u001b[0m     \u001b[39mraise\u001b[39;00m exc\u001b[39m.\u001b[39mNoInspectionAvailable(\n\u001b[1;32m   1463\u001b[0m         \u001b[39m\"\u001b[39m\u001b[39mInspection on an AsyncEngine is currently not supported. \u001b[39m\u001b[39m\"\u001b[39m\n\u001b[1;32m   1464\u001b[0m         \u001b[39m\"\u001b[39m\u001b[39mPlease obtain a connection then use ``conn.run_sync`` to pass a \u001b[39m\u001b[39m\"\u001b[39m\n\u001b[1;32m   1465\u001b[0m         \u001b[39m\"\u001b[39m\u001b[39mcallable where it\u001b[39m\u001b[39m'\u001b[39m\u001b[39ms possible to call ``inspect`` on the \u001b[39m\u001b[39m\"\u001b[39m\n\u001b[1;32m   1466\u001b[0m         \u001b[39m\"\u001b[39m\u001b[39mpassed connection.\u001b[39m\u001b[39m\"\u001b[39m,\n\u001b[1;32m   1467\u001b[0m         code\u001b[39m=\u001b[39m\u001b[39m\"\u001b[39m\u001b[39mxd3s\u001b[39m\u001b[39m\"\u001b[39m,\n\u001b[1;32m   1468\u001b[0m     )\n",
      "\u001b[0;31mNoInspectionAvailable\u001b[0m: Inspection on an AsyncEngine is currently not supported. Please obtain a connection then use ``conn.run_sync`` to pass a callable where it's possible to call ``inspect`` on the passed connection. (Background on this error at: https://sqlalche.me/e/20/xd3s)"
     ]
    }
   ],
   "source": [
    "meta = sqla.MetaData()  # Not that META, certainly\n",
    "meta.reflect(bind=async_engine)\n",
    "users_table = meta.tables[\"users\"]\n",
    "users_table"
   ]
  },
  {
   "cell_type": "markdown",
   "metadata": {},
   "source": [
    "Ok, the hint is taken, the solution above is about synchronous way to reflect database structure, so trying the async-aware approach."
   ]
  },
  {
   "cell_type": "code",
   "execution_count": 25,
   "metadata": {},
   "outputs": [
    {
     "name": "stdout",
     "output_type": "stream",
     "text": [
      "2023-11-19 22:09:09,205 INFO sqlalchemy.engine.Engine BEGIN (implicit)\n",
      "2023-11-19 22:09:09,209 INFO sqlalchemy.engine.Engine PRAGMA main.table_xinfo(\"users\")\n",
      "2023-11-19 22:09:09,211 INFO sqlalchemy.engine.Engine [raw sql] ()\n",
      "2023-11-19 22:09:09,214 INFO sqlalchemy.engine.Engine SELECT sql FROM  (SELECT * FROM sqlite_master UNION ALL   SELECT * FROM sqlite_temp_master) WHERE name = ? AND type in ('table', 'view')\n",
      "2023-11-19 22:09:09,215 INFO sqlalchemy.engine.Engine [raw sql] ('users',)\n",
      "2023-11-19 22:09:09,218 INFO sqlalchemy.engine.Engine PRAGMA main.foreign_key_list(\"users\")\n",
      "2023-11-19 22:09:09,219 INFO sqlalchemy.engine.Engine [raw sql] ()\n",
      "2023-11-19 22:09:09,220 INFO sqlalchemy.engine.Engine PRAGMA temp.foreign_key_list(\"users\")\n",
      "2023-11-19 22:09:09,221 INFO sqlalchemy.engine.Engine [raw sql] ()\n",
      "2023-11-19 22:09:09,223 INFO sqlalchemy.engine.Engine SELECT sql FROM  (SELECT * FROM sqlite_master UNION ALL   SELECT * FROM sqlite_temp_master) WHERE name = ? AND type in ('table', 'view')\n",
      "2023-11-19 22:09:09,224 INFO sqlalchemy.engine.Engine [raw sql] ('users',)\n",
      "2023-11-19 22:09:09,228 INFO sqlalchemy.engine.Engine PRAGMA main.index_list(\"users\")\n",
      "2023-11-19 22:09:09,229 INFO sqlalchemy.engine.Engine [raw sql] ()\n",
      "2023-11-19 22:09:09,231 INFO sqlalchemy.engine.Engine PRAGMA temp.index_list(\"users\")\n",
      "2023-11-19 22:09:09,232 INFO sqlalchemy.engine.Engine [raw sql] ()\n",
      "2023-11-19 22:09:09,235 INFO sqlalchemy.engine.Engine PRAGMA main.table_info(\"users\")\n",
      "2023-11-19 22:09:09,235 INFO sqlalchemy.engine.Engine [raw sql] ()\n",
      "2023-11-19 22:09:09,237 INFO sqlalchemy.engine.Engine PRAGMA main.index_list(\"users\")\n",
      "2023-11-19 22:09:09,238 INFO sqlalchemy.engine.Engine [raw sql] ()\n",
      "2023-11-19 22:09:09,239 INFO sqlalchemy.engine.Engine PRAGMA temp.index_list(\"users\")\n",
      "2023-11-19 22:09:09,240 INFO sqlalchemy.engine.Engine [raw sql] ()\n",
      "2023-11-19 22:09:09,243 INFO sqlalchemy.engine.Engine PRAGMA main.table_info(\"users\")\n",
      "2023-11-19 22:09:09,244 INFO sqlalchemy.engine.Engine [raw sql] ()\n",
      "2023-11-19 22:09:09,246 INFO sqlalchemy.engine.Engine SELECT sql FROM  (SELECT * FROM sqlite_master UNION ALL   SELECT * FROM sqlite_temp_master) WHERE name = ? AND type in ('table', 'view')\n",
      "2023-11-19 22:09:09,246 INFO sqlalchemy.engine.Engine [raw sql] ('users',)\n",
      "Table name -> users\n",
      "Table columns -> [('id', Column('id', INTEGER(), table=<users>, primary_key=True, nullable=False)), ('first_name', Column('first_name', VARCHAR(length=30), table=<users>, nullable=False)), ('last_name', Column('last_name', VARCHAR(length=30), table=<users>, nullable=False))]\n",
      "Selecting data from users table.\n",
      "2023-11-19 22:09:09,250 INFO sqlalchemy.engine.Engine ROLLBACK\n"
     ]
    }
   ],
   "source": [
    "def reflect_table(conn_, name: str) -> sqla.Table:\n",
    "    \"\"\"Reflects the table `name` from the DB via connection `conn_`.\"\"\"\n",
    "\n",
    "    return sqla.Table(\n",
    "        name,\n",
    "        sqla.MetaData(),\n",
    "        autoload_with=conn_\n",
    "    )\n",
    "\n",
    "\n",
    "async with async_engine.connect() as conn:\n",
    "    users_table: sqla.Table = await conn.run_sync(\n",
    "        reflect_table, \"users\"\n",
    "    )\n",
    "    print(f\"Table name -> {users_table.name}\")\n",
    "    print(f\"Table columns -> {users_table.c.items()}\")\n",
    "    print(f\"Selecting data from {users_table} table.\")"
   ]
  },
  {
   "cell_type": "markdown",
   "metadata": {},
   "source": [
    "And now we can play with \"users_table\" variable which references to the Table object reflected from \"Users\" table of the database which in its turn represents the structure of this table (see \"Table columns\" printed message from the code above)...and it's awesome."
   ]
  },
  {
   "cell_type": "code",
   "execution_count": 26,
   "metadata": {},
   "outputs": [
    {
     "name": "stdout",
     "output_type": "stream",
     "text": [
      "2023-11-19 22:09:13,193 INFO sqlalchemy.engine.Engine BEGIN (implicit)\n",
      "2023-11-19 22:09:13,196 INFO sqlalchemy.engine.Engine SELECT users.id, users.first_name, users.last_name \n",
      "FROM users\n",
      "2023-11-19 22:09:13,197 INFO sqlalchemy.engine.Engine [generated in 0.00425s] ()\n",
      "SELECT * FROM Users; -> [(1, 'John', 'Doe'), (2, 'Jane', 'Lane')]\n",
      "2023-11-19 22:09:13,201 INFO sqlalchemy.engine.Engine ROLLBACK\n"
     ]
    }
   ],
   "source": [
    "async with async_engine.connect() as async_conn:\n",
    "    result = await async_conn.execute(users_table.select())\n",
    "    print(f\"SELECT * FROM Users; -> {result.fetchall()}\")"
   ]
  },
  {
   "cell_type": "markdown",
   "metadata": {},
   "source": [
    "Yep, it worked, a little much, so that is all for this note.\n",
    "\n",
    "Totals:\n",
    "\n",
    "- basic operations for asyncio-oriented code: raw SQL statements and via SQLAlchemy utilities (just enough for the start);\n",
    "\n",
    "- coherence between DB entities and their counterparts in the code is vital: `ALTER TABLE` case showed a pit to fall easily into;\n",
    "\n",
    "- reflection is cool, but it does not cancel the necessity to keep your code clean: it's better to see the structure through the classes as they are, not tracing the actual state of matters throughout the code."
   ]
  },
  {
   "cell_type": "markdown",
   "metadata": {},
   "source": [
    "### References\n",
    "\n",
    "- [SQLAlchemy asyncio tutorial](https://docs.sqlalchemy.org/en/20/orm/extensions/asyncio.html)\n",
    "\n",
    "- [SQLite FAQ](https://www.sqlite.org/faq.html)\n",
    "\n",
    "- SQL statements:\n",
    "\n",
    "  - [W3Schools: CREATE TABLE](https://www.w3schools.com/sql/sql_create_table.asp)\n",
    "\n",
    "  - [W3Schools: INSERT INTO 'tablename' VALUES ...](https://www.w3schools.com/sql/sql_insert.asp)\n",
    "\n",
    "  - [W3Schools: SELECT ... FROM 'tablename'](https://www.w3schools.com/sql/sql_select.asp)\n",
    "\n",
    "  - ALTER TABLE or RENAME TABLE variants [(Tutorials Point)](https://www.tutorialspoint.com/sql/sql-rename-table.htm)\n",
    "\n",
    "- Problem-addressing references:\n",
    "\n",
    "  - [SQLAlchemy: reflection](https://docs.sqlalchemy.org/en/20/core/reflection.html)\n",
    "\n",
    "  - [GitHub: SQLAlchemy Runtime Inspection API doesn't support AsyncEngine #6121](https://github.com/sqlalchemy/sqlalchemy/issues/6121)\n",
    "\n",
    "  - [Stack Overflow: Get existing table using SQLAlchemy MetaData](https://stackoverflow.com/questions/44193823/get-existing-table-using-sqlalchemy-metadata)\n",
    "\n",
    "  - [Stack Overflow: How to delete a table in SQLAlchemy?](https://stackoverflow.com/questions/35918605/how-to-delete-a-table-in-sqlalchemy)\n",
    "\n",
    "  - [Youtube: Using SQLAlchemy Asynchronously With AsyncIO (SQLAlchemy 2.0)](https://www.youtube.com/watch?v=hkvngd_BUrY)"
   ]
  }
 ],
 "metadata": {
  "kernelspec": {
   "display_name": "sqla",
   "language": "python",
   "name": "python3"
  },
  "language_info": {
   "codemirror_mode": {
    "name": "ipython",
    "version": 3
   },
   "file_extension": ".py",
   "mimetype": "text/x-python",
   "name": "python",
   "nbconvert_exporter": "python",
   "pygments_lexer": "ipython3",
   "version": "3.10.12"
  }
 },
 "nbformat": 4,
 "nbformat_minor": 2
}
