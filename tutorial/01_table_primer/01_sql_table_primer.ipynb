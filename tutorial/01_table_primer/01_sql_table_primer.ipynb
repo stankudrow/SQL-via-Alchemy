{
 "cells": [
  {
   "cell_type": "markdown",
   "metadata": {},
   "source": [
    "# SQLAlchemy Primer\n",
    "\n",
    "Goals:\n",
    "\n",
    "- creating SQL tables;\n",
    "\n",
    "- populating tables with data;\n",
    "\n",
    "- simple select data queries;\n",
    "\n",
    "- updating data and even tables;\n",
    "\n",
    "- doing all the above in OOP style - moving away from \"SQL texts\""
   ]
  },
  {
   "cell_type": "markdown",
   "metadata": {},
   "source": [
    "## Table of Contents\n",
    "\n",
    "- [So be a table](#so-be-a-table)\n",
    "\n",
    "- [Table normalisation](#table-normalisation)\n",
    "\n",
    "- [References](#references)"
   ]
  },
  {
   "cell_type": "code",
   "execution_count": null,
   "metadata": {},
   "outputs": [],
   "source": [
    "import sqlalchemy as sqla\n",
    "from sqlalchemy.orm import DeclarativeBase\n",
    "import sqlalchemy.ext.asyncio as async_sqla\n",
    "\n",
    "\n",
    "print(f\"SQLAlchemy version: {sqla.__version__}\")"
   ]
  },
  {
   "cell_type": "markdown",
   "metadata": {},
   "source": [
    "Previously touched:\n",
    "\n",
    "- asyncio code takes precedence throughout the tutorial;\n",
    "\n",
    "- SQLAlchemy >= 2;\n",
    "\n",
    "- asynchronous DB API's: [aiosqlite](https://aiosqlite.omnilib.dev/en/stable/) for now, but other connectors, like [asyncpg](https://magicstack.github.io/asyncpg/current/), will be covered later in advanced topics."
   ]
  },
  {
   "cell_type": "code",
   "execution_count": null,
   "metadata": {},
   "outputs": [],
   "source": [
    "url: str = \"sqlite+aiosqlite:///:memory:\"\n",
    "async_engine = async_sqla.create_async_engine(url=url, echo=True)\n",
    "\n",
    "metadata = sqla.MetaData()  # will be explained later\n",
    "\n",
    "print(f\"Engine: {async_engine}\")\n",
    "print(f\"MetaData: {metadata}\")"
   ]
  },
  {
   "cell_type": "markdown",
   "metadata": {},
   "source": [
    "### So be a table\n",
    "\n",
    "**Here and below** mostly everything will be put simply, please do not forget about this disclaimer and don't hesitate to do your own researches.\n",
    "\n",
    "SQL is about relational theory in practice. A relation is mapped to a table in the SQL world (but some authors say these entities are not the same). You may read more about [\"The SQL Standard – ISO/IEC 9075:2023 (ANSI X3.135)\"](https://blog.ansi.org/sql-standard-iso-iec-9075-2023-ansi-x3-135/).\n",
    "\n",
    "So, in SQLAlchemy there is a `class sqlalchemy.schema.Table` for mapping an object/instance of this class to a table in a relational database management system (RDBMS). It needs a table name and metadata. Generally, metadata are data that describe data like the format, structure and so on. In SQLAlchemy, the term “metadata” typically refers to the [MetaData](https://docs.sqlalchemy.org/en/20/core/metadata.html#sqlalchemy.schema.MetaData) construct, which is a collection of information about the tables, columns, constraints, and other [DDL](https://docs.sqlalchemy.org/en/20/glossary.html#term-DDL) (Data Definition Language) objects that may exist in a particular database ([link](https://docs.sqlalchemy.org/en/20/glossary.html#term-database-metadata)).\n",
    "\n",
    "Time for the action - following the SQLAlchemy [tutorial page](https://docs.sqlalchemy.org/en/20/tutorial/metadata.html) with tables and metadata. First, direct table instance construction -> creating a Table instance != creating the corresponding SQL table!"
   ]
  },
  {
   "cell_type": "code",
   "execution_count": null,
   "metadata": {},
   "outputs": [],
   "source": [
    "# Attention! The cell is meant to be run once\n",
    "\n",
    "# table direct construction\n",
    "users_table = sqla.Table(\n",
    "    \"users\",\n",
    "    metadata,\n",
    "    sqla.Column(\"ID\", sqla.Integer, primary_key=True, autoincrement=True),\n",
    "    sqla.Column(\"full name\", sqla.String(length=100), nullable=False),\n",
    ")\n",
    "users_table"
   ]
  },
  {
   "cell_type": "code",
   "execution_count": null,
   "metadata": {},
   "outputs": [],
   "source": [
    "# However, in case you need to rerun the previous cell,\n",
    "# you can uncomment the following line:\n",
    "# metadata.remove(users_table)\n",
    "\n",
    "print(f\"Users table: {users_table}\")\n",
    "print(f\"Users keys: {users_table.c.keys()}\")\n",
    "print(f\"Users primary key: {users_table.primary_key}\")\n",
    "\n",
    "print(f\"\\nMetaData.tables: {metadata.tables}\")"
   ]
  },
  {
   "cell_type": "markdown",
   "metadata": {},
   "source": [
    "Let's insert some data to the \"Users\" table, but before the leap, a simple `SELECT * FROM Users` statement as a [smoke test](https://en.wikipedia.org/wiki/Smoke_testing_(software))."
   ]
  },
  {
   "cell_type": "code",
   "execution_count": null,
   "metadata": {},
   "outputs": [],
   "source": [
    "async with async_engine.connect() as async_conn:\n",
    "    await async_conn.execute(users_table.select())"
   ]
  },
  {
   "cell_type": "markdown",
   "metadata": {},
   "source": [
    "Whoa, the table \"Users\" does not exist, how so if we can deal with users_table object? The explanation is simple: `users_table` object has no the corresponding relation in the database (supposing in-memory [tabula rasa](https://en.wikipedia.org/wiki/Tabula_rasa) mode).\n",
    "\n",
    "An important step - to establish the mapping and synchronise relations with objects and metadata will help us out. Trying again:"
   ]
  },
  {
   "cell_type": "code",
   "execution_count": null,
   "metadata": {},
   "outputs": [],
   "source": [
    "async with async_engine.begin() as transaction:\n",
    "    await transaction.run_sync(metadata.create_all)"
   ]
  },
  {
   "cell_type": "markdown",
   "metadata": {},
   "source": [
    "Notes on the above code:\n",
    "\n",
    "- The `metadata.create_all(engine)` execution is for a synchronous code. Within an asynchronous code we need to call `create_all` within the `run_sync` method which allows running synchronous callables.\n",
    "\n",
    "- the `begin()` method starts a transaction which is a unit of work performed on a database. If a transaction fails, all work is rolled back to the initial state. Feel free to read more about [SQL transactions](https://www.tutorialspoint.com/sql/sql-transactions.htm).\n",
    "\n",
    "The SQL expression of interest:\n",
    "\n",
    "```sql\n",
    "CREATE TABLE users (\n",
    "\t\"ID\" INTEGER NOT NULL, \n",
    "\t\"full name\" VARCHAR(100) NOT NULL, \n",
    "\tPRIMARY KEY (\"ID\")\n",
    ")\n",
    "```\n",
    "\n",
    "The previous statement can be rewritten into something like that (but it is SQLite syntax, meaning the less general solution):\n",
    "\n",
    "```sql\n",
    "CREATE TABLE Users (\n",
    "\t\"ID\" INTEGER PRIMARY KEY,\n",
    "\t\"full name\" VARCHAR(100) NOT NULL\n",
    ");\n",
    "```\n",
    "\n",
    "Memos:\n",
    "\n",
    "- **SQL is case-insensitive**;\n",
    "\n",
    "- AUTOINCREMENT is not needed in SQLite ([proof](https://www.sqlite.org/autoinc.html))\n",
    "\n",
    "Seems promisible, but looking does not mean being, only a retest will reveal the truth."
   ]
  },
  {
   "cell_type": "code",
   "execution_count": null,
   "metadata": {},
   "outputs": [],
   "source": [
    "async with async_engine.connect() as conn:\n",
    "    stmt = users_table.select()\n",
    "    result = await conn.execute(stmt)\n",
    "    print(f\"SELECT ALL FROM Users; -> {result.fetchall()}\")"
   ]
  },
  {
   "cell_type": "markdown",
   "metadata": {},
   "source": [
    "Worked like a charm.\n",
    "\n",
    "Note that SQLAlchemy composed the expression to select all attributes/columns from \"Users\" table in this explicit way:\n",
    "\n",
    "```sql\n",
    "SELECT users.\"ID\", users.\"full name\"\n",
    "FROM users\n",
    "```\n",
    "\n",
    "Very soon enough other SQL expressions to reach the same goal will be demonstrated in the code.\n",
    "\n",
    "Now we are able to insert data."
   ]
  },
  {
   "cell_type": "code",
   "execution_count": null,
   "metadata": {},
   "outputs": [],
   "source": [
    "async with async_engine.begin() as ta:\n",
    "    stmt = users_table.insert()\n",
    "    # can you guess why passing a dictionary (args), not kwargs?\n",
    "    await ta.execute(\n",
    "        stmt.values(\n",
    "            [\n",
    "                {\"full name\": \"John Doe\"},\n",
    "                {\"full name\": \"Jane Lane\"}\n",
    "            ]\n",
    "        )\n",
    "    )\n",
    "    # rememeber that id attribute gets autoincrement'ed"
   ]
  },
  {
   "cell_type": "markdown",
   "metadata": {},
   "source": [
    "The previous statement can be written (again, SQLite syntax) as:\n",
    "\n",
    "```sql\n",
    "INSERT INTO Users ('full name') VALUES ('John Doe'), ('Jane Lane');\n",
    "```\n",
    "\n",
    "More about \"SQL\\[Lite\\] INSERT\" statement can be found [here](https://www.sqlitetutorial.net/sqlite-insert/). Since SQLite v3.7.11 bulk inserts (multiple values within a single \"INSERT\" statement) are doable.\n",
    "\n",
    "![SQLite3 Bulk Insert](./sqlite3_bulk_insert.png \"SQLite3 Bulk Insert picture\")\n",
    "\n",
    "Again, SQL is case-insensitive. Capitalising SQL keywords is a convention to make them stand out. If you don't like pressing \"Shift\" button, consider using the \"Capslock\"."
   ]
  },
  {
   "cell_type": "code",
   "execution_count": null,
   "metadata": {},
   "outputs": [],
   "source": [
    "async with async_engine.connect() as async_conn:\n",
    "    result = await async_conn.execute(users_table.select())\n",
    "    print(f\"SELECT * FROM Users; -> {result.fetchall()}\")"
   ]
  },
  {
   "cell_type": "markdown",
   "metadata": {},
   "source": [
    "Another form of selecting all the attributes/columns from a table (here \"Users\") is `SELECT * FROM Users;` statement."
   ]
  },
  {
   "cell_type": "code",
   "execution_count": null,
   "metadata": {},
   "outputs": [],
   "source": [
    "async with async_engine.connect() as async_conn:\n",
    "    stmt: str = \"SELECT * FROM Users;\"\n",
    "    result = await async_conn.execute(sqla.text(stmt))\n",
    "    print(f\"`{stmt}` -> {result.fetchall()}\")"
   ]
  },
  {
   "cell_type": "markdown",
   "metadata": {},
   "source": [
    "Thanks to the [SQLAlchemy asyncio docs](https://docs.sqlalchemy.org/en/20/orm/extensions/asyncio.html) for being rich enough especially with examples.\n",
    "\n",
    "So, basic operations are left behind, but there are some imperfections:\n",
    "\n",
    "- the \"ID\" attribute is in upper case, how about having all names in lower case;\n",
    "\n",
    "- \"full name\" attribute is a composite one and in database design atomic (indivisible) attributes are preferable, so this field is to be split into two columns like \"first_name\" and \"last_name\";\n",
    "\n",
    "- certainly data must not be lost and the migration should be done gracefully."
   ]
  },
  {
   "cell_type": "markdown",
   "metadata": {},
   "source": [
    "### Table normalisation\n",
    "\n",
    "So, we have three issues to wipe out. To introduce a declarative form of defining table MetaData, we shall to:\n",
    "\n",
    "1. declare another class with an appropriate structure;\n",
    "\n",
    "2. create a temporary database with the same structure, but another name like \"tmp\" or something;\n",
    "\n",
    "3. move data from the already populated \"Users\" table into the \"tmp\" one and then from the temporary database\n",
    "\n",
    "It is much likely a costly and silly solution to be avoided, but it is still practice. If there is a solution and there are no better options, use what you have unless you find a better solution."
   ]
  },
  {
   "cell_type": "code",
   "execution_count": null,
   "metadata": {},
   "outputs": [],
   "source": [
    "from sqlalchemy.orm import (\n",
    "    Mapped,\n",
    "    mapped_column,\n",
    ")"
   ]
  },
  {
   "cell_type": "markdown",
   "metadata": {},
   "source": [
    "Now, the tricky part is that \"Users\" table already exists in the database.\n",
    "That is why the table will initially have \"tmp\" name."
   ]
  },
  {
   "cell_type": "code",
   "execution_count": null,
   "metadata": {},
   "outputs": [],
   "source": [
    "new_metadata = sqla.MetaData()\n",
    "\n",
    "# InvalidRequestError:\n",
    "# Cannot use 'DeclarativeBase' directly as a declarative base class.\n",
    "# Create a Base by creating a subclass of it.\n",
    "class Base(DeclarativeBase):\n",
    "    \"\"\"SQLAlchemy Declarative Base class.\"\"\"\n",
    "\n",
    "\n",
    "class Tmp(Base):\n",
    "    __tablename__ = \"tmp\"\n",
    "    metadata = new_metadata  # usually SQLAlchemy assigns it for you\n",
    "\n",
    "    id: Mapped[int] = mapped_column(primary_key=True, autoincrement=True)\n",
    "    first_name: Mapped[str] = mapped_column(sqla.String(30), nullable=False)\n",
    "    last_name: Mapped[str] = mapped_column(sqla.String(30), nullable=False)\n",
    "\n",
    "\n",
    "tmp_table = Tmp()\n",
    "tmp_table  # ceci n'est pas une table"
   ]
  },
  {
   "cell_type": "markdown",
   "metadata": {},
   "source": [
    "Extraction from [SQLAlchemy docs: declarative tables](https://docs.sqlalchemy.org/en/20/orm/declarative_tables.html)\n",
    "\n",
    "> Above, when Declarative processes each class attribute, each [mapped_column()](https://docs.sqlalchemy.org/en/20/orm/mapping_api.html#sqlalchemy.orm.mapped_column) will derive additional arguments from the corresponding [Mapped](https://docs.sqlalchemy.org/en/20/orm/internals.html#sqlalchemy.orm.Mapped) type annotation on the left side, if present. Additionally, Declarative will generate an empty mapped_column() directive implicitly, whenever a Mapped type annotation is encountered that does not have a value assigned to the attribute (this form is inspired by the similar style used in Python dataclasses); this mapped_column() construct proceeds to derive its configuration from the Mapped annotation present."
   ]
  },
  {
   "cell_type": "code",
   "execution_count": null,
   "metadata": {},
   "outputs": [],
   "source": [
    "async with async_engine.begin() as ta:\n",
    "    await ta.run_sync(new_metadata.create_all)"
   ]
  },
  {
   "cell_type": "markdown",
   "metadata": {},
   "source": [
    "Cool, it worked, now the action can be done in one loop over two tables:\n",
    "\n",
    "1. select all data from the old table;\n",
    "2. row processing\n",
    "3. insert the processed data into the new table\n",
    "\n",
    "Then the old table can be easilly dropped away, and the new one is renamed into \"Users\"."
   ]
  },
  {
   "cell_type": "code",
   "execution_count": null,
   "metadata": {},
   "outputs": [],
   "source": [
    "# README ATTENTIVELY\n",
    "\n",
    "async with async_engine.connect() as async_conn:\n",
    "    rows = await async_conn.execute(users_table.select())\n",
    "    new_rows: list[tuple[int, str]] = []\n",
    "    for index, (id_, full_name) in enumerate(rows, 1):  # id is reserved in Python\n",
    "        print(f\"Row_{index}: id={id_} -> full_name={full_name}\")\n",
    "        new_row: tuple[int, str] = (id_, full_name.strip().split(' '))\n",
    "        print(f\"NewRow_{index}: {new_row}\")\n",
    "        new_rows.append(new_row)\n",
    "    # maybe there is a better way\n",
    "    session = async_sqla.async_sessionmaker(async_engine, expire_on_commit=True)\n",
    "    async with session() as async_session:\n",
    "        async_session.add_all(\n",
    "            [\n",
    "                Tmp(\n",
    "                    id=id_,\n",
    "                    first_name=fname,\n",
    "                    last_name=lname,\n",
    "                )\n",
    "                for id_, (fname, lname) in new_rows\n",
    "            ]\n",
    "        )\n",
    "        await async_session.commit()"
   ]
  },
  {
   "cell_type": "markdown",
   "metadata": {},
   "source": [
    "The \"tmp\" table has been populated with processed data from the \"users\" table.\n",
    "\n",
    "The Red Letter moment..."
   ]
  },
  {
   "cell_type": "code",
   "execution_count": null,
   "metadata": {},
   "outputs": [],
   "source": [
    "async_session = async_sqla.async_sessionmaker(async_engine)\n",
    "async with async_session() as session:\n",
    "    result = await session.execute(sqla.select(Tmp))\n",
    "    scalars = result.scalars()\n",
    "    print(f\"'tmp' table scalars: {scalars}\")\n",
    "    for row in scalars:\n",
    "        entry = (row.id, row.first_name, row.last_name)\n",
    "        print(f\"tmp row: {entry}\")"
   ]
  },
  {
   "cell_type": "markdown",
   "metadata": {},
   "source": [
    "Yes, eventually, it was tiresome and finally over...ah, renaming the \"tmp\" table, yep, holding the horses.\n",
    "\n",
    "First, removing the \"Users\" table only."
   ]
  },
  {
   "cell_type": "code",
   "execution_count": null,
   "metadata": {},
   "outputs": [],
   "source": [
    "async with async_engine.begin() as ta:\n",
    "    await ta.run_sync(\n",
    "        users_table.drop,\n",
    "        checkfirst=True\n",
    "    )"
   ]
  },
  {
   "cell_type": "markdown",
   "metadata": {},
   "source": [
    "Second, checking that the table \"Users\" is dropped (the error is coming)."
   ]
  },
  {
   "cell_type": "code",
   "execution_count": null,
   "metadata": {},
   "outputs": [],
   "source": [
    "async with async_engine.connect() as conn:\n",
    "    stmt = \"SELECT * FROM Users;\"\n",
    "    await conn.execute(sqla.text(stmt))"
   ]
  },
  {
   "cell_type": "markdown",
   "metadata": {},
   "source": [
    "But the \"tmp\" table exists."
   ]
  },
  {
   "cell_type": "code",
   "execution_count": null,
   "metadata": {},
   "outputs": [],
   "source": [
    "async with async_engine.connect() as async_conn:\n",
    "    result = await async_conn.execute(sqla.select(Tmp))\n",
    "    print(f\"SELECT * FROM tmp; -> {result.fetchall()}\")"
   ]
  },
  {
   "cell_type": "markdown",
   "metadata": {},
   "source": [
    "Finally, we can easily change or ALTER the name of \"tmp\" table into \"users\"."
   ]
  },
  {
   "cell_type": "code",
   "execution_count": null,
   "metadata": {},
   "outputs": [],
   "source": [
    "async with async_engine.begin() as ta:\n",
    "    stmt = \"ALTER TABLE tmp RENAME TO users;\"\n",
    "    await ta.execute(sqla.text(stmt))"
   ]
  },
  {
   "cell_type": "markdown",
   "metadata": {},
   "source": [
    "And if selecting all columns (and rows) from the \"users\" table, we shall see the data previously inhabitating the \"tmp\" table, which are the same tables, so here two points are checked:\n",
    "\n",
    "1. \"tmp\" is really renamed and accessed by the new \"users\" name\n",
    "\n",
    "2. no data missing"
   ]
  },
  {
   "cell_type": "code",
   "execution_count": null,
   "metadata": {},
   "outputs": [],
   "source": [
    "async_session = async_sqla.async_sessionmaker(async_engine)\n",
    "async with async_session() as session:\n",
    "    stmt = \"select * from users;\"\n",
    "    result = await session.execute(sqla.text(stmt))\n",
    "    for row in result.fetchall():\n",
    "        print(row)"
   ]
  },
  {
   "cell_type": "markdown",
   "metadata": {},
   "source": [
    "Everything went fine...or did it? There is not a small hindrance: metadata instances got outdated. The data they hold are obsolete."
   ]
  },
  {
   "cell_type": "code",
   "execution_count": null,
   "metadata": {},
   "outputs": [],
   "source": [
    "print(f\"NEW METADATA: {new_metadata.tables}\\n\")\n",
    "print(f\"OLD METADATA: {metadata.tables}\\n\")"
   ]
  },
  {
   "cell_type": "markdown",
   "metadata": {},
   "source": [
    "We cannot address `Tmp` class anymore and this is normal since it has `__tablename__ = \"tmp\"` attribute."
   ]
  },
  {
   "cell_type": "code",
   "execution_count": null,
   "metadata": {},
   "outputs": [],
   "source": [
    "async_session = async_sqla.async_sessionmaker(async_engine)\n",
    "async with async_session() as session:\n",
    "    result = await session.execute(sqla.select(Tmp))\n",
    "    for row in result.scalars():\n",
    "        print(row)"
   ]
  },
  {
   "cell_type": "markdown",
   "metadata": {},
   "source": [
    "But you can't just reassign it with a new name because metadata are obsolete - mapping is corrupted."
   ]
  },
  {
   "cell_type": "code",
   "execution_count": null,
   "metadata": {},
   "outputs": [],
   "source": [
    "Tmp.__tablename__ = \"users\"\n",
    "\n",
    "async_session = async_sqla.async_sessionmaker(async_engine)\n",
    "async with async_session() as session:\n",
    "    result = await session.execute(sqla.select(Tmp))\n",
    "    for row in result.scalars():\n",
    "        print(row)"
   ]
  },
  {
   "cell_type": "markdown",
   "metadata": {},
   "source": [
    "If taking the Stack Overflow question [\"How to rename an existing table\"](https://stackoverflow.com/questions/49550784/how-to-rename-an-existing-table), we had better to migrate data via tools like:\n",
    "\n",
    "- [alembic](https://alembic.sqlalchemy.org/en/latest/)\n",
    "\n",
    "- [sqlalchemy-migrate](https://sqlalchemy-migrate.readthedocs.io/en/latest/)\n",
    "\n",
    "Migrations are something to be palpated later, but inevitably because it is a must-have when dealing with databases and ORM stuff especially."
   ]
  },
  {
   "cell_type": "markdown",
   "metadata": {},
   "source": [
    "Let's try another feature which is called **reflection**. Reflection allows to get SQLAlchemised objects mapped from the structure/schema of a database. Instead of defining classes manually, SQLAlchemy does the kitchen stuff for us and we can get the instances of corresponding entities in the database where not only tables live.\n",
    "\n",
    "Illustrating the reflection with examples."
   ]
  },
  {
   "cell_type": "code",
   "execution_count": null,
   "metadata": {},
   "outputs": [],
   "source": [
    "meta = sqla.MetaData()  # Not that META, certainly\n",
    "meta.reflect(bind=async_engine)\n",
    "users_table = meta.tables[\"users\"]\n",
    "users_table"
   ]
  },
  {
   "cell_type": "markdown",
   "metadata": {},
   "source": [
    "Ok, the hint is taken, the solution above is about synchronous way to reflect database structure, so trying the async-aware approach."
   ]
  },
  {
   "cell_type": "code",
   "execution_count": null,
   "metadata": {},
   "outputs": [],
   "source": [
    "def reflect_table(conn_, name: str) -> sqla.Table:\n",
    "    \"\"\"Reflects the table `name` from the DB via connection `conn_`.\"\"\"\n",
    "\n",
    "    return sqla.Table(\n",
    "        name,\n",
    "        sqla.MetaData(),\n",
    "        autoload_with=conn_\n",
    "    )\n",
    "\n",
    "\n",
    "async with async_engine.connect() as conn:\n",
    "    users_table: sqla.Table = await conn.run_sync(\n",
    "        reflect_table, \"users\"\n",
    "    )\n",
    "    print(f\"Table name -> {users_table.name}\")\n",
    "    print(f\"Table columns -> {users_table.c.items()}\")\n",
    "    print(f\"Selecting data from {users_table} table.\")"
   ]
  },
  {
   "cell_type": "markdown",
   "metadata": {},
   "source": [
    "And now we can play with \"users_table\" variable which references to the Table object reflected from \"Users\" table of the database which in its turn represents the structure of this table (see \"Table columns\" printed message from the code above)...and it's awesome."
   ]
  },
  {
   "cell_type": "code",
   "execution_count": null,
   "metadata": {},
   "outputs": [],
   "source": [
    "async with async_engine.connect() as async_conn:\n",
    "    result = await async_conn.execute(users_table.select())\n",
    "    print(f\"SELECT * FROM Users; -> {result.fetchall()}\")"
   ]
  },
  {
   "cell_type": "markdown",
   "metadata": {},
   "source": [
    "Yep, it worked, a little much, so that is all for this note.\n",
    "\n",
    "Totals:\n",
    "\n",
    "- basic operations for asyncio-oriented code: raw SQL statements and via SQLAlchemy utilities (just enough for the start);\n",
    "\n",
    "- coherence between DB entities and their counterparts in the code is vital: `ALTER TABLE` case showed a pit to fall easily into;\n",
    "\n",
    "- reflection is cool, but it does not cancel the necessity to keep your code clean: it's better to see the structure through the classes as they are, not tracing the actual state of matters throughout the code."
   ]
  },
  {
   "cell_type": "markdown",
   "metadata": {},
   "source": [
    "### References\n",
    "\n",
    "- [SQLAlchemy asyncio tutorial](https://docs.sqlalchemy.org/en/20/orm/extensions/asyncio.html)\n",
    "\n",
    "- [SQLite FAQ](https://www.sqlite.org/faq.html)\n",
    "\n",
    "- SQL statements:\n",
    "\n",
    "  - [W3Schools: CREATE TABLE](https://www.w3schools.com/sql/sql_create_table.asp)\n",
    "\n",
    "  - [W3Schools: INSERT INTO 'tablename' VALUES ...](https://www.w3schools.com/sql/sql_insert.asp)\n",
    "\n",
    "  - [W3Schools: SELECT ... FROM 'tablename'](https://www.w3schools.com/sql/sql_select.asp)\n",
    "\n",
    "  - ALTER TABLE or RENAME TABLE variants [(Tutorials Point)](https://www.tutorialspoint.com/sql/sql-rename-table.htm)\n",
    "\n",
    "- Problem-addressing references:\n",
    "\n",
    "  - [SQLAlchemy: reflection](https://docs.sqlalchemy.org/en/20/core/reflection.html)\n",
    "\n",
    "  - [GitHub: SQLAlchemy Runtime Inspection API doesn't support AsyncEngine #6121](https://github.com/sqlalchemy/sqlalchemy/issues/6121)\n",
    "\n",
    "  - [Stack Overflow: Get existing table using SQLAlchemy MetaData](https://stackoverflow.com/questions/44193823/get-existing-table-using-sqlalchemy-metadata)\n",
    "\n",
    "  - [Stack Overflow: How to delete a table in SQLAlchemy?](https://stackoverflow.com/questions/35918605/how-to-delete-a-table-in-sqlalchemy)\n",
    "\n",
    "  - [Youtube: Using SQLAlchemy Asynchronously With AsyncIO (SQLAlchemy 2.0)](https://www.youtube.com/watch?v=hkvngd_BUrY)"
   ]
  }
 ],
 "metadata": {
  "kernelspec": {
   "display_name": "sqla",
   "language": "python",
   "name": "python3"
  },
  "language_info": {
   "codemirror_mode": {
    "name": "ipython",
    "version": 3
   },
   "file_extension": ".py",
   "mimetype": "text/x-python",
   "name": "python",
   "nbconvert_exporter": "python",
   "pygments_lexer": "ipython3",
   "version": "3.10.12"
  }
 },
 "nbformat": 4,
 "nbformat_minor": 2
}
