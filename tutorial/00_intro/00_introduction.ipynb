{
 "cells": [
  {
   "cell_type": "markdown",
   "metadata": {},
   "source": [
    "# SQL via SQLAlchemy - Introduction\n",
    "\n",
    "???????"
   ]
  },
  {
   "cell_type": "markdown",
   "metadata": {},
   "source": [
    "## Table of Contents\n",
    "\n",
    "- [Virtual Environment](#virtual-environment)\n",
    "\n",
    "- [Installing Packages](#installing-packages)\n",
    "\n",
    "- [SQLite in Python](#sqlite-in-python)\n",
    "\n",
    "- [SQLAlchemy Rails](#sqlalchemy-rails)\n",
    "\n",
    "- [Why SQLAlchemy?](#why-sqlalchemy)\n",
    "\n",
    "- [References](#references)"
   ]
  },
  {
   "cell_type": "markdown",
   "metadata": {},
   "source": [
    "### Virtual Environment\n",
    "\n",
    "Not only for this tutotial, but mostly for any project we need a clear isolated environment, which is called a virtual environment (in short, \"venv\"), to avoid any conflicts with system-wide installed software.\n",
    "\n",
    "In Python world there is a standard [venv](https://docs.python.org/3/library/venv.html) package. However, when I wanted to set up the sqla (a name from SQLAlchemy) venv for these notes, I got the error:\n",
    "\n",
    "```shell\n",
    "╰─➤  python3 -m venv sqla\n",
    "The virtual environment was not created successfully because ensurepip is not\n",
    "available.  On Debian/Ubuntu systems, you need to install the python3-venv\n",
    "package using the following command.\n",
    "\n",
    "    apt install python3.10-venv\n",
    "\n",
    "You may need to use sudo with that command.  After installing the python3-venv\n",
    "package, recreate your virtual environment.\n",
    "\n",
    "Failing command: %the-path-to-your-venv-directory%\n",
    "```\n",
    "\n",
    "The venv package was not pre-installed - not so standard to be shipped along with the Python interpreter incorporated into the Ubuntu 22.04. Ok then, no problem and following the hint.\n",
    "\n",
    "```shell\n",
    "╰─➤  sudo apt install python3-venv\n",
    "[sudo] password for %user%: \n",
    "Reading package lists... Done\n",
    "Building dependency tree... Done\n",
    "Reading state information... Done\n",
    "The following additional packages will be installed:\n",
    "  python3-pip-whl python3-setuptools-whl python3.10-venv\n",
    "The following NEW packages will be installed:\n",
    "  python3-pip-whl python3-setuptools-whl python3-venv\n",
    "  python3.10-venv\n",
    "0 upgraded, 4 newly installed, 0 to remove and 0 not upgraded.\n",
    "Need to get 2,474 kB of archives.\n",
    "After this operation, 2,888 kB of additional disk space will be used.\n",
    "Do you want to continue? [Y/n] y\n",
    "...\n",
    "Setting up python3-setuptools-whl (59.6.0-1.2ubuntu0.22.04.1) ...\n",
    "Setting up python3-pip-whl (22.0.2+dfsg-1ubuntu0.3) ...\n",
    "Setting up python3.10-venv (3.10.12-1~22.04.2) ...\n",
    "Setting up python3-venv (3.10.6-1~22.04) ...\n",
    "```\n",
    "\n",
    "Now the door is open, the venv can be created, so executing the `python3 -m venv sqla` command will create the directory. But that is not enough, **the venv should be activated**:\n",
    "\n",
    "```shell\n",
    "╰─➤  source ./sqla/bin/activate\n",
    "(sqla) ╭─<...@...> ~/Projects/SQL-via-Alchemy  ‹main*› \n",
    "╰─➤  \n",
    "```\n",
    "\n",
    "As you can see, the \"(sqla)\" prompt prefix points that the venv is activated. If you need to quit the venv, you can type the `deactivate` command (see the docs for your OS).\n",
    "\n",
    "Checking the environment:\n",
    "\n",
    "1. the path to the Python interpreter:\n",
    "\n",
    "    ```shell\n",
    "    ╰─➤  which python3\n",
    "    /home/<...>/Projects/SQL-via-Alchemy/sqla/bin/python3\n",
    "    ```\n",
    "\n",
    "2. the path to the Python interpreter:\n",
    "\n",
    "    ```shell\n",
    "    ╰─➤  which pip3\n",
    "    /home/<...>/Projects/SQL-via-Alchemy/sqla/bin/pip3\n",
    "    ```\n"
   ]
  },
  {
   "cell_type": "markdown",
   "metadata": {},
   "source": [
    "### Installing Packages\n",
    "\n",
    "Have you ever wondered why we installed and activated the virtual environment?! To install needful packages there without breaking (possibly) existing dependencies at the system level.\n",
    "\n",
    "1. upgrading `pip` to the latest version\n",
    "\n",
    "    ```shell\n",
    "    ╰─➤  pip3 install --upgrade pip\n",
    "    Requirement already satisfied: pip in ./sqla/lib/python3.10/site-packages (22.0.2)\n",
    "    Collecting pip\n",
    "    Downloading pip-23.3.1-py3-none-any.whl (2.1 MB)\n",
    "        ━━━━━━━━━━━━━━━━━━━━━━━━━━━━━ 2.1/2.1 MB 5.5 MB/s eta 0:00:00\n",
    "    Installing collected packages: pip\n",
    "    Attempting uninstall: pip\n",
    "        Found existing installation: pip 22.0.2\n",
    "        Uninstalling pip-22.0.2:\n",
    "        Successfully uninstalled pip-22.0.2\n",
    "    Successfully installed pip-23.3.1\n",
    "    ```\n",
    "\n",
    "2. installing sqlalchemy since the version 2 (only)\n",
    "\n",
    "    ```shell\n",
    "    ╰─➤  pip3 install \"sqlalchemy>=2\"\n",
    "    Collecting sqlalchemy>=2\n",
    "    Downloading SQLAlchemy-2.0.22-cp310-cp310-manylinux_2_17_x86_64.manylinux2014_x86_64.whl.metadata (9.4 kB)\n",
    "    Collecting typing-extensions>=4.2.0 (from sqlalchemy>=2)\n",
    "    Downloading typing_extensions-4.8.0-py3-none-any.whl.metadata (3.0 kB)\n",
    "    Collecting greenlet!=0.4.17 (from sqlalchemy>=2)\n",
    "    Downloading greenlet-3.0.0-cp310-cp310-manylinux_2_24_x86_64.manylinux_2_28_x86_64.whl.metadata (3.8 kB)\n",
    "    Downloading SQLAlchemy-2.0.22-cp310-cp310-manylinux_2_17_x86_64.manylinux2014_x86_64.whl (3.0 MB)\n",
    "    ━━━━━━━━━━━━━━━━━━━━━━━━━━━━━━━ 3.0/3.0 MB 7.1 MB/s eta 0:00:00\n",
    "    Downloading greenlet-3.0.0-cp310-cp310-manylinux_2_24_x86_64.manylinux_2_28_x86_64.whl (612 kB)\n",
    "    ━━━━━━━━━━━━━━━━━━━━━━━━━━ 612.9/612.9 kB 31.8 MB/s eta 0:00:00\n",
    "    Downloading typing_extensions-4.8.0-py3-none-any.whl (31 kB)\n",
    "    Installing collected packages: typing-extensions, greenlet, sqlalchemy\n",
    "    Successfully installed greenlet-3.0.0 sqlalchemy-2.0.22 typing-extensions-4.8.0\n",
    "    ```\n",
    "\n",
    "The second version of SQLAlchemy is vital: major API changes and asyncio support. For more details, [SQLAlchemy installation](https://docs.sqlalchemy.org/en/20/intro.html#installation) section is all yours.\n",
    "\n",
    "Throughout these notes we shall only code in the framework of asynchronous programming.\n",
    "\n",
    "**A piece of advice**: if you know little or nothing about concurrency, you definitly need to master it. In my humble opinion, a good starter for concurrency in Python is [SuperFastPython](https://superfastpython.com/) site. A well-grounded understanding of Python `asyncio` module and practices can be grasped:\n",
    "\n",
    "- [SuperFastPython: asyncio learning path](https://superfastpython.com/learning-paths/#Asyncio_Learning_Path)\n",
    "\n",
    "- [Python Concurrency with asyncio by Matthew Fowler](https://www.manning.com/books/python-concurrency-with-asyncio)"
   ]
  },
  {
   "cell_type": "markdown",
   "metadata": {},
   "source": [
    "And now, SQLAlchemy is accessible."
   ]
  },
  {
   "cell_type": "code",
   "execution_count": 1,
   "metadata": {},
   "outputs": [
    {
     "name": "stdout",
     "output_type": "stream",
     "text": [
      "SQLAlchemy version: 2.0.22\n"
     ]
    }
   ],
   "source": [
    "import sqlalchemy as sqla\n",
    "import sqlalchemy.ext.asyncio as async_sqla\n",
    "\n",
    "\n",
    "print(f\"SQLAlchemy version: {sqla.__version__}\")"
   ]
  },
  {
   "cell_type": "markdown",
   "metadata": {},
   "source": [
    "### SQLite in Python\n",
    "\n",
    "Python has a standard [sqlite3](https://docs.python.org/3/library/sqlite3.html) module that provides an SQL interface compliant with the DB-API 2.0 specification to interact with the SQLite ([home page](https://www.sqlite.org/index.html)) library. Feel free to walk through this [SQLite tutorial](https://www.sqlitetutorial.net/sqlite-python/) if you need a refreshment.\n",
    "\n",
    "One thing to remember: sqlite3 is for synchronous code, but we need an asynchronous one, that is why a DB-API driver (library) with asyncio support is wanted, for example, [aiosqlite](https://aiosqlite.omnilib.dev/en/stable/)."
   ]
  },
  {
   "cell_type": "code",
   "execution_count": 8,
   "metadata": {},
   "outputs": [],
   "source": [
    "import aiosqlite\n",
    "\n",
    "# in-memory SQLite database - no file is desired for now\n",
    "aiosqlite_url: str = \":memory:\""
   ]
  },
  {
   "cell_type": "code",
   "execution_count": 12,
   "metadata": {},
   "outputs": [
    {
     "name": "stdout",
     "output_type": "stream",
     "text": [
      "Statement = `SELECT 1 + 1;`\n",
      "Row = (2,)\n"
     ]
    }
   ],
   "source": [
    "\n",
    "async with aiosqlite.connect(aiosqlite_url) as db:\n",
    "    stmt = \"SELECT 1 + 1;\"\n",
    "    async with db.execute(stmt) as cursor:\n",
    "        print(f\"Statement = `{stmt}`\")\n",
    "        async for row in cursor:\n",
    "            print(f\"Row = {row}\")"
   ]
  },
  {
   "cell_type": "markdown",
   "metadata": {},
   "source": [
    "Let's practice with aiosqlite and introduce some more SQL code by:\n",
    "\n",
    "- creating a table\n",
    "\n",
    "- inserting some data into it\n",
    "\n",
    "- selecting data from the table depending on our needs"
   ]
  },
  {
   "cell_type": "markdown",
   "metadata": {},
   "source": [
    "### SQLAlchemy rails\n",
    "\n",
    "Moving from SQLite into SQLAlchemy."
   ]
  },
  {
   "cell_type": "markdown",
   "metadata": {},
   "source": [
    "### Why SQLAlchemy?\n",
    "\n",
    "All right, we know how to interact with a database via aiosqlite DB-API, but how does it relate to SQLAlchemy? Long story short: there are different vendors of databases like PostgreSQL, Oracle and so forth. They have their SQL versions, called SQL-dialects, that must be compatible with the ANSI SQL standard, but not coherent with one another. For instance, a mere `SELECT 1+1;` query will be valid for PostgreSQL, but will fail when processed by Oracle - for Oracle you need `SELECT 1+1 FROM DUAL` query.\n",
    "\n",
    "So, even by the example of `SELECT 1+1;` query the portability of SQL code cannot be guaranteed from a vendor to a vendor. But SQLAlchemy will generate an SQL code under the hood depending on the vendor specification (roughly speaking).\n",
    "\n",
    "PostgreSQL case:\n",
    "\n",
    "![PostgreSQL \"select 1+1;\"](./postgresql_select_1+1.png \"PostgreSQL 'select 1+1;'\")\n",
    "\n",
    "Oracle case (from [Geeks-For-Geeks](https://www.geeksforgeeks.org/dual-table-in-sql/)):\n",
    "\n",
    "![Oracle \"FROM DUAL;\"](./oracle_from_dual.png 'Oracle \"FROM DUAL;\"')"
   ]
  },
  {
   "cell_type": "markdown",
   "metadata": {},
   "source": [
    "The second benefit from SQLAlchemy is protection from SQL injections."
   ]
  },
  {
   "cell_type": "markdown",
   "metadata": {},
   "source": [
    "- [SQLAlchemy ORM Tutorial: YouTube](https://www.youtube.com/playlist?list=PL4iRawDSyRvVd1V7A45YtAGzDk6ljVPm1)\n",
    "\n",
    "- [SQLite in SQLAlchemy](https://docs.sqlalchemy.org/en/20/dialects/sqlite.html)\n",
    "\n",
    "- [aiosqlite docs](https://pypi.org/project/aiosqlite/)\n",
    "\n",
    "- [asyncpg docs](https://magicstack.github.io/asyncpg/current/)"
   ]
  },
  {
   "cell_type": "markdown",
   "metadata": {},
   "source": [
    "### References\n",
    "\n",
    "- [SQLAlchemy asyncio tutorial](https://docs.sqlalchemy.org/en/20/orm/extensions/asyncio.html)\n",
    "\n",
    "- [SQLite FAQ](https://www.sqlite.org/faq.html)\n",
    "\n",
    "- SQL statements:\n",
    "\n",
    "  - [W3Schools: CREATE TABLE](https://www.w3schools.com/sql/sql_create_table.asp)\n",
    "\n",
    "  - [W3Schools: INSERT INTO 'tablename' VALUES ...](https://www.w3schools.com/sql/sql_insert.asp)\n",
    "\n",
    "  - [W3Schools: SELECT ... FROM 'tablename'](https://www.w3schools.com/sql/sql_select.asp)\n",
    "\n",
    "  - ALTER TABLE or RENAME TABLE variants [(Tutorials Point)](https://www.tutorialspoint.com/sql/sql-rename-table.htm)\n",
    "\n",
    "- Problem-addressing references:\n",
    "\n",
    "  - [SQLAlchemy: reflection](https://docs.sqlalchemy.org/en/20/core/reflection.html)\n",
    "\n",
    "  - [GitHub: SQLAlchemy Runtime Inspection API doesn't support AsyncEngine #6121](https://github.com/sqlalchemy/sqlalchemy/issues/6121)\n",
    "\n",
    "  - [Stack Overflow: Get existing table using SQLAlchemy MetaData](https://stackoverflow.com/questions/44193823/get-existing-table-using-sqlalchemy-metadata)\n",
    "\n",
    "  - [Stack Overflow: How to delete a table in SQLAlchemy?](https://stackoverflow.com/questions/35918605/how-to-delete-a-table-in-sqlalchemy)\n",
    "\n",
    "  - [Youtube: Using SQLAlchemy Asynchronously With AsyncIO (SQLAlchemy 2.0)](https://www.youtube.com/watch?v=hkvngd_BUrY)"
   ]
  }
 ],
 "metadata": {
  "kernelspec": {
   "display_name": "sqla",
   "language": "python",
   "name": "python3"
  },
  "language_info": {
   "codemirror_mode": {
    "name": "ipython",
    "version": 3
   },
   "file_extension": ".py",
   "mimetype": "text/x-python",
   "name": "python",
   "nbconvert_exporter": "python",
   "pygments_lexer": "ipython3",
   "version": "3.10.12"
  }
 },
 "nbformat": 4,
 "nbformat_minor": 2
}
